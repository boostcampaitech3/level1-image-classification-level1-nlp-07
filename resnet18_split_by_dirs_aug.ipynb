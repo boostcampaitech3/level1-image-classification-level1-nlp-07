{
 "cells": [
  {
   "cell_type": "code",
   "execution_count": null,
   "id": "d4174990-1749-4c43-8bb1-e1668f5979d6",
   "metadata": {},
   "outputs": [],
   "source": []
  },
  {
   "cell_type": "code",
   "execution_count": 1,
   "id": "41bd17a2-2e4a-44df-b859-9a4fb45fd3fe",
   "metadata": {},
   "outputs": [],
   "source": [
    "import os\n",
    "import numpy as np\n",
    "import pandas as pd\n",
    "import math\n",
    "import matplotlib.pyplot as plt\n",
    "from PIL import Image\n",
    "\n",
    "import torch\n",
    "#import torchtext\n",
    "import random\n",
    "import torchvision\n",
    "import torch.nn as nn\n",
    "import torch.optim as optim\n",
    "import torch.nn.functional as F\n",
    "#from torchvision import transforms, utils\n",
    "#from torchvision.transforms import Resize, ToTensor, Normalize\n",
    "from torch.utils.data import Dataset, DataLoader, random_split, SubsetRandomSampler, WeightedRandomSampler\n",
    "\n",
    "from albumentations.pytorch import transforms\n",
    "import albumentations as A\n",
    "import cv2"
   ]
  },
  {
   "cell_type": "code",
   "execution_count": 2,
   "id": "2221a3a5-92d4-4de5-9bb5-817b48f4840b",
   "metadata": {},
   "outputs": [],
   "source": [
    "def set_seed(seed = 42):\n",
    "    random.seed(seed)\n",
    "    np.random.seed(seed)\n",
    "    torch.manual_seed(seed)\n",
    "    torch.cuda.manual_seed(seed)\n",
    "    os.environ['PYTHONHASHSEED'] = str(seed)\n",
    "    torch.backends.cudnn.deterministic = True\n",
    "\n",
    "seed = 42\n",
    "set_seed(seed)"
   ]
  },
  {
   "cell_type": "code",
   "execution_count": 3,
   "id": "abd1cde4-0258-4599-b2ce-ba4edf3cc32e",
   "metadata": {},
   "outputs": [],
   "source": [
    "train_path = '/opt/ml/input/data/train'\n",
    "train_image_dir_path = os.path.join(train_path, 'images')"
   ]
  },
  {
   "cell_type": "code",
   "execution_count": 4,
   "id": "ca095449-d8fc-4b45-913b-e8c8e56f687b",
   "metadata": {},
   "outputs": [
    {
     "data": {
      "text/plain": [
       "2700"
      ]
     },
     "execution_count": 4,
     "metadata": {},
     "output_type": "execute_result"
    }
   ],
   "source": [
    "# images 디렉토리안의 디렉토리 가져옴\n",
    "dir_list = [i_dir for i_dir in os.listdir(train_image_dir_path) if i_dir[0] != '.']\n",
    "len(dir_list)"
   ]
  },
  {
   "cell_type": "code",
   "execution_count": 5,
   "id": "db975508-d526-4d75-9c75-591d3753fb63",
   "metadata": {},
   "outputs": [],
   "source": [
    "dir_df = pd.DataFrame(dir_list, columns = ['dir_path'])"
   ]
  },
  {
   "cell_type": "code",
   "execution_count": 6,
   "id": "e6cce048-a1ac-4fcd-bd47-35bca7520e84",
   "metadata": {},
   "outputs": [],
   "source": [
    "# 디렉토리 이름만 가지고 라벨링, 마스크여부랑 상관없이 gender, age 만 가지고 라벨링\n",
    "def dir_labeling(name):\n",
    "    label = 0\n",
    "    info = name.split('_')\n",
    "    gender, age = info[1], int(info[3])\n",
    "    if gender == 'female':\n",
    "        label += 3\n",
    "    \n",
    "    if 30 <= age < 60:\n",
    "        label += 1\n",
    "    elif age >= 60:\n",
    "        label += 2\n",
    "\n",
    "    return label"
   ]
  },
  {
   "cell_type": "code",
   "execution_count": 7,
   "id": "e985d5f2-eb03-4c31-abdd-c81c0360af6d",
   "metadata": {},
   "outputs": [
    {
     "name": "stdout",
     "output_type": "stream",
     "text": [
      "(2700, 2)\n"
     ]
    },
    {
     "data": {
      "text/html": [
       "<div>\n",
       "<style scoped>\n",
       "    .dataframe tbody tr th:only-of-type {\n",
       "        vertical-align: middle;\n",
       "    }\n",
       "\n",
       "    .dataframe tbody tr th {\n",
       "        vertical-align: top;\n",
       "    }\n",
       "\n",
       "    .dataframe thead th {\n",
       "        text-align: right;\n",
       "    }\n",
       "</style>\n",
       "<table border=\"1\" class=\"dataframe\">\n",
       "  <thead>\n",
       "    <tr style=\"text-align: right;\">\n",
       "      <th></th>\n",
       "      <th>dir_path</th>\n",
       "      <th>label</th>\n",
       "    </tr>\n",
       "  </thead>\n",
       "  <tbody>\n",
       "    <tr>\n",
       "      <th>0</th>\n",
       "      <td>001401_male_Asian_48</td>\n",
       "      <td>1</td>\n",
       "    </tr>\n",
       "    <tr>\n",
       "      <th>1</th>\n",
       "      <td>003439_male_Asian_58</td>\n",
       "      <td>1</td>\n",
       "    </tr>\n",
       "    <tr>\n",
       "      <th>2</th>\n",
       "      <td>003871_female_Asian_57</td>\n",
       "      <td>4</td>\n",
       "    </tr>\n",
       "    <tr>\n",
       "      <th>3</th>\n",
       "      <td>001661_female_Asian_45</td>\n",
       "      <td>4</td>\n",
       "    </tr>\n",
       "    <tr>\n",
       "      <th>4</th>\n",
       "      <td>004384_female_Asian_60</td>\n",
       "      <td>5</td>\n",
       "    </tr>\n",
       "  </tbody>\n",
       "</table>\n",
       "</div>"
      ],
      "text/plain": [
       "                 dir_path  label\n",
       "0    001401_male_Asian_48      1\n",
       "1    003439_male_Asian_58      1\n",
       "2  003871_female_Asian_57      4\n",
       "3  001661_female_Asian_45      4\n",
       "4  004384_female_Asian_60      5"
      ]
     },
     "execution_count": 7,
     "metadata": {},
     "output_type": "execute_result"
    }
   ],
   "source": [
    "dir_df['label'] = dir_df['dir_path'].map(lambda X : dir_labeling(X))\n",
    "print(dir_df.shape)\n",
    "dir_df[:5]"
   ]
  },
  {
   "cell_type": "code",
   "execution_count": 8,
   "id": "f6930ef7-733c-4ef9-a8f4-3f1f2a52fbea",
   "metadata": {},
   "outputs": [],
   "source": [
    "# 사람이 겹치지 않게 train, valid 나눔\n",
    "from sklearn.model_selection import train_test_split\n",
    "train_dirs, valid_dirs = train_test_split(dir_df, test_size= 0.1, \n",
    "                                shuffle = True, stratify= dir_df['label'], \n",
    "                                random_state = seed)"
   ]
  },
  {
   "cell_type": "code",
   "execution_count": 9,
   "id": "711fa605-1690-4f5e-a6fc-45ebcc38966f",
   "metadata": {},
   "outputs": [
    {
     "data": {
      "text/plain": [
       "((2430, 2), (270, 2))"
      ]
     },
     "execution_count": 9,
     "metadata": {},
     "output_type": "execute_result"
    }
   ],
   "source": [
    "train_dirs.shape, valid_dirs.shape"
   ]
  },
  {
   "cell_type": "code",
   "execution_count": 10,
   "id": "b355c80c-c0ea-43b4-8817-3f14678ecb35",
   "metadata": {},
   "outputs": [],
   "source": [
    "# 디렉토리안의 파일을 가져옴\n",
    "def make_each_path(dirs):\n",
    "    result = []\n",
    "    for image_path in list(dirs['dir_path']):\n",
    "        d_name = os.path.join(train_image_dir_path, image_path)\n",
    "        filenames = os.listdir(d_name)\n",
    "        for filename in filenames:\n",
    "            if filename[0] == '.':\n",
    "                continue\n",
    "            full_file_name = os.path.join(d_name, filename)\n",
    "            result.append(full_file_name)\n",
    "    return result"
   ]
  },
  {
   "cell_type": "code",
   "execution_count": 11,
   "id": "4b551ed3-1a3b-426c-9759-f66be5ed62ef",
   "metadata": {},
   "outputs": [
    {
     "name": "stdout",
     "output_type": "stream",
     "text": [
      "17010\n"
     ]
    }
   ],
   "source": [
    "# train의 파일 \n",
    "train_path = make_each_path(train_dirs)\n",
    "print(len(train_path))\n",
    "#train_path[:10]"
   ]
  },
  {
   "cell_type": "code",
   "execution_count": 14,
   "id": "ce1079f8-2a5d-44ff-ab37-71ae3fc484b7",
   "metadata": {},
   "outputs": [
    {
     "data": {
      "text/plain": [
       "1890"
      ]
     },
     "execution_count": 14,
     "metadata": {},
     "output_type": "execute_result"
    }
   ],
   "source": [
    "# valid의 파일\n",
    "valid_path = make_each_path(valid_dirs)\n",
    "len(valid_path)"
   ]
  },
  {
   "cell_type": "code",
   "execution_count": 15,
   "id": "73c6f43b-d66c-40bf-ac6f-48ed386c54b0",
   "metadata": {},
   "outputs": [],
   "source": [
    "train_path_label = pd.DataFrame(train_path, columns = ['path'])\n",
    "valid_path_label = pd.DataFrame(valid_path, columns = ['path'])"
   ]
  },
  {
   "cell_type": "code",
   "execution_count": 16,
   "id": "df177f56-0df3-476e-891b-0c3da00b5d74",
   "metadata": {},
   "outputs": [],
   "source": [
    "# 파일을 라벨링\n",
    "def labeling(name):\n",
    "    label = 0\n",
    "    info, mask_type = name.split('/')[-2:]\n",
    "    info = info.split('_')\n",
    "    gender, age = info[1], int(info[3])\n",
    "    if 'incorrect' in mask_type:\n",
    "        label += 6\n",
    "    elif 'normal' in mask_type:\n",
    "        label += 12\n",
    "    \n",
    "    if gender == 'female':\n",
    "        label += 3\n",
    "        \n",
    "    if 30 <= age < 60:\n",
    "        label += 1\n",
    "    elif age >= 60:\n",
    "        label += 2\n",
    "    \n",
    "    return label"
   ]
  },
  {
   "cell_type": "code",
   "execution_count": 17,
   "id": "de87df24-e552-40b9-a065-f5164623dc3d",
   "metadata": {},
   "outputs": [],
   "source": [
    "train_path_label['label'] = train_path_label['path'].map(lambda x : labeling(x))\n",
    "valid_path_label['label'] = valid_path_label['path'].map(lambda x : labeling(x))"
   ]
  },
  {
   "cell_type": "code",
   "execution_count": 18,
   "id": "cf904faa-c6b8-4cb7-b10c-391ae3b6e9aa",
   "metadata": {},
   "outputs": [
    {
     "data": {
      "text/html": [
       "<div>\n",
       "<style scoped>\n",
       "    .dataframe tbody tr th:only-of-type {\n",
       "        vertical-align: middle;\n",
       "    }\n",
       "\n",
       "    .dataframe tbody tr th {\n",
       "        vertical-align: top;\n",
       "    }\n",
       "\n",
       "    .dataframe thead th {\n",
       "        text-align: right;\n",
       "    }\n",
       "</style>\n",
       "<table border=\"1\" class=\"dataframe\">\n",
       "  <thead>\n",
       "    <tr style=\"text-align: right;\">\n",
       "      <th></th>\n",
       "      <th>path</th>\n",
       "      <th>label</th>\n",
       "    </tr>\n",
       "  </thead>\n",
       "  <tbody>\n",
       "    <tr>\n",
       "      <th>0</th>\n",
       "      <td>/opt/ml/input/data/train/images/000732_female_...</td>\n",
       "      <td>16</td>\n",
       "    </tr>\n",
       "    <tr>\n",
       "      <th>1</th>\n",
       "      <td>/opt/ml/input/data/train/images/000732_female_...</td>\n",
       "      <td>10</td>\n",
       "    </tr>\n",
       "    <tr>\n",
       "      <th>2</th>\n",
       "      <td>/opt/ml/input/data/train/images/000732_female_...</td>\n",
       "      <td>4</td>\n",
       "    </tr>\n",
       "  </tbody>\n",
       "</table>\n",
       "</div>"
      ],
      "text/plain": [
       "                                                path  label\n",
       "0  /opt/ml/input/data/train/images/000732_female_...     16\n",
       "1  /opt/ml/input/data/train/images/000732_female_...     10\n",
       "2  /opt/ml/input/data/train/images/000732_female_...      4"
      ]
     },
     "execution_count": 18,
     "metadata": {},
     "output_type": "execute_result"
    }
   ],
   "source": [
    "train_path_label[:3]"
   ]
  },
  {
   "cell_type": "code",
   "execution_count": 19,
   "id": "b10af230-9176-450a-aeb1-2615e1c613c3",
   "metadata": {},
   "outputs": [
    {
     "data": {
      "image/png": "[encoded data removed]",
      "text/plain": [
       "<Figure size 504x720 with 1 Axes>"
      ]
     },
     "metadata": {
      "needs_background": "light"
     },
     "output_type": "display_data"
    }
   ],
   "source": [
    "# train 데이터의 클래스 별 개수\n",
    "train_counts = train_path_label['label'].value_counts(dropna=False).sort_index().to_frame() #/ len(train_path_label) * 100\n",
    "plt.figure(figsize = (7, 10))\n",
    "plt.barh(train_counts.index, train_counts['label'])\n",
    "plt.yticks(range(18));"
   ]
  },
  {
   "cell_type": "code",
   "execution_count": 20,
   "id": "aa844933-7253-427e-907c-08485ee28368",
   "metadata": {},
   "outputs": [
    {
     "data": {
      "image/png": "[encoded data removed]",
      "text/plain": [
       "<Figure size 504x720 with 1 Axes>"
      ]
     },
     "metadata": {
      "needs_background": "light"
     },
     "output_type": "display_data"
    }
   ],
   "source": [
    "# valid의 클래스별 개수\n",
    "valid_counts = valid_path_label['label'].value_counts(dropna=False).sort_index().to_frame()\n",
    "plt.figure(figsize = (7, 10))\n",
    "plt.barh(valid_counts.index, valid_counts['label'])\n",
    "plt.yticks(range(18));"
   ]
  },
  {
   "cell_type": "code",
   "execution_count": null,
   "id": "5d53e8c4-fa6e-4fe7-96ff-d6f41fd5ba4b",
   "metadata": {},
   "outputs": [],
   "source": []
  },
  {
   "cell_type": "code",
   "execution_count": 45,
   "id": "37f833ef-26aa-4b08-91d5-e56fe86d02b8",
   "metadata": {},
   "outputs": [],
   "source": [
    "# 4, 3, 1, 0    1000개 까지 줄여보기 -> random sample\n",
    "# 17, 14, 11, 8    5배 -> path를 복사하고 transform 여부 주기\n",
    "# 16, 15, 13, 12, 10, 9, 7, 6, 5, 2,   2배 -> path를 복사하고 transform 여부 주기\n",
    "\n",
    "# -> 이 데이터들을 합쳐서 쓸거다."
   ]
  },
  {
   "cell_type": "code",
   "execution_count": 362,
   "id": "a0215e1e-1d06-4ad4-8049-6c091b663376",
   "metadata": {},
   "outputs": [
    {
     "data": {
      "text/html": [
       "<div>\n",
       "<style scoped>\n",
       "    .dataframe tbody tr th:only-of-type {\n",
       "        vertical-align: middle;\n",
       "    }\n",
       "\n",
       "    .dataframe tbody tr th {\n",
       "        vertical-align: top;\n",
       "    }\n",
       "\n",
       "    .dataframe thead th {\n",
       "        text-align: right;\n",
       "    }\n",
       "</style>\n",
       "<table border=\"1\" class=\"dataframe\">\n",
       "  <thead>\n",
       "    <tr style=\"text-align: right;\">\n",
       "      <th></th>\n",
       "      <th>path</th>\n",
       "      <th>label</th>\n",
       "      <th>is_aug</th>\n",
       "    </tr>\n",
       "  </thead>\n",
       "  <tbody>\n",
       "    <tr>\n",
       "      <th>0</th>\n",
       "      <td>/opt/ml/input/data/train/images/000732_female_...</td>\n",
       "      <td>16</td>\n",
       "      <td>0</td>\n",
       "    </tr>\n",
       "    <tr>\n",
       "      <th>1</th>\n",
       "      <td>/opt/ml/input/data/train/images/000732_female_...</td>\n",
       "      <td>10</td>\n",
       "      <td>0</td>\n",
       "    </tr>\n",
       "    <tr>\n",
       "      <th>2</th>\n",
       "      <td>/opt/ml/input/data/train/images/000732_female_...</td>\n",
       "      <td>4</td>\n",
       "      <td>0</td>\n",
       "    </tr>\n",
       "    <tr>\n",
       "      <th>3</th>\n",
       "      <td>/opt/ml/input/data/train/images/000732_female_...</td>\n",
       "      <td>4</td>\n",
       "      <td>0</td>\n",
       "    </tr>\n",
       "    <tr>\n",
       "      <th>4</th>\n",
       "      <td>/opt/ml/input/data/train/images/000732_female_...</td>\n",
       "      <td>4</td>\n",
       "      <td>0</td>\n",
       "    </tr>\n",
       "    <tr>\n",
       "      <th>...</th>\n",
       "      <td>...</td>\n",
       "      <td>...</td>\n",
       "      <td>...</td>\n",
       "    </tr>\n",
       "    <tr>\n",
       "      <th>17005</th>\n",
       "      <td>/opt/ml/input/data/train/images/005146_female_...</td>\n",
       "      <td>4</td>\n",
       "      <td>0</td>\n",
       "    </tr>\n",
       "    <tr>\n",
       "      <th>17006</th>\n",
       "      <td>/opt/ml/input/data/train/images/005146_female_...</td>\n",
       "      <td>4</td>\n",
       "      <td>0</td>\n",
       "    </tr>\n",
       "    <tr>\n",
       "      <th>17007</th>\n",
       "      <td>/opt/ml/input/data/train/images/005146_female_...</td>\n",
       "      <td>4</td>\n",
       "      <td>0</td>\n",
       "    </tr>\n",
       "    <tr>\n",
       "      <th>17008</th>\n",
       "      <td>/opt/ml/input/data/train/images/005146_female_...</td>\n",
       "      <td>4</td>\n",
       "      <td>0</td>\n",
       "    </tr>\n",
       "    <tr>\n",
       "      <th>17009</th>\n",
       "      <td>/opt/ml/input/data/train/images/005146_female_...</td>\n",
       "      <td>4</td>\n",
       "      <td>0</td>\n",
       "    </tr>\n",
       "  </tbody>\n",
       "</table>\n",
       "<p>17010 rows × 3 columns</p>\n",
       "</div>"
      ],
      "text/plain": [
       "                                                    path  label  is_aug\n",
       "0      /opt/ml/input/data/train/images/000732_female_...     16       0\n",
       "1      /opt/ml/input/data/train/images/000732_female_...     10       0\n",
       "2      /opt/ml/input/data/train/images/000732_female_...      4       0\n",
       "3      /opt/ml/input/data/train/images/000732_female_...      4       0\n",
       "4      /opt/ml/input/data/train/images/000732_female_...      4       0\n",
       "...                                                  ...    ...     ...\n",
       "17005  /opt/ml/input/data/train/images/005146_female_...      4       0\n",
       "17006  /opt/ml/input/data/train/images/005146_female_...      4       0\n",
       "17007  /opt/ml/input/data/train/images/005146_female_...      4       0\n",
       "17008  /opt/ml/input/data/train/images/005146_female_...      4       0\n",
       "17009  /opt/ml/input/data/train/images/005146_female_...      4       0\n",
       "\n",
       "[17010 rows x 3 columns]"
      ]
     },
     "execution_count": 362,
     "metadata": {},
     "output_type": "execute_result"
    }
   ],
   "source": [
    "# augmentation 여부를 is_aug라는 column만들어서 표시\n",
    "train_path_label['is_aug'] = 0\n",
    "train_path_label"
   ]
  },
  {
   "cell_type": "code",
   "execution_count": 382,
   "id": "83be2b31-c425-4000-a5c0-602dffd74f9b",
   "metadata": {},
   "outputs": [
    {
     "data": {
      "text/plain": [
       "(4000, 3)"
      ]
     },
     "execution_count": 382,
     "metadata": {},
     "output_type": "execute_result"
    }
   ],
   "source": [
    "# 0, 1, 3, 4, data 1000개까지 줄임\n",
    "down_label_4_df = train_path_label[train_path_label['label']==4].sample(n=1000, random_state=seed)\n",
    "down_label_3_df = train_path_label[train_path_label['label']==3].sample(n=1000, random_state=seed)\n",
    "down_label_1_df = train_path_label[train_path_label['label']==1].sample(n=1000, random_state=seed)\n",
    "down_label_0_df = train_path_label[train_path_label['label']==0].sample(n=1000, random_state=seed)\n",
    "\n",
    "# 각각 1000개 까지 줄인 데이터를 합침\n",
    "down_df = pd.concat([down_label_4_df, down_label_3_df, down_label_1_df, down_label_0_df])\n",
    "down_df.shape"
   ]
  },
  {
   "cell_type": "code",
   "execution_count": 384,
   "id": "284df8f5-a535-459c-b0bc-9109e435a520",
   "metadata": {},
   "outputs": [
    {
     "name": "stdout",
     "output_type": "stream",
     "text": [
      "(346, 3) (5379, 3)\n",
      "(1730, 3) (10758, 3)\n"
     ]
    },
    {
     "data": {
      "text/plain": [
       "(12488, 3)"
      ]
     },
     "execution_count": 384,
     "metadata": {},
     "output_type": "execute_result"
    }
   ],
   "source": [
    "# augmentation 할 데이터들, 5배하는거랑 2배 하는거 만들고 합침, is_aug = 1 로 설정\n",
    "mul_5 = [8, 11, 14, 17]\n",
    "mul_2 = [2, 5, 6, 7, 9, 10, 12, 13, 15, 16]\n",
    "\n",
    "mul_5_each_df = train_path_label[train_path_label['label'].isin(mul_5)]\n",
    "mul_2_each_df = train_path_label[train_path_label['label'].isin(mul_2)]\n",
    "print(mul_5_each_df.shape, mul_2_each_df.shape)\n",
    "\n",
    "mul_5_df = pd.concat([mul_5_each_df, mul_5_each_df, mul_5_each_df, mul_5_each_df, mul_5_each_df])\n",
    "mul_2_df = pd.concat([mul_2_each_df, mul_2_each_df])\n",
    "print(mul_5_df.shape, mul_2_df.shape)\n",
    "mul_df = pd.concat([mul_5_df, mul_2_df])\n",
    "mul_df.loc[:,'is_aug'] = 1\n",
    "mul_df.shape"
   ]
  },
  {
   "cell_type": "code",
   "execution_count": 387,
   "id": "1ce78a3e-11c0-4bcc-897a-7dae046fa33d",
   "metadata": {},
   "outputs": [
    {
     "name": "stdout",
     "output_type": "stream",
     "text": [
      "(16488, 3)\n"
     ]
    },
    {
     "data": {
      "text/html": [
       "<div>\n",
       "<style scoped>\n",
       "    .dataframe tbody tr th:only-of-type {\n",
       "        vertical-align: middle;\n",
       "    }\n",
       "\n",
       "    .dataframe tbody tr th {\n",
       "        vertical-align: top;\n",
       "    }\n",
       "\n",
       "    .dataframe thead th {\n",
       "        text-align: right;\n",
       "    }\n",
       "</style>\n",
       "<table border=\"1\" class=\"dataframe\">\n",
       "  <thead>\n",
       "    <tr style=\"text-align: right;\">\n",
       "      <th></th>\n",
       "      <th>path</th>\n",
       "      <th>label</th>\n",
       "      <th>is_aug</th>\n",
       "    </tr>\n",
       "  </thead>\n",
       "  <tbody>\n",
       "    <tr>\n",
       "      <th>0</th>\n",
       "      <td>/opt/ml/input/data/train/images/001461_female_...</td>\n",
       "      <td>16</td>\n",
       "      <td>1</td>\n",
       "    </tr>\n",
       "    <tr>\n",
       "      <th>1</th>\n",
       "      <td>/opt/ml/input/data/train/images/004273_female_...</td>\n",
       "      <td>10</td>\n",
       "      <td>1</td>\n",
       "    </tr>\n",
       "    <tr>\n",
       "      <th>2</th>\n",
       "      <td>/opt/ml/input/data/train/images/005073_female_...</td>\n",
       "      <td>16</td>\n",
       "      <td>1</td>\n",
       "    </tr>\n",
       "    <tr>\n",
       "      <th>3</th>\n",
       "      <td>/opt/ml/input/data/train/images/004080_female_...</td>\n",
       "      <td>5</td>\n",
       "      <td>1</td>\n",
       "    </tr>\n",
       "    <tr>\n",
       "      <th>4</th>\n",
       "      <td>/opt/ml/input/data/train/images/006516_male_As...</td>\n",
       "      <td>12</td>\n",
       "      <td>1</td>\n",
       "    </tr>\n",
       "    <tr>\n",
       "      <th>5</th>\n",
       "      <td>/opt/ml/input/data/train/images/001457_male_As...</td>\n",
       "      <td>7</td>\n",
       "      <td>1</td>\n",
       "    </tr>\n",
       "    <tr>\n",
       "      <th>6</th>\n",
       "      <td>/opt/ml/input/data/train/images/004272_male_As...</td>\n",
       "      <td>1</td>\n",
       "      <td>0</td>\n",
       "    </tr>\n",
       "    <tr>\n",
       "      <th>7</th>\n",
       "      <td>/opt/ml/input/data/train/images/006513_male_As...</td>\n",
       "      <td>0</td>\n",
       "      <td>0</td>\n",
       "    </tr>\n",
       "    <tr>\n",
       "      <th>8</th>\n",
       "      <td>/opt/ml/input/data/train/images/001226_male_As...</td>\n",
       "      <td>12</td>\n",
       "      <td>1</td>\n",
       "    </tr>\n",
       "    <tr>\n",
       "      <th>9</th>\n",
       "      <td>/opt/ml/input/data/train/images/004439_female_...</td>\n",
       "      <td>9</td>\n",
       "      <td>1</td>\n",
       "    </tr>\n",
       "  </tbody>\n",
       "</table>\n",
       "</div>"
      ],
      "text/plain": [
       "                                                path  label  is_aug\n",
       "0  /opt/ml/input/data/train/images/001461_female_...     16       1\n",
       "1  /opt/ml/input/data/train/images/004273_female_...     10       1\n",
       "2  /opt/ml/input/data/train/images/005073_female_...     16       1\n",
       "3  /opt/ml/input/data/train/images/004080_female_...      5       1\n",
       "4  /opt/ml/input/data/train/images/006516_male_As...     12       1\n",
       "5  /opt/ml/input/data/train/images/001457_male_As...      7       1\n",
       "6  /opt/ml/input/data/train/images/004272_male_As...      1       0\n",
       "7  /opt/ml/input/data/train/images/006513_male_As...      0       0\n",
       "8  /opt/ml/input/data/train/images/001226_male_As...     12       1\n",
       "9  /opt/ml/input/data/train/images/004439_female_...      9       1"
      ]
     },
     "execution_count": 387,
     "metadata": {},
     "output_type": "execute_result"
    }
   ],
   "source": [
    "# 줄이거나 늘린 데이터 path를 합침\n",
    "# is_aug가 1인 녀석들은 transform을 이용해서 원본에 조금 변화를 줄것이다\n",
    "train_path_label_aug = pd.concat([down_df, mul_df], ignore_index = True)\n",
    "train_path_label_aug = train_path_label_aug.sample(frac=1).reset_index(drop=True) # shuffle\n",
    "print(train_path_label_aug.shape)\n",
    "train_path_label_aug[:10]"
   ]
  },
  {
   "cell_type": "code",
   "execution_count": 408,
   "id": "f04c4bfe-7fbd-427e-b45b-f78847bf2b54",
   "metadata": {},
   "outputs": [
    {
     "data": {
      "text/html": [
       "<div>\n",
       "<style scoped>\n",
       "    .dataframe tbody tr th:only-of-type {\n",
       "        vertical-align: middle;\n",
       "    }\n",
       "\n",
       "    .dataframe tbody tr th {\n",
       "        vertical-align: top;\n",
       "    }\n",
       "\n",
       "    .dataframe thead th {\n",
       "        text-align: right;\n",
       "    }\n",
       "</style>\n",
       "<table border=\"1\" class=\"dataframe\">\n",
       "  <thead>\n",
       "    <tr style=\"text-align: right;\">\n",
       "      <th></th>\n",
       "      <th>path</th>\n",
       "      <th>label</th>\n",
       "      <th>is_aug</th>\n",
       "    </tr>\n",
       "  </thead>\n",
       "  <tbody>\n",
       "    <tr>\n",
       "      <th>0</th>\n",
       "      <td>/opt/ml/input/data/train/images/006171_female_...</td>\n",
       "      <td>3</td>\n",
       "      <td>0</td>\n",
       "    </tr>\n",
       "    <tr>\n",
       "      <th>1</th>\n",
       "      <td>/opt/ml/input/data/train/images/006171_female_...</td>\n",
       "      <td>3</td>\n",
       "      <td>0</td>\n",
       "    </tr>\n",
       "    <tr>\n",
       "      <th>2</th>\n",
       "      <td>/opt/ml/input/data/train/images/006171_female_...</td>\n",
       "      <td>3</td>\n",
       "      <td>0</td>\n",
       "    </tr>\n",
       "    <tr>\n",
       "      <th>3</th>\n",
       "      <td>/opt/ml/input/data/train/images/006171_female_...</td>\n",
       "      <td>9</td>\n",
       "      <td>0</td>\n",
       "    </tr>\n",
       "    <tr>\n",
       "      <th>4</th>\n",
       "      <td>/opt/ml/input/data/train/images/006171_female_...</td>\n",
       "      <td>15</td>\n",
       "      <td>0</td>\n",
       "    </tr>\n",
       "    <tr>\n",
       "      <th>5</th>\n",
       "      <td>/opt/ml/input/data/train/images/006171_female_...</td>\n",
       "      <td>3</td>\n",
       "      <td>0</td>\n",
       "    </tr>\n",
       "    <tr>\n",
       "      <th>6</th>\n",
       "      <td>/opt/ml/input/data/train/images/006171_female_...</td>\n",
       "      <td>3</td>\n",
       "      <td>0</td>\n",
       "    </tr>\n",
       "    <tr>\n",
       "      <th>7</th>\n",
       "      <td>/opt/ml/input/data/train/images/001827_male_As...</td>\n",
       "      <td>12</td>\n",
       "      <td>0</td>\n",
       "    </tr>\n",
       "    <tr>\n",
       "      <th>8</th>\n",
       "      <td>/opt/ml/input/data/train/images/001827_male_As...</td>\n",
       "      <td>6</td>\n",
       "      <td>0</td>\n",
       "    </tr>\n",
       "    <tr>\n",
       "      <th>9</th>\n",
       "      <td>/opt/ml/input/data/train/images/001827_male_As...</td>\n",
       "      <td>0</td>\n",
       "      <td>0</td>\n",
       "    </tr>\n",
       "  </tbody>\n",
       "</table>\n",
       "</div>"
      ],
      "text/plain": [
       "                                                path  label  is_aug\n",
       "0  /opt/ml/input/data/train/images/006171_female_...      3       0\n",
       "1  /opt/ml/input/data/train/images/006171_female_...      3       0\n",
       "2  /opt/ml/input/data/train/images/006171_female_...      3       0\n",
       "3  /opt/ml/input/data/train/images/006171_female_...      9       0\n",
       "4  /opt/ml/input/data/train/images/006171_female_...     15       0\n",
       "5  /opt/ml/input/data/train/images/006171_female_...      3       0\n",
       "6  /opt/ml/input/data/train/images/006171_female_...      3       0\n",
       "7  /opt/ml/input/data/train/images/001827_male_As...     12       0\n",
       "8  /opt/ml/input/data/train/images/001827_male_As...      6       0\n",
       "9  /opt/ml/input/data/train/images/001827_male_As...      0       0"
      ]
     },
     "execution_count": 408,
     "metadata": {},
     "output_type": "execute_result"
    }
   ],
   "source": [
    "# valid는 is)aug 0으로 줌\n",
    "valid_path_label['is_aug'] = 0\n",
    "valid_path_label[:10]"
   ]
  },
  {
   "cell_type": "code",
   "execution_count": 425,
   "id": "00cc443d-b93c-4877-82d6-72b4f27e6a93",
   "metadata": {},
   "outputs": [
    {
     "data": {
      "image/png": "[encoded data removed]",
      "text/plain": [
       "<Figure size 504x720 with 1 Axes>"
      ]
     },
     "metadata": {
      "needs_background": "light"
     },
     "output_type": "display_data"
    }
   ],
   "source": [
    "# aug 하고난 뒤 class별 개수\n",
    "train_counts = train_path_label_aug['label'].value_counts(dropna=False).sort_index().to_frame() #/ len(train_path_label) * 100\n",
    "plt.figure(figsize = (7, 10))\n",
    "plt.barh(train_counts.index, train_counts['label'])\n",
    "plt.yticks(range(18));"
   ]
  },
  {
   "cell_type": "code",
   "execution_count": 399,
   "id": "37478cc5-a653-4ce5-84ec-67af6e593c78",
   "metadata": {},
   "outputs": [
    {
     "name": "stderr",
     "output_type": "stream",
     "text": [
      "Clipping input data to the valid range for imshow with RGB data ([0..1] for floats or [0..255] for integers).\n"
     ]
    },
    {
     "data": {
      "text/plain": [
       "<matplotlib.image.AxesImage at 0x7f749a876160>"
      ]
     },
     "execution_count": 399,
     "metadata": {},
     "output_type": "execute_result"
    },
    {
     "data": {
      "image/png": "[encoded data removed]",
      "text/plain": [
       "<Figure size 1008x504 with 2 Axes>"
      ]
     },
     "metadata": {
      "needs_background": "light"
     },
     "output_type": "display_data"
    }
   ],
   "source": [
    "'''\n",
    "p = 0.5\n",
    "transform = A.Compose([\n",
    "\t\t# 변환할 함수들 리스트\n",
    "    A.Resize(512, 384),\n",
    "    A.HorizontalFlip(p=p),\n",
    "    A.Rotate(limit=7, p=p),\n",
    "    A.RandomBrightnessContrast(0.1, p=p),\n",
    "    A.RandomGamma(gamma_limit=(80,120), p=p),\n",
    "    #A.pytorch.transforms.ToTensorV2(transpose_mask=True)\n",
    "    A.Normalize(mean=0.5, std=0.2),\n",
    "    #transforms.ToTensorV2(transpose_mask=True)\n",
    "    #A.CenterCrop(height=300, width=300, p=1)\n",
    "])\n",
    "\n",
    "image = cv2.imread(train_path_label['path'][200])\n",
    "image = cv2.cvtColor(image, cv2.COLOR_BGR2RGB)\n",
    "#image = Image.open(train_path_label['path'][200])\n",
    "\n",
    "transformed = transform(image=image)\n",
    "\n",
    "\n",
    "plt.figure(figsize = (14,7))\n",
    "plt.subplot(1,2,1)\n",
    "plt.imshow(image)\n",
    "\n",
    "plt.subplot(1,2,2)\n",
    "transformed_image = transformed['image']\n",
    "#transformed_image.shape\n",
    "plt.imshow(transformed_image)\n",
    "'''"
   ]
  },
  {
   "cell_type": "code",
   "execution_count": null,
   "id": "8d1b4c47-3a03-4559-bd80-a969b3b1815d",
   "metadata": {},
   "outputs": [],
   "source": []
  },
  {
   "cell_type": "code",
   "execution_count": 409,
   "id": "330ce2d3-f57a-4c08-b1a9-656162308ee0",
   "metadata": {},
   "outputs": [],
   "source": [
    "# is_aug 여부에 따라 transform이 달라지기에 2개의 transform을 받는다\n",
    "# 하나는 일반용, 하나는 aug용\n",
    "class CustomAugDataset(Dataset):\n",
    "    def __init__(self, img_paths_label, transform, aug_transform = None):\n",
    "        self.X = img_paths_label['path']\n",
    "        self.y = img_paths_label['label']\n",
    "        self.aug_check = img_paths_label['is_aug']\n",
    "        self.transform = transform\n",
    "        self.aug_transform = aug_transform\n",
    "\n",
    "    def __getitem__(self, index):\n",
    "        image = cv2.imread(self.X.iloc[index])\n",
    "        image = cv2.cvtColor(image, cv2.COLOR_BGR2RGB)\n",
    "        label = self.y.iloc[index]\n",
    "        \n",
    "        if self.aug_check.iloc[index] == 1:\n",
    "            transformed = self.aug_transform(image = image)\n",
    "        else:\n",
    "            transformed = self.transform(image = image)\n",
    "        \n",
    "        transformed_image = transformed['image']\n",
    "        return transformed_image, torch.tensor(label)\n",
    "\n",
    "    def __len__(self):\n",
    "        return len(self.X)"
   ]
  },
  {
   "cell_type": "code",
   "execution_count": 410,
   "id": "972e8170-c6c6-4083-98d9-81607e85e63e",
   "metadata": {},
   "outputs": [],
   "source": [
    "# aug용 transform\n",
    "p = 0.5\n",
    "aug_transform = A.Compose([\n",
    "    A.Resize(512, 384),\n",
    "    A.HorizontalFlip(p=p), # 좌우 대칭, p는 확률로 1이면 항상 하는것\n",
    "    A.Rotate(limit=7, p=p), # 회전, 최고를 7도로 줌\n",
    "    A.RandomBrightnessContrast(0.1, p=p), # 밝기?\n",
    "    A.RandomGamma(gamma_limit=(80,120), p=p), # 잘 모르겠지만 밝기좀 변함, limit 잘 조정해야한다\n",
    "    A.Normalize(mean=0.5, std=0.2), # 정규화, 이상하게 albutation은 텐서로 바꾸기전에 이미지에 정규화 때린다.\n",
    "    transforms.ToTensorV2(transpose_mask=True) # tensor로 변형, transpose_mask 해야 C, H W로 나옴\n",
    "    #A.CenterCrop(height=300, width=300, p=1) # crop, 나중에 시도해봐야지\n",
    "])\n",
    "\n",
    "# 일반용 transform\n",
    "transform = A.Compose([\n",
    "    A.Resize(512, 384),\n",
    "    A.Normalize(mean=0.5, std=0.2),\n",
    "    transforms.ToTensorV2(transpose_mask=True)\n",
    "    #A.CenterCrop(height=300, width=300, p=1)\n",
    "])"
   ]
  },
  {
   "cell_type": "code",
   "execution_count": 411,
   "id": "2818dfb1-3df6-4323-a1ca-993662b3a7e1",
   "metadata": {},
   "outputs": [],
   "source": [
    "BATCH_SIZE = 64\n",
    "\n",
    "train_dataset = CustomAugDataset(train_path_label_aug, transform, aug_transform)\n",
    "train_dataloader = DataLoader(train_dataset, \n",
    "                        batch_size = BATCH_SIZE, \n",
    "                        shuffle = True\n",
    "                       )\n",
    "\n",
    "valid_dataset = CustomAugDataset(valid_path_label, transform)\n",
    "valid_dataloader = DataLoader(valid_dataset,\n",
    "                              batch_size = BATCH_SIZE,\n",
    "                              shuffle = True\n",
    "                             )"
   ]
  },
  {
   "cell_type": "code",
   "execution_count": 412,
   "id": "2a55f1b0-2071-47d4-b9a5-7dddd2f96287",
   "metadata": {},
   "outputs": [
    {
     "data": {
      "text/plain": [
       "torch.Size([64, 3, 512, 384])"
      ]
     },
     "execution_count": 412,
     "metadata": {},
     "output_type": "execute_result"
    }
   ],
   "source": [
    "next(iter(train_dataloader))[0].shape"
   ]
  },
  {
   "cell_type": "code",
   "execution_count": 413,
   "id": "b5b74057-e22a-45fb-bec1-b121baeab449",
   "metadata": {},
   "outputs": [
    {
     "data": {
      "text/plain": [
       "torch.Size([64, 3, 512, 384])"
      ]
     },
     "execution_count": 413,
     "metadata": {},
     "output_type": "execute_result"
    }
   ],
   "source": [
    "next(iter(valid_dataloader))[0].shape"
   ]
  },
  {
   "cell_type": "code",
   "execution_count": null,
   "id": "b20e730e-1325-4af0-bb10-f62dc5710abc",
   "metadata": {},
   "outputs": [],
   "source": []
  },
  {
   "cell_type": "code",
   "execution_count": 414,
   "id": "5afeb4c8-d071-4b43-b32d-3354279907e1",
   "metadata": {},
   "outputs": [],
   "source": [
    "# resnet18을 베이스로 만든 모델\n",
    "# 출력뒤에 18개의 output을 뱉는 fc층만 추가함\n",
    "# 그 추가한 층은 xavier 초기화\n",
    "class TunedResnet18(nn.Module):\n",
    "    def __init__(self, num_classes: int = 1000):\n",
    "        super().__init__()\n",
    "        self.model = torchvision.models.resnet18(pretrained=True)\n",
    "        self.fc_to_fc2_dropout = nn.Dropout(0.5)\n",
    "        self.fc2 = nn.Linear(1000, num_classes)\n",
    "        self.init_param()\n",
    "        \n",
    "    def init_param(self):\n",
    "        # xavier uniform\n",
    "        torch.nn.init.xavier_uniform_(self.fc2.weight) \n",
    "        stdv = 1. / math.sqrt(self.fc2.weight.size(1))\n",
    "        self.fc2.bias.data.uniform_(-stdv, stdv)\n",
    "        \n",
    "    def forward(self,x):\n",
    "        x = self.model(x)\n",
    "        x = F.relu(x)\n",
    "        x = self.fc_to_fc2_dropout(x)\n",
    "        return self.fc2(x)"
   ]
  },
  {
   "cell_type": "code",
   "execution_count": 415,
   "id": "11d75e33-03ad-4f01-a24e-e267bb56b2ee",
   "metadata": {},
   "outputs": [],
   "source": [
    "resnet18 = TunedResnet18(num_classes = 18)"
   ]
  },
  {
   "cell_type": "code",
   "execution_count": 52,
   "id": "066dbc5e-1a9e-4b2e-a77c-97063fb201d1",
   "metadata": {},
   "outputs": [
    {
     "data": {
      "text/plain": [
       "18"
      ]
     },
     "execution_count": 52,
     "metadata": {},
     "output_type": "execute_result"
    }
   ],
   "source": [
    "# resnet18 = torchvision.models.resnet18(pretrained=True)\n",
    "\n",
    "# OUTPUT_CLASS_NUM = 18\n",
    "# resnet18.fc = torch.nn.Linear(in_features = 512, out_features = OUTPUT_CLASS_NUM, bias = True) # output 18개로\n",
    "\n",
    "# # xavier uniform\n",
    "# torch.nn.init.xavier_uniform_(resnet18.fc.weight) \n",
    "# stdv = 1. / math.sqrt(resnet18.fc.weight.size(1))\n",
    "# resnet18.fc.bias.data.uniform_(-stdv, stdv)\n",
    "\n",
    "# resnet18.fc.weight.shape[0]"
   ]
  },
  {
   "cell_type": "code",
   "execution_count": 416,
   "id": "fb7cb2f1-909d-4169-9576-da476f1edb4d",
   "metadata": {},
   "outputs": [
    {
     "data": {
      "text/plain": [
       "device(type='cuda', index=0)"
      ]
     },
     "execution_count": 416,
     "metadata": {},
     "output_type": "execute_result"
    }
   ],
   "source": [
    "device = torch.device(\"cuda:0\" if torch.cuda.is_available() else \"cpu\")\n",
    "device"
   ]
  },
  {
   "cell_type": "code",
   "execution_count": 417,
   "id": "703e4c88-97f5-4ea7-9cf7-475f8b1897ab",
   "metadata": {},
   "outputs": [],
   "source": [
    "resnet18.to(device)\n",
    "\n",
    "LEARNING_RATE = 0.0001 # 학습 때 사용하는 optimizer의 학습률 옵션 설정\n",
    "NUM_EPOCH = 10 # 학습 때 mnist train 데이터 셋을 얼마나 많이 학습할지 결정하는 옵션\n",
    "OUTPUT_CLASS_NUM = 18\n",
    "\n",
    "#f1_loss = F1_Loss(class_num=OUTPUT_CLASS_NUM)\n",
    "loss_fn = torch.nn.CrossEntropyLoss() # 분류 학습 때 많이 사용되는 Cross entropy loss를 objective function으로 사용 - https://en.wikipedia.org/wiki/Cross_entropy\n",
    "optimizer = torch.optim.Adam(resnet18.parameters(), lr=LEARNING_RATE) # weight 업데이트를 위한 optimizer를 Adam으로 사용함\n",
    "\n",
    "dataloaders = {\n",
    "    \"train\" : train_dataloader,\n",
    "    \"test\" : valid_dataloader\n",
    "}"
   ]
  },
  {
   "cell_type": "code",
   "execution_count": 418,
   "id": "550ece82-6ff2-44ca-9687-dbb729918761",
   "metadata": {},
   "outputs": [
    {
     "name": "stdout",
     "output_type": "stream",
     "text": [
      "현재 epoch-0의 train-데이터 셋에서 평균 Loss : 0.806, 평균 Accuracy : 0.743\n",
      "현재 epoch-0의 test-데이터 셋에서 평균 Loss : 0.414, 평균 Accuracy : 0.862\n",
      "현재 epoch-1의 train-데이터 셋에서 평균 Loss : 0.169, 평균 Accuracy : 0.946\n",
      "현재 epoch-1의 test-데이터 셋에서 평균 Loss : 0.468, 평균 Accuracy : 0.854\n",
      "현재 epoch-2의 train-데이터 셋에서 평균 Loss : 0.067, 평균 Accuracy : 0.981\n",
      "현재 epoch-2의 test-데이터 셋에서 평균 Loss : 0.489, 평균 Accuracy : 0.867\n",
      "현재 epoch-3의 train-데이터 셋에서 평균 Loss : 0.047, 평균 Accuracy : 0.986\n",
      "현재 epoch-3의 test-데이터 셋에서 평균 Loss : 0.516, 평균 Accuracy : 0.892\n",
      "현재 epoch-4의 train-데이터 셋에서 평균 Loss : 0.030, 평균 Accuracy : 0.991\n",
      "현재 epoch-4의 test-데이터 셋에서 평균 Loss : 0.547, 평균 Accuracy : 0.883\n",
      "현재 epoch-5의 train-데이터 셋에서 평균 Loss : 0.014, 평균 Accuracy : 0.996\n",
      "현재 epoch-5의 test-데이터 셋에서 평균 Loss : 0.606, 평균 Accuracy : 0.879\n",
      "현재 epoch-6의 train-데이터 셋에서 평균 Loss : 0.019, 평균 Accuracy : 0.994\n",
      "현재 epoch-6의 test-데이터 셋에서 평균 Loss : 0.894, 평균 Accuracy : 0.829\n",
      "현재 epoch-7의 train-데이터 셋에서 평균 Loss : 0.033, 평균 Accuracy : 0.990\n",
      "현재 epoch-7의 test-데이터 셋에서 평균 Loss : 0.746, 평균 Accuracy : 0.843\n",
      "현재 epoch-8의 train-데이터 셋에서 평균 Loss : 0.025, 평균 Accuracy : 0.992\n",
      "현재 epoch-8의 test-데이터 셋에서 평균 Loss : 0.680, 평균 Accuracy : 0.858\n",
      "현재 epoch-9의 train-데이터 셋에서 평균 Loss : 0.020, 평균 Accuracy : 0.994\n",
      "현재 epoch-9의 test-데이터 셋에서 평균 Loss : 0.890, 평균 Accuracy : 0.821\n",
      "학습 종료!\n",
      "최고 accuracy : 0.8915343880653381, 최고 낮은 loss : 0.41438495270789616\n"
     ]
    }
   ],
   "source": [
    "best_test_accuracy = 0.\n",
    "best_test_loss = 9999.\n",
    "model_saved = \"./saved3\"\n",
    "\n",
    "for epoch in range(NUM_EPOCH):\n",
    "    for phase in [\"train\", \"test\"]:\n",
    "        running_loss = 0.\n",
    "        running_acc = 0.\n",
    "        if phase == \"train\":\n",
    "            resnet18.train() # 네트워크 모델을 train 모드로 두어 gradient을 계산하고, 여러 sub module (배치 정규화, 드롭아웃 등)이 train mode로 작동할 수 있도록 함\n",
    "        elif phase == \"test\":\n",
    "            resnet18.eval() # 네트워크 모델을 eval 모드 두어 여러 sub module들이 eval mode로 작동할 수 있게 함\n",
    "        \n",
    "        for ind, (images, labels) in enumerate(dataloaders[phase]):\n",
    "            images = images.to(device)\n",
    "            labels = labels.to(device)\n",
    "        \n",
    "            optimizer.zero_grad() # parameter gradient를 업데이트 전 초기화함\n",
    "\n",
    "            with torch.set_grad_enabled(phase == \"train\"): # train 모드일 시에는 gradient를 계산하고, 아닐 때는 gradient를 계산하지 않아 연산량 최소화\n",
    "                logits = resnet18(images)\n",
    "                _, preds = torch.max(logits, 1) # 모델에서 linear 값으로 나오는 예측 값 ([0.9,1.2, 3.2,0.1,-0.1,...])을 최대 output index를 찾아 예측 레이블([2])로 변경함  \n",
    "                loss = loss_fn(logits, labels)\n",
    "\n",
    "                if phase == \"train\":\n",
    "                    loss.backward() # 모델의 예측 값과 실제 값의 CrossEntropy 차이를 통해 gradient 계산\n",
    "                    optimizer.step() # 계산된 gradient를 가지고 모델 업데이트\n",
    "\n",
    "            running_loss += loss.item() * images.size(0) # 한 Batch에서의 loss 값 저장\n",
    "            running_acc += torch.sum(preds == labels.data) # 한 Batch에서의 Accuracy 값 저장\n",
    "\n",
    "        # 한 epoch이 모두 종료되었을 때,\n",
    "        epoch_loss = running_loss / len(dataloaders[phase].dataset)\n",
    "        epoch_acc = running_acc / len(dataloaders[phase].dataset)\n",
    "\n",
    "        print(f\"현재 epoch-{epoch}의 {phase}-데이터 셋에서 평균 Loss : {epoch_loss:.3f}, 평균 Accuracy : {epoch_acc:.3f}\")\n",
    "        if phase == \"test\" and best_test_accuracy < epoch_acc: # phase가 test일 때, best accuracy 계산\n",
    "            best_test_accuracy = epoch_acc\n",
    "            os.makedirs(model_saved, exist_ok=True)\n",
    "            torch.save(resnet18, f\"{model_saved}/accr_resnet18_CEloss_batchsize:{BATCH_SIZE}_lr:{LEARNING_RATE}.pt\")\n",
    "        if phase == \"test\" and best_test_loss > epoch_loss: # phase가 test일 때, best loss 계산\n",
    "            best_test_loss = epoch_loss\n",
    "            os.makedirs(model_saved, exist_ok=True)\n",
    "            torch.save(resnet18, f\"{model_saved}/loss_resnet18_CEloss_batchsize:{BATCH_SIZE}_lr:{LEARNING_RATE}.pt\")\n",
    "            \n",
    "print(\"학습 종료!\")\n",
    "print(f\"최고 accuracy : {best_test_accuracy}, 최고 낮은 loss : {best_test_loss}\")"
   ]
  },
  {
   "cell_type": "code",
   "execution_count": 419,
   "id": "1a08eef3-503a-42ad-aea8-1b6525afa9ef",
   "metadata": {},
   "outputs": [],
   "source": [
    "# loss가 가장 낮았을때 모델 불러옴\n",
    "# 이 모델이 test 에게 좋게 동작함\n",
    "resnet18_best_CEloss = torch.load(f\"{model_saved}/loss_resnet18_CEloss_batchsize:{BATCH_SIZE}_lr:{LEARNING_RATE}.pt\")"
   ]
  },
  {
   "cell_type": "code",
   "execution_count": 420,
   "id": "46636235-967e-4a81-bdb5-a9a7e2f32b3b",
   "metadata": {},
   "outputs": [],
   "source": [
    "# acc가 가장 높았을때 모델 불러옴\n",
    "resnet18_best_acc = torch.load(f\"{model_saved}/accr_resnet18_CEloss_batchsize:{BATCH_SIZE}_lr:{LEARNING_RATE}.pt\")"
   ]
  },
  {
   "cell_type": "code",
   "execution_count": 89,
   "id": "4e06e982-d357-4b12-b1c7-9a476e4ef7c3",
   "metadata": {},
   "outputs": [],
   "source": [
    "# def func_eval(model, data_iter, device):\n",
    "#     with torch.no_grad():\n",
    "#         n_total, n_correct = 0,0\n",
    "#         model.eval()\n",
    "#         for batch_in, batch_out in data_iter:\n",
    "#             y_trgt = batch_out.to(device)\n",
    "#             model_pred = model.forward(batch_in.to(device))\n",
    "#             _, y_pred = torch.max(model_pred, 1) # 행으로 비교\n",
    "#             n_correct += (y_pred == y_trgt).sum().item()\n",
    "#             n_total += batch_in.size(0)\n",
    "#         val_accr = (n_correct/n_total)\n",
    "#         #model.train()\n",
    "#     return val_accr"
   ]
  },
  {
   "cell_type": "code",
   "execution_count": 91,
   "id": "e8ef6174-817a-4ffb-9e22-dd8012113e73",
   "metadata": {},
   "outputs": [
    {
     "data": {
      "text/plain": [
       "0.8888888888888888"
      ]
     },
     "execution_count": 91,
     "metadata": {},
     "output_type": "execute_result"
    }
   ],
   "source": [
    "#func_eval(resnet18_use_CEloss, valid_dataloader, device)"
   ]
  },
  {
   "cell_type": "code",
   "execution_count": 92,
   "id": "509b8ea2-9f7c-42eb-b25f-e1f545ef00d8",
   "metadata": {},
   "outputs": [
    {
     "data": {
      "text/plain": [
       "0.8936507936507937"
      ]
     },
     "execution_count": 92,
     "metadata": {},
     "output_type": "execute_result"
    }
   ],
   "source": [
    "#func_eval(resnet18, valid_dataloader, device)"
   ]
  },
  {
   "cell_type": "code",
   "execution_count": 421,
   "id": "818e9e62-4de9-4815-b469-e4bf5d93da40",
   "metadata": {},
   "outputs": [],
   "source": [
    "def check_eval(raw_data, dataloader, model, device):\n",
    "    result = []\n",
    "    with torch.no_grad():\n",
    "        model.eval()\n",
    "        for i, (X,y) in enumerate(dataloader):\n",
    "            model_pred = model.forward(X.to(device))\n",
    "            _, y_pred = torch.max(model_pred, 1)\n",
    "\n",
    "            result.append([raw_data.iloc[i]['path'], y_pred.cpu().numpy()[0], y.cpu().numpy()[0]])\n",
    "    result = pd.DataFrame(result, columns=['path', 'pred', 'target'])\n",
    "    return result"
   ]
  },
  {
   "cell_type": "code",
   "execution_count": 422,
   "id": "65f4b9c2-d3d0-41ba-a010-10892b563468",
   "metadata": {},
   "outputs": [
    {
     "data": {
      "text/html": [
       "<div>\n",
       "<style scoped>\n",
       "    .dataframe tbody tr th:only-of-type {\n",
       "        vertical-align: middle;\n",
       "    }\n",
       "\n",
       "    .dataframe tbody tr th {\n",
       "        vertical-align: top;\n",
       "    }\n",
       "\n",
       "    .dataframe thead th {\n",
       "        text-align: right;\n",
       "    }\n",
       "</style>\n",
       "<table border=\"1\" class=\"dataframe\">\n",
       "  <thead>\n",
       "    <tr style=\"text-align: right;\">\n",
       "      <th></th>\n",
       "      <th>path</th>\n",
       "      <th>pred</th>\n",
       "      <th>target</th>\n",
       "    </tr>\n",
       "  </thead>\n",
       "  <tbody>\n",
       "    <tr>\n",
       "      <th>0</th>\n",
       "      <td>/opt/ml/input/data/train/images/006171_female_...</td>\n",
       "      <td>3</td>\n",
       "      <td>3</td>\n",
       "    </tr>\n",
       "    <tr>\n",
       "      <th>1</th>\n",
       "      <td>/opt/ml/input/data/train/images/006171_female_...</td>\n",
       "      <td>3</td>\n",
       "      <td>3</td>\n",
       "    </tr>\n",
       "    <tr>\n",
       "      <th>2</th>\n",
       "      <td>/opt/ml/input/data/train/images/006171_female_...</td>\n",
       "      <td>3</td>\n",
       "      <td>3</td>\n",
       "    </tr>\n",
       "    <tr>\n",
       "      <th>3</th>\n",
       "      <td>/opt/ml/input/data/train/images/006171_female_...</td>\n",
       "      <td>9</td>\n",
       "      <td>9</td>\n",
       "    </tr>\n",
       "    <tr>\n",
       "      <th>4</th>\n",
       "      <td>/opt/ml/input/data/train/images/006171_female_...</td>\n",
       "      <td>15</td>\n",
       "      <td>15</td>\n",
       "    </tr>\n",
       "    <tr>\n",
       "      <th>...</th>\n",
       "      <td>...</td>\n",
       "      <td>...</td>\n",
       "      <td>...</td>\n",
       "    </tr>\n",
       "    <tr>\n",
       "      <th>1885</th>\n",
       "      <td>/opt/ml/input/data/train/images/004027_male_As...</td>\n",
       "      <td>1</td>\n",
       "      <td>1</td>\n",
       "    </tr>\n",
       "    <tr>\n",
       "      <th>1886</th>\n",
       "      <td>/opt/ml/input/data/train/images/004027_male_As...</td>\n",
       "      <td>1</td>\n",
       "      <td>1</td>\n",
       "    </tr>\n",
       "    <tr>\n",
       "      <th>1887</th>\n",
       "      <td>/opt/ml/input/data/train/images/004027_male_As...</td>\n",
       "      <td>1</td>\n",
       "      <td>1</td>\n",
       "    </tr>\n",
       "    <tr>\n",
       "      <th>1888</th>\n",
       "      <td>/opt/ml/input/data/train/images/004027_male_As...</td>\n",
       "      <td>1</td>\n",
       "      <td>1</td>\n",
       "    </tr>\n",
       "    <tr>\n",
       "      <th>1889</th>\n",
       "      <td>/opt/ml/input/data/train/images/004027_male_As...</td>\n",
       "      <td>1</td>\n",
       "      <td>1</td>\n",
       "    </tr>\n",
       "  </tbody>\n",
       "</table>\n",
       "<p>1890 rows × 3 columns</p>\n",
       "</div>"
      ],
      "text/plain": [
       "                                                   path  pred  target\n",
       "0     /opt/ml/input/data/train/images/006171_female_...     3       3\n",
       "1     /opt/ml/input/data/train/images/006171_female_...     3       3\n",
       "2     /opt/ml/input/data/train/images/006171_female_...     3       3\n",
       "3     /opt/ml/input/data/train/images/006171_female_...     9       9\n",
       "4     /opt/ml/input/data/train/images/006171_female_...    15      15\n",
       "...                                                 ...   ...     ...\n",
       "1885  /opt/ml/input/data/train/images/004027_male_As...     1       1\n",
       "1886  /opt/ml/input/data/train/images/004027_male_As...     1       1\n",
       "1887  /opt/ml/input/data/train/images/004027_male_As...     1       1\n",
       "1888  /opt/ml/input/data/train/images/004027_male_As...     1       1\n",
       "1889  /opt/ml/input/data/train/images/004027_male_As...     1       1\n",
       "\n",
       "[1890 rows x 3 columns]"
      ]
     },
     "execution_count": 422,
     "metadata": {},
     "output_type": "execute_result"
    }
   ],
   "source": [
    "valid_testing_dataloader = DataLoader(valid_dataset, shuffle = False)\n",
    "\n",
    "check_eval_loss_df = check_eval(valid_path_label, valid_testing_dataloader, resnet18_best_CEloss, device)\n",
    "check_eval_loss_df"
   ]
  },
  {
   "cell_type": "code",
   "execution_count": 423,
   "id": "69ac7834-d1de-4138-9ebd-886b158fcaee",
   "metadata": {},
   "outputs": [
    {
     "data": {
      "text/html": [
       "<div>\n",
       "<style scoped>\n",
       "    .dataframe tbody tr th:only-of-type {\n",
       "        vertical-align: middle;\n",
       "    }\n",
       "\n",
       "    .dataframe tbody tr th {\n",
       "        vertical-align: top;\n",
       "    }\n",
       "\n",
       "    .dataframe thead th {\n",
       "        text-align: right;\n",
       "    }\n",
       "</style>\n",
       "<table border=\"1\" class=\"dataframe\">\n",
       "  <thead>\n",
       "    <tr style=\"text-align: right;\">\n",
       "      <th></th>\n",
       "      <th>path</th>\n",
       "      <th>pred</th>\n",
       "      <th>target</th>\n",
       "    </tr>\n",
       "  </thead>\n",
       "  <tbody>\n",
       "    <tr>\n",
       "      <th>0</th>\n",
       "      <td>/opt/ml/input/data/train/images/005072_female_...</td>\n",
       "      <td>5</td>\n",
       "      <td>4</td>\n",
       "    </tr>\n",
       "    <tr>\n",
       "      <th>1</th>\n",
       "      <td>/opt/ml/input/data/train/images/005412_female_...</td>\n",
       "      <td>16</td>\n",
       "      <td>17</td>\n",
       "    </tr>\n",
       "    <tr>\n",
       "      <th>2</th>\n",
       "      <td>/opt/ml/input/data/train/images/005412_female_...</td>\n",
       "      <td>10</td>\n",
       "      <td>11</td>\n",
       "    </tr>\n",
       "    <tr>\n",
       "      <th>3</th>\n",
       "      <td>/opt/ml/input/data/train/images/005412_female_...</td>\n",
       "      <td>4</td>\n",
       "      <td>5</td>\n",
       "    </tr>\n",
       "    <tr>\n",
       "      <th>4</th>\n",
       "      <td>/opt/ml/input/data/train/images/005412_female_...</td>\n",
       "      <td>4</td>\n",
       "      <td>5</td>\n",
       "    </tr>\n",
       "    <tr>\n",
       "      <th>...</th>\n",
       "      <td>...</td>\n",
       "      <td>...</td>\n",
       "      <td>...</td>\n",
       "    </tr>\n",
       "    <tr>\n",
       "      <th>255</th>\n",
       "      <td>/opt/ml/input/data/train/images/001156_female_...</td>\n",
       "      <td>5</td>\n",
       "      <td>4</td>\n",
       "    </tr>\n",
       "    <tr>\n",
       "      <th>256</th>\n",
       "      <td>/opt/ml/input/data/train/images/001156_female_...</td>\n",
       "      <td>5</td>\n",
       "      <td>4</td>\n",
       "    </tr>\n",
       "    <tr>\n",
       "      <th>257</th>\n",
       "      <td>/opt/ml/input/data/train/images/005435_female_...</td>\n",
       "      <td>16</td>\n",
       "      <td>15</td>\n",
       "    </tr>\n",
       "    <tr>\n",
       "      <th>258</th>\n",
       "      <td>/opt/ml/input/data/train/images/004368_female_...</td>\n",
       "      <td>5</td>\n",
       "      <td>4</td>\n",
       "    </tr>\n",
       "    <tr>\n",
       "      <th>259</th>\n",
       "      <td>/opt/ml/input/data/train/images/001520_female_...</td>\n",
       "      <td>5</td>\n",
       "      <td>4</td>\n",
       "    </tr>\n",
       "  </tbody>\n",
       "</table>\n",
       "<p>260 rows × 3 columns</p>\n",
       "</div>"
      ],
      "text/plain": [
       "                                                  path  pred  target\n",
       "0    /opt/ml/input/data/train/images/005072_female_...     5       4\n",
       "1    /opt/ml/input/data/train/images/005412_female_...    16      17\n",
       "2    /opt/ml/input/data/train/images/005412_female_...    10      11\n",
       "3    /opt/ml/input/data/train/images/005412_female_...     4       5\n",
       "4    /opt/ml/input/data/train/images/005412_female_...     4       5\n",
       "..                                                 ...   ...     ...\n",
       "255  /opt/ml/input/data/train/images/001156_female_...     5       4\n",
       "256  /opt/ml/input/data/train/images/001156_female_...     5       4\n",
       "257  /opt/ml/input/data/train/images/005435_female_...    16      15\n",
       "258  /opt/ml/input/data/train/images/004368_female_...     5       4\n",
       "259  /opt/ml/input/data/train/images/001520_female_...     5       4\n",
       "\n",
       "[260 rows x 3 columns]"
      ]
     },
     "execution_count": 423,
     "metadata": {},
     "output_type": "execute_result"
    }
   ],
   "source": [
    "wrong_df = check_eval_loss_df[check_eval_loss_df['pred'] != check_eval_loss_df['target']]\n",
    "wrong_df = wrong_df.reset_index(drop=True)\n",
    "wrong_df"
   ]
  },
  {
   "cell_type": "code",
   "execution_count": 424,
   "id": "73899c12-d66c-4d3b-9dd8-c07e4a40e50c",
   "metadata": {},
   "outputs": [
    {
     "name": "stdout",
     "output_type": "stream",
     "text": [
      "f1 : 0.7691530420151793\n",
      "recall : 0.8204443533227362\n",
      "precision : 0.7696187039508712\n"
     ]
    }
   ],
   "source": [
    "# loss가 가장 낮았을때 모델의 성능\n",
    "# 결과적으론 이 모델이 test 데이터에서 가장 좋게동작함\n",
    "from sklearn.metrics import accuracy_score, recall_score, precision_score, f1_score\n",
    "print(f\"f1 : {f1_score(check_eval_loss_df['target'], check_eval_loss_df['pred'], average = 'macro')}\")\n",
    "print(f\"recall : {recall_score(check_eval_loss_df['target'], check_eval_loss_df['pred'], average = 'macro')}\")\n",
    "print(f\"precision : {precision_score(check_eval_loss_df['target'], check_eval_loss_df['pred'], average = 'macro')}\")"
   ]
  },
  {
   "cell_type": "code",
   "execution_count": 67,
   "id": "27d072ea-d4ff-4477-b996-bbb0259ccd8a",
   "metadata": {},
   "outputs": [
    {
     "data": {
      "text/html": [
       "<div>\n",
       "<style scoped>\n",
       "    .dataframe tbody tr th:only-of-type {\n",
       "        vertical-align: middle;\n",
       "    }\n",
       "\n",
       "    .dataframe tbody tr th {\n",
       "        vertical-align: top;\n",
       "    }\n",
       "\n",
       "    .dataframe thead th {\n",
       "        text-align: right;\n",
       "    }\n",
       "</style>\n",
       "<table border=\"1\" class=\"dataframe\">\n",
       "  <thead>\n",
       "    <tr style=\"text-align: right;\">\n",
       "      <th></th>\n",
       "      <th>path</th>\n",
       "      <th>pred</th>\n",
       "      <th>target</th>\n",
       "    </tr>\n",
       "  </thead>\n",
       "  <tbody>\n",
       "    <tr>\n",
       "      <th>0</th>\n",
       "      <td>/opt/ml/input/data/train/images/000561_female_...</td>\n",
       "      <td>16</td>\n",
       "      <td>16</td>\n",
       "    </tr>\n",
       "    <tr>\n",
       "      <th>1</th>\n",
       "      <td>/opt/ml/input/data/train/images/000561_female_...</td>\n",
       "      <td>10</td>\n",
       "      <td>10</td>\n",
       "    </tr>\n",
       "    <tr>\n",
       "      <th>2</th>\n",
       "      <td>/opt/ml/input/data/train/images/000561_female_...</td>\n",
       "      <td>4</td>\n",
       "      <td>4</td>\n",
       "    </tr>\n",
       "    <tr>\n",
       "      <th>3</th>\n",
       "      <td>/opt/ml/input/data/train/images/000561_female_...</td>\n",
       "      <td>4</td>\n",
       "      <td>4</td>\n",
       "    </tr>\n",
       "    <tr>\n",
       "      <th>4</th>\n",
       "      <td>/opt/ml/input/data/train/images/000561_female_...</td>\n",
       "      <td>4</td>\n",
       "      <td>4</td>\n",
       "    </tr>\n",
       "    <tr>\n",
       "      <th>...</th>\n",
       "      <td>...</td>\n",
       "      <td>...</td>\n",
       "      <td>...</td>\n",
       "    </tr>\n",
       "    <tr>\n",
       "      <th>1885</th>\n",
       "      <td>/opt/ml/input/data/train/images/000590_male_As...</td>\n",
       "      <td>1</td>\n",
       "      <td>1</td>\n",
       "    </tr>\n",
       "    <tr>\n",
       "      <th>1886</th>\n",
       "      <td>/opt/ml/input/data/train/images/000590_male_As...</td>\n",
       "      <td>1</td>\n",
       "      <td>1</td>\n",
       "    </tr>\n",
       "    <tr>\n",
       "      <th>1887</th>\n",
       "      <td>/opt/ml/input/data/train/images/000590_male_As...</td>\n",
       "      <td>1</td>\n",
       "      <td>1</td>\n",
       "    </tr>\n",
       "    <tr>\n",
       "      <th>1888</th>\n",
       "      <td>/opt/ml/input/data/train/images/000590_male_As...</td>\n",
       "      <td>1</td>\n",
       "      <td>1</td>\n",
       "    </tr>\n",
       "    <tr>\n",
       "      <th>1889</th>\n",
       "      <td>/opt/ml/input/data/train/images/000590_male_As...</td>\n",
       "      <td>1</td>\n",
       "      <td>1</td>\n",
       "    </tr>\n",
       "  </tbody>\n",
       "</table>\n",
       "<p>1890 rows × 3 columns</p>\n",
       "</div>"
      ],
      "text/plain": [
       "                                                   path  pred  target\n",
       "0     /opt/ml/input/data/train/images/000561_female_...    16      16\n",
       "1     /opt/ml/input/data/train/images/000561_female_...    10      10\n",
       "2     /opt/ml/input/data/train/images/000561_female_...     4       4\n",
       "3     /opt/ml/input/data/train/images/000561_female_...     4       4\n",
       "4     /opt/ml/input/data/train/images/000561_female_...     4       4\n",
       "...                                                 ...   ...     ...\n",
       "1885  /opt/ml/input/data/train/images/000590_male_As...     1       1\n",
       "1886  /opt/ml/input/data/train/images/000590_male_As...     1       1\n",
       "1887  /opt/ml/input/data/train/images/000590_male_As...     1       1\n",
       "1888  /opt/ml/input/data/train/images/000590_male_As...     1       1\n",
       "1889  /opt/ml/input/data/train/images/000590_male_As...     1       1\n",
       "\n",
       "[1890 rows x 3 columns]"
      ]
     },
     "execution_count": 67,
     "metadata": {},
     "output_type": "execute_result"
    }
   ],
   "source": [
    "check_eval_accr_df = check_eval(valid_path_label, valid_testing_dataloader, resnet18_best_acc, device)\n",
    "check_eval_accr_df"
   ]
  },
  {
   "cell_type": "code",
   "execution_count": 68,
   "id": "d3495d2f-21f5-4d54-8b5e-c51e5b92c012",
   "metadata": {},
   "outputs": [
    {
     "data": {
      "text/html": [
       "<div>\n",
       "<style scoped>\n",
       "    .dataframe tbody tr th:only-of-type {\n",
       "        vertical-align: middle;\n",
       "    }\n",
       "\n",
       "    .dataframe tbody tr th {\n",
       "        vertical-align: top;\n",
       "    }\n",
       "\n",
       "    .dataframe thead th {\n",
       "        text-align: right;\n",
       "    }\n",
       "</style>\n",
       "<table border=\"1\" class=\"dataframe\">\n",
       "  <thead>\n",
       "    <tr style=\"text-align: right;\">\n",
       "      <th></th>\n",
       "      <th>path</th>\n",
       "      <th>pred</th>\n",
       "      <th>target</th>\n",
       "    </tr>\n",
       "  </thead>\n",
       "  <tbody>\n",
       "    <tr>\n",
       "      <th>0</th>\n",
       "      <td>/opt/ml/input/data/train/images/000595_male_As...</td>\n",
       "      <td>10</td>\n",
       "      <td>7</td>\n",
       "    </tr>\n",
       "    <tr>\n",
       "      <th>1</th>\n",
       "      <td>/opt/ml/input/data/train/images/000595_male_As...</td>\n",
       "      <td>4</td>\n",
       "      <td>1</td>\n",
       "    </tr>\n",
       "    <tr>\n",
       "      <th>2</th>\n",
       "      <td>/opt/ml/input/data/train/images/000595_male_As...</td>\n",
       "      <td>4</td>\n",
       "      <td>1</td>\n",
       "    </tr>\n",
       "    <tr>\n",
       "      <th>3</th>\n",
       "      <td>/opt/ml/input/data/train/images/003889_female_...</td>\n",
       "      <td>15</td>\n",
       "      <td>16</td>\n",
       "    </tr>\n",
       "    <tr>\n",
       "      <th>4</th>\n",
       "      <td>/opt/ml/input/data/train/images/003889_female_...</td>\n",
       "      <td>9</td>\n",
       "      <td>10</td>\n",
       "    </tr>\n",
       "    <tr>\n",
       "      <th>...</th>\n",
       "      <td>...</td>\n",
       "      <td>...</td>\n",
       "      <td>...</td>\n",
       "    </tr>\n",
       "    <tr>\n",
       "      <th>162</th>\n",
       "      <td>/opt/ml/input/data/train/images/004339_female_...</td>\n",
       "      <td>10</td>\n",
       "      <td>11</td>\n",
       "    </tr>\n",
       "    <tr>\n",
       "      <th>163</th>\n",
       "      <td>/opt/ml/input/data/train/images/004339_female_...</td>\n",
       "      <td>4</td>\n",
       "      <td>5</td>\n",
       "    </tr>\n",
       "    <tr>\n",
       "      <th>164</th>\n",
       "      <td>/opt/ml/input/data/train/images/004339_female_...</td>\n",
       "      <td>4</td>\n",
       "      <td>5</td>\n",
       "    </tr>\n",
       "    <tr>\n",
       "      <th>165</th>\n",
       "      <td>/opt/ml/input/data/train/images/004339_female_...</td>\n",
       "      <td>4</td>\n",
       "      <td>5</td>\n",
       "    </tr>\n",
       "    <tr>\n",
       "      <th>166</th>\n",
       "      <td>/opt/ml/input/data/train/images/004339_female_...</td>\n",
       "      <td>4</td>\n",
       "      <td>5</td>\n",
       "    </tr>\n",
       "  </tbody>\n",
       "</table>\n",
       "<p>167 rows × 3 columns</p>\n",
       "</div>"
      ],
      "text/plain": [
       "                                                  path  pred  target\n",
       "0    /opt/ml/input/data/train/images/000595_male_As...    10       7\n",
       "1    /opt/ml/input/data/train/images/000595_male_As...     4       1\n",
       "2    /opt/ml/input/data/train/images/000595_male_As...     4       1\n",
       "3    /opt/ml/input/data/train/images/003889_female_...    15      16\n",
       "4    /opt/ml/input/data/train/images/003889_female_...     9      10\n",
       "..                                                 ...   ...     ...\n",
       "162  /opt/ml/input/data/train/images/004339_female_...    10      11\n",
       "163  /opt/ml/input/data/train/images/004339_female_...     4       5\n",
       "164  /opt/ml/input/data/train/images/004339_female_...     4       5\n",
       "165  /opt/ml/input/data/train/images/004339_female_...     4       5\n",
       "166  /opt/ml/input/data/train/images/004339_female_...     4       5\n",
       "\n",
       "[167 rows x 3 columns]"
      ]
     },
     "execution_count": 68,
     "metadata": {},
     "output_type": "execute_result"
    }
   ],
   "source": [
    "wrong_df = check_eval_accr_df[check_eval_accr_df['pred'] != check_eval_accr_df['target']]\n",
    "wrong_df = wrong_df.reset_index(drop=True)\n",
    "wrong_df"
   ]
  },
  {
   "cell_type": "code",
   "execution_count": 71,
   "id": "92174a42-9090-4090-9d32-125694bf2a8d",
   "metadata": {},
   "outputs": [
    {
     "name": "stdout",
     "output_type": "stream",
     "text": [
      "f1 : 0.7901057152097009\n",
      "recall : 0.7607375964793271\n",
      "precision : 0.8535533483182629\n"
     ]
    }
   ],
   "source": [
    "# acc가 가장 높을때의 모델 성능\n",
    "from sklearn.metrics import accuracy_score, recall_score, precision_score, f1_score\n",
    "print(f\"f1 : {f1_score(check_eval_accr_df['target'], check_eval_accr_df['pred'], average = 'macro')}\")\n",
    "print(f\"recall : {recall_score(check_eval_accr_df['target'], check_eval_accr_df['pred'], average = 'macro')}\")\n",
    "print(f\"precision : {precision_score(check_eval_accr_df['target'], check_eval_accr_df['pred'], average = 'macro')}\")"
   ]
  },
  {
   "cell_type": "code",
   "execution_count": null,
   "id": "a8dc5a2f-1b58-43ef-83fa-bf141df5682b",
   "metadata": {},
   "outputs": [],
   "source": []
  },
  {
   "cell_type": "code",
   "execution_count": null,
   "id": "5c79582c-aebe-4a62-8f4d-36a4dc1c8c86",
   "metadata": {},
   "outputs": [],
   "source": []
  },
  {
   "cell_type": "code",
   "execution_count": null,
   "id": "6ac90ac2-e90f-4cc7-b6da-ce8f04a16453",
   "metadata": {},
   "outputs": [],
   "source": []
  },
  {
   "cell_type": "code",
   "execution_count": 31,
   "id": "1933528f-69d9-4a69-8bd3-f8c244c7fd7b",
   "metadata": {},
   "outputs": [],
   "source": [
    "# def draw_(df, col, wide, height):\n",
    "#     plt.figure(figsize = (wide, height))\n",
    "#     col = col\n",
    "#     for i in range(df.shape[0]):\n",
    "#         plt.subplot(df.shape[0]//col + 1, col , i+1)\n",
    "#         plt.imshow(Image.open(df['path'][i]))\n",
    "#         plt.title(f\"target:{df['target'][i]} , pred:{df['pred'][i]}\", color = 'r', size=15)\n",
    "#         plt.axis('off')\n",
    "#     plt.tight_layout()\n",
    "#     plt.show()"
   ]
  },
  {
   "cell_type": "code",
   "execution_count": 76,
   "id": "1c8b1a90-ca45-4803-8824-d37f7561d8a6",
   "metadata": {},
   "outputs": [],
   "source": [
    "#draw_(wrong_df, 5, 10,20)"
   ]
  },
  {
   "cell_type": "code",
   "execution_count": 426,
   "id": "399ee8f2-ee6f-450f-ba80-dfc63565e1ae",
   "metadata": {},
   "outputs": [],
   "source": [
    "test_dir = '/opt/ml/input/data/eval'"
   ]
  },
  {
   "cell_type": "code",
   "execution_count": 430,
   "id": "eb40729b-596c-434a-af7d-fd3f7dc016cc",
   "metadata": {},
   "outputs": [],
   "source": [
    "\n",
    "class TestDataset(Dataset):\n",
    "    def __init__(self, img_paths, transform):\n",
    "        self.img_paths = img_paths\n",
    "        self.transform = transform\n",
    "\n",
    "    def __getitem__(self, index):\n",
    "        image = cv2.imread(self.img_paths[index])\n",
    "        image = cv2.cvtColor(image, cv2.COLOR_BGR2RGB)\n",
    "\n",
    "        if self.transform:\n",
    "            transformed = self.transform(image = image)\n",
    "            transformed_image = transformed['image']\n",
    "        return transformed_image\n",
    "\n",
    "    def __len__(self):\n",
    "        return len(self.img_paths)\n",
    "    "
   ]
  },
  {
   "cell_type": "code",
   "execution_count": 435,
   "id": "b5abdf24-e45e-4227-9ff7-81960c41c990",
   "metadata": {},
   "outputs": [
    {
     "data": {
      "text/plain": [
       "'TunedResnet18'"
      ]
     },
     "execution_count": 435,
     "metadata": {},
     "output_type": "execute_result"
    }
   ],
   "source": [
    "resnet18_best_acc.__class__.__name__"
   ]
  },
  {
   "cell_type": "code",
   "execution_count": 437,
   "id": "b5c1a222-3404-4126-8ba5-3af935c5232a",
   "metadata": {},
   "outputs": [],
   "source": [
    "save_dir = \"./result3\"\n",
    "\n",
    "submission = pd.read_csv(os.path.join(test_dir, 'info.csv'))\n",
    "image_dir = os.path.join(test_dir, 'images')\n",
    "\n",
    "image_paths = [os.path.join(image_dir, img_id) for img_id in submission.ImageID]\n",
    "\n",
    "transform = A.Compose([\n",
    "    A.Resize(512, 384),\n",
    "    A.Normalize(mean=0.5, std=0.2),\n",
    "    transforms.ToTensorV2(transpose_mask=True)\n",
    "    #A.CenterCrop(height=300, width=300, p=1)\n",
    "])\n",
    "\n",
    "test_dataset = TestDataset(image_paths, transform)\n",
    "\n",
    "test_loader = DataLoader(\n",
    "    test_dataset,\n",
    "    shuffle=False\n",
    ")\n",
    "\n",
    "def make_submission(model, loader, device, save_dir, name):\n",
    "    model.eval()\n",
    "    # 모델이 테스트 데이터셋을 예측하고 결과를 저장합니다.\n",
    "    all_predictions = []\n",
    "    for images in loader:\n",
    "        with torch.no_grad():\n",
    "            images = images.to(device)\n",
    "            pred = model(images)\n",
    "            pred = pred.argmax(dim=-1)\n",
    "            all_predictions.extend(pred.cpu().numpy())\n",
    "    submission['ans'] = all_predictions\n",
    "\n",
    "    # 제출할 파일을 저장합니다.\n",
    "    os.makedirs(save_dir, exist_ok=True)\n",
    "    submission.to_csv(f'{save_dir}/{name}_submission.csv', index=False)\n",
    "    print('done')"
   ]
  },
  {
   "cell_type": "code",
   "execution_count": 438,
   "id": "59f54c36-8db4-4dad-ae65-58b409241c86",
   "metadata": {},
   "outputs": [
    {
     "name": "stdout",
     "output_type": "stream",
     "text": [
      "done\n"
     ]
    }
   ],
   "source": [
    "make_submission(resnet18_best_CEloss, test_loader, device, save_dir, 'CEloss_base')"
   ]
  },
  {
   "cell_type": "code",
   "execution_count": null,
   "id": "0757abfd-cff7-41cc-b7c4-fa6ee636edf9",
   "metadata": {},
   "outputs": [],
   "source": [
    "make_submission(resnet18_best_acc, test_loader, device, save_dir, 'acc_base')"
   ]
  },
  {
   "cell_type": "code",
   "execution_count": null,
   "id": "49787447-a85e-4fb5-a687-d2edd6f386ed",
   "metadata": {},
   "outputs": [],
   "source": [
    "# def train(num_epoch = 5, dataloaders, model, loss_now, optimizer):\n",
    "#     best_test_accuracy = 0.\n",
    "#     best_test_loss = 9999.\n",
    "\n",
    "#     for epoch in range(num_epoch):\n",
    "#         for phase in [\"train\", \"test\"]:\n",
    "#             running_loss = 0.\n",
    "#             running_acc = 0.\n",
    "#             if phase == \"train\":\n",
    "#                 model.train() # 네트워크 모델을 train 모드로 두어 gradient을 계산하고, 여러 sub module (배치 정규화, 드롭아웃 등)이 train mode로 작동할 수 있도록 함\n",
    "#             elif phase == \"test\":\n",
    "#                 model.eval() # 네트워크 모델을 eval 모드 두어 여러 sub module들이 eval mode로 작동할 수 있게 함\n",
    "\n",
    "#             for ind, (images, labels) in enumerate(dataloaders[phase]):\n",
    "#                 images = images.to(device)\n",
    "#                 labels = labels.to(device)\n",
    "\n",
    "#                 optimizer.zero_grad() # parameter gradient를 업데이트 전 초기화함\n",
    "\n",
    "#                 with torch.set_grad_enabled(phase == \"train\"): # train 모드일 시에는 gradient를 계산하고, 아닐 때는 gradient를 계산하지 않아 연산량 최소화\n",
    "#                     logits = model(images)\n",
    "#                     _, preds = torch.max(logits, 1) # 모델에서 linear 값으로 나오는 예측 값 ([0.9,1.2, 3.2,0.1,-0.1,...])을 최대 output index를 찾아 예측 레이블([2])로 변경함  \n",
    "#                     loss = loss_now(logits, labels)\n",
    "\n",
    "#                     if phase == \"train\":\n",
    "#                         loss.backward() # 모델의 예측 값과 실제 값의 CrossEntropy 차이를 통해 gradient 계산\n",
    "#                         optimizer.step() # 계산된 gradient를 가지고 모델 업데이트\n",
    "\n",
    "#                 running_loss += loss.item() * images.size(0) # 한 Batch에서의 loss 값 저장\n",
    "#                 running_acc += torch.sum(preds == labels.data) # 한 Batch에서의 Accuracy 값 저장\n",
    "\n",
    "#             # 한 epoch이 모두 종료되었을 때,\n",
    "#             epoch_loss = running_loss / len(dataloaders[phase].dataset)\n",
    "#             epoch_acc = running_acc / len(dataloaders[phase].dataset)\n",
    "\n",
    "#             print(f\"현재 epoch-{epoch}의 {phase}-데이터 셋에서 평균 Loss : {epoch_loss:.3f}, 평균 Accuracy : {epoch_acc:.3f}\")\n",
    "#             if phase == \"test\" and best_test_accuracy < epoch_acc: # phase가 test일 때, best accuracy 계산\n",
    "#                 best_test_accuracy = epoch_acc\n",
    "#             if phase == \"test\" and best_test_loss > epoch_loss: # phase가 test일 때, best loss 계산\n",
    "#                 best_test_loss = epoch_loss\n",
    "#     print(\"학습 종료!\")\n",
    "#     print(f\"최고 accuracy : {best_test_accuracy}, 최고 낮은 loss : {best_test_loss}\")\n",
    "#     return model"
   ]
  }
 ],
 "metadata": {
  "kernelspec": {
   "display_name": "Python 3",
   "language": "python",
   "name": "python3"
  },
  "language_info": {
   "codemirror_mode": {
    "name": "ipython",
    "version": 3
   },
   "file_extension": ".py",
   "mimetype": "text/x-python",
   "name": "python",
   "nbconvert_exporter": "python",
   "pygments_lexer": "ipython3",
   "version": "3.8.5"
  }
 },
 "nbformat": 4,
 "nbformat_minor": 5
}
