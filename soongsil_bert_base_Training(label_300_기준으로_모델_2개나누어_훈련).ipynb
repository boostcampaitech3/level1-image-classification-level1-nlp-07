{
  "nbformat": 4,
  "nbformat_minor": 0,
  "metadata": {
    "accelerator": "GPU",
    "colab": {
      "name": "soongsil_bert_base_Training(label_300_기준으로_모델_2개나누어_훈련).ipynb",
      "provenance": [],
      "collapsed_sections": []
    },
    "kernelspec": {
      "display_name": "Python 3",
      "name": "python3"
    },
    "widgets": {
      "application/vnd.jupyter.widget-state+json": {
        "8dbbeba6f1554e7db0a15d9b262343c9": {
          "model_module": "@jupyter-widgets/controls",
          "model_name": "HBoxModel",
          "state": {
            "_view_name": "HBoxView",
            "_dom_classes": [],
            "_model_name": "HBoxModel",
            "_view_module": "@jupyter-widgets/controls",
            "_model_module_version": "1.5.0",
            "_view_count": null,
            "_view_module_version": "1.5.0",
            "box_style": "",
            "layout": "IPY_MODEL_2686eb9de02c4a9d9740f09798310173",
            "_model_module": "@jupyter-widgets/controls",
            "children": [
              "IPY_MODEL_1bd130637acb4c0db93c05248b762837",
              "IPY_MODEL_3cc70ce852954773be031314c36b61c8"
            ]
          },
          "model_module_version": "1.5.0"
        },
        "2686eb9de02c4a9d9740f09798310173": {
          "model_module": "@jupyter-widgets/base",
          "model_name": "LayoutModel",
          "state": {
            "_view_name": "LayoutView",
            "grid_template_rows": null,
            "right": null,
            "justify_content": null,
            "_view_module": "@jupyter-widgets/base",
            "overflow": null,
            "_model_module_version": "1.2.0",
            "_view_count": null,
            "flex_flow": null,
            "width": null,
            "min_width": null,
            "border": null,
            "align_items": null,
            "bottom": null,
            "_model_module": "@jupyter-widgets/base",
            "top": null,
            "grid_column": null,
            "overflow_y": null,
            "overflow_x": null,
            "grid_auto_flow": null,
            "grid_area": null,
            "grid_template_columns": null,
            "flex": null,
            "_model_name": "LayoutModel",
            "justify_items": null,
            "grid_row": null,
            "max_height": null,
            "align_content": null,
            "visibility": null,
            "align_self": null,
            "height": null,
            "min_height": null,
            "padding": null,
            "grid_auto_rows": null,
            "grid_gap": null,
            "max_width": null,
            "order": null,
            "_view_module_version": "1.2.0",
            "grid_template_areas": null,
            "object_position": null,
            "object_fit": null,
            "grid_auto_columns": null,
            "margin": null,
            "display": null,
            "left": null
          },
          "model_module_version": "1.2.0"
        },
        "1bd130637acb4c0db93c05248b762837": {
          "model_module": "@jupyter-widgets/controls",
          "model_name": "FloatProgressModel",
          "state": {
            "_view_name": "ProgressView",
            "style": "IPY_MODEL_6ccf5ebf20134fa085f2c07946ae1cda",
            "_dom_classes": [],
            "description": "Downloading: 100%",
            "_model_name": "FloatProgressModel",
            "bar_style": "success",
            "max": 555,
            "_view_module": "@jupyter-widgets/controls",
            "_model_module_version": "1.5.0",
            "value": 555,
            "_view_count": null,
            "_view_module_version": "1.5.0",
            "orientation": "horizontal",
            "min": 0,
            "description_tooltip": null,
            "_model_module": "@jupyter-widgets/controls",
            "layout": "IPY_MODEL_728c3151a22e44f7ad35222a6543b3b5"
          },
          "model_module_version": "1.5.0"
        },
        "3cc70ce852954773be031314c36b61c8": {
          "model_module": "@jupyter-widgets/controls",
          "model_name": "HTMLModel",
          "state": {
            "_view_name": "HTMLView",
            "style": "IPY_MODEL_f5478a18f7964893a4ce730f396917e1",
            "_dom_classes": [],
            "description": "",
            "_model_name": "HTMLModel",
            "placeholder": "​",
            "_view_module": "@jupyter-widgets/controls",
            "_model_module_version": "1.5.0",
            "value": " 555/555 [00:00&lt;00:00, 2.67kB/s]",
            "_view_count": null,
            "_view_module_version": "1.5.0",
            "description_tooltip": null,
            "_model_module": "@jupyter-widgets/controls",
            "layout": "IPY_MODEL_3b02a92a2ac14af19fbb5590d1a9f4b4"
          },
          "model_module_version": "1.5.0"
        },
        "6ccf5ebf20134fa085f2c07946ae1cda": {
          "model_module": "@jupyter-widgets/controls",
          "model_name": "ProgressStyleModel",
          "state": {
            "_view_name": "StyleView",
            "_model_name": "ProgressStyleModel",
            "description_width": "initial",
            "_view_module": "@jupyter-widgets/base",
            "_model_module_version": "1.5.0",
            "_view_count": null,
            "_view_module_version": "1.2.0",
            "bar_color": null,
            "_model_module": "@jupyter-widgets/controls"
          },
          "model_module_version": "1.5.0"
        },
        "728c3151a22e44f7ad35222a6543b3b5": {
          "model_module": "@jupyter-widgets/base",
          "model_name": "LayoutModel",
          "state": {
            "_view_name": "LayoutView",
            "grid_template_rows": null,
            "right": null,
            "justify_content": null,
            "_view_module": "@jupyter-widgets/base",
            "overflow": null,
            "_model_module_version": "1.2.0",
            "_view_count": null,
            "flex_flow": null,
            "width": null,
            "min_width": null,
            "border": null,
            "align_items": null,
            "bottom": null,
            "_model_module": "@jupyter-widgets/base",
            "top": null,
            "grid_column": null,
            "overflow_y": null,
            "overflow_x": null,
            "grid_auto_flow": null,
            "grid_area": null,
            "grid_template_columns": null,
            "flex": null,
            "_model_name": "LayoutModel",
            "justify_items": null,
            "grid_row": null,
            "max_height": null,
            "align_content": null,
            "visibility": null,
            "align_self": null,
            "height": null,
            "min_height": null,
            "padding": null,
            "grid_auto_rows": null,
            "grid_gap": null,
            "max_width": null,
            "order": null,
            "_view_module_version": "1.2.0",
            "grid_template_areas": null,
            "object_position": null,
            "object_fit": null,
            "grid_auto_columns": null,
            "margin": null,
            "display": null,
            "left": null
          },
          "model_module_version": "1.2.0"
        },
        "f5478a18f7964893a4ce730f396917e1": {
          "model_module": "@jupyter-widgets/controls",
          "model_name": "DescriptionStyleModel",
          "state": {
            "_view_name": "StyleView",
            "_model_name": "DescriptionStyleModel",
            "description_width": "",
            "_view_module": "@jupyter-widgets/base",
            "_model_module_version": "1.5.0",
            "_view_count": null,
            "_view_module_version": "1.2.0",
            "_model_module": "@jupyter-widgets/controls"
          },
          "model_module_version": "1.5.0"
        },
        "3b02a92a2ac14af19fbb5590d1a9f4b4": {
          "model_module": "@jupyter-widgets/base",
          "model_name": "LayoutModel",
          "state": {
            "_view_name": "LayoutView",
            "grid_template_rows": null,
            "right": null,
            "justify_content": null,
            "_view_module": "@jupyter-widgets/base",
            "overflow": null,
            "_model_module_version": "1.2.0",
            "_view_count": null,
            "flex_flow": null,
            "width": null,
            "min_width": null,
            "border": null,
            "align_items": null,
            "bottom": null,
            "_model_module": "@jupyter-widgets/base",
            "top": null,
            "grid_column": null,
            "overflow_y": null,
            "overflow_x": null,
            "grid_auto_flow": null,
            "grid_area": null,
            "grid_template_columns": null,
            "flex": null,
            "_model_name": "LayoutModel",
            "justify_items": null,
            "grid_row": null,
            "max_height": null,
            "align_content": null,
            "visibility": null,
            "align_self": null,
            "height": null,
            "min_height": null,
            "padding": null,
            "grid_auto_rows": null,
            "grid_gap": null,
            "max_width": null,
            "order": null,
            "_view_module_version": "1.2.0",
            "grid_template_areas": null,
            "object_position": null,
            "object_fit": null,
            "grid_auto_columns": null,
            "margin": null,
            "display": null,
            "left": null
          },
          "model_module_version": "1.2.0"
        },
        "98700fafac564666952eab89a92a6370": {
          "model_module": "@jupyter-widgets/controls",
          "model_name": "HBoxModel",
          "state": {
            "_view_name": "HBoxView",
            "_dom_classes": [],
            "_model_name": "HBoxModel",
            "_view_module": "@jupyter-widgets/controls",
            "_model_module_version": "1.5.0",
            "_view_count": null,
            "_view_module_version": "1.5.0",
            "box_style": "",
            "layout": "IPY_MODEL_6c0309bf7e8743c7a6984b28a18161b1",
            "_model_module": "@jupyter-widgets/controls",
            "children": [
              "IPY_MODEL_ba8aa732868246469173b1ea3ebcd443",
              "IPY_MODEL_3d0e1c89734a4522aa94650ba58ec9ce"
            ]
          },
          "model_module_version": "1.5.0"
        },
        "6c0309bf7e8743c7a6984b28a18161b1": {
          "model_module": "@jupyter-widgets/base",
          "model_name": "LayoutModel",
          "state": {
            "_view_name": "LayoutView",
            "grid_template_rows": null,
            "right": null,
            "justify_content": null,
            "_view_module": "@jupyter-widgets/base",
            "overflow": null,
            "_model_module_version": "1.2.0",
            "_view_count": null,
            "flex_flow": null,
            "width": null,
            "min_width": null,
            "border": null,
            "align_items": null,
            "bottom": null,
            "_model_module": "@jupyter-widgets/base",
            "top": null,
            "grid_column": null,
            "overflow_y": null,
            "overflow_x": null,
            "grid_auto_flow": null,
            "grid_area": null,
            "grid_template_columns": null,
            "flex": null,
            "_model_name": "LayoutModel",
            "justify_items": null,
            "grid_row": null,
            "max_height": null,
            "align_content": null,
            "visibility": null,
            "align_self": null,
            "height": null,
            "min_height": null,
            "padding": null,
            "grid_auto_rows": null,
            "grid_gap": null,
            "max_width": null,
            "order": null,
            "_view_module_version": "1.2.0",
            "grid_template_areas": null,
            "object_position": null,
            "object_fit": null,
            "grid_auto_columns": null,
            "margin": null,
            "display": null,
            "left": null
          },
          "model_module_version": "1.2.0"
        },
        "ba8aa732868246469173b1ea3ebcd443": {
          "model_module": "@jupyter-widgets/controls",
          "model_name": "FloatProgressModel",
          "state": {
            "_view_name": "ProgressView",
            "style": "IPY_MODEL_1f91291450704464ac47827bd46e1c4f",
            "_dom_classes": [],
            "description": "Downloading: 100%",
            "_model_name": "FloatProgressModel",
            "bar_style": "success",
            "max": 346876,
            "_view_module": "@jupyter-widgets/controls",
            "_model_module_version": "1.5.0",
            "value": 346876,
            "_view_count": null,
            "_view_module_version": "1.5.0",
            "orientation": "horizontal",
            "min": 0,
            "description_tooltip": null,
            "_model_module": "@jupyter-widgets/controls",
            "layout": "IPY_MODEL_fca220dfbb2844d79f9c8d75ea9a3e41"
          },
          "model_module_version": "1.5.0"
        },
        "3d0e1c89734a4522aa94650ba58ec9ce": {
          "model_module": "@jupyter-widgets/controls",
          "model_name": "HTMLModel",
          "state": {
            "_view_name": "HTMLView",
            "style": "IPY_MODEL_2bdae662e7d4484bb390df1382650cd8",
            "_dom_classes": [],
            "description": "",
            "_model_name": "HTMLModel",
            "placeholder": "​",
            "_view_module": "@jupyter-widgets/controls",
            "_model_module_version": "1.5.0",
            "value": " 347k/347k [00:00&lt;00:00, 526kB/s]",
            "_view_count": null,
            "_view_module_version": "1.5.0",
            "description_tooltip": null,
            "_model_module": "@jupyter-widgets/controls",
            "layout": "IPY_MODEL_f654a8a38af544dea8bcc4c50fa3af87"
          },
          "model_module_version": "1.5.0"
        },
        "1f91291450704464ac47827bd46e1c4f": {
          "model_module": "@jupyter-widgets/controls",
          "model_name": "ProgressStyleModel",
          "state": {
            "_view_name": "StyleView",
            "_model_name": "ProgressStyleModel",
            "description_width": "initial",
            "_view_module": "@jupyter-widgets/base",
            "_model_module_version": "1.5.0",
            "_view_count": null,
            "_view_module_version": "1.2.0",
            "bar_color": null,
            "_model_module": "@jupyter-widgets/controls"
          },
          "model_module_version": "1.5.0"
        },
        "fca220dfbb2844d79f9c8d75ea9a3e41": {
          "model_module": "@jupyter-widgets/base",
          "model_name": "LayoutModel",
          "state": {
            "_view_name": "LayoutView",
            "grid_template_rows": null,
            "right": null,
            "justify_content": null,
            "_view_module": "@jupyter-widgets/base",
            "overflow": null,
            "_model_module_version": "1.2.0",
            "_view_count": null,
            "flex_flow": null,
            "width": null,
            "min_width": null,
            "border": null,
            "align_items": null,
            "bottom": null,
            "_model_module": "@jupyter-widgets/base",
            "top": null,
            "grid_column": null,
            "overflow_y": null,
            "overflow_x": null,
            "grid_auto_flow": null,
            "grid_area": null,
            "grid_template_columns": null,
            "flex": null,
            "_model_name": "LayoutModel",
            "justify_items": null,
            "grid_row": null,
            "max_height": null,
            "align_content": null,
            "visibility": null,
            "align_self": null,
            "height": null,
            "min_height": null,
            "padding": null,
            "grid_auto_rows": null,
            "grid_gap": null,
            "max_width": null,
            "order": null,
            "_view_module_version": "1.2.0",
            "grid_template_areas": null,
            "object_position": null,
            "object_fit": null,
            "grid_auto_columns": null,
            "margin": null,
            "display": null,
            "left": null
          },
          "model_module_version": "1.2.0"
        },
        "2bdae662e7d4484bb390df1382650cd8": {
          "model_module": "@jupyter-widgets/controls",
          "model_name": "DescriptionStyleModel",
          "state": {
            "_view_name": "StyleView",
            "_model_name": "DescriptionStyleModel",
            "description_width": "",
            "_view_module": "@jupyter-widgets/base",
            "_model_module_version": "1.5.0",
            "_view_count": null,
            "_view_module_version": "1.2.0",
            "_model_module": "@jupyter-widgets/controls"
          },
          "model_module_version": "1.5.0"
        },
        "f654a8a38af544dea8bcc4c50fa3af87": {
          "model_module": "@jupyter-widgets/base",
          "model_name": "LayoutModel",
          "state": {
            "_view_name": "LayoutView",
            "grid_template_rows": null,
            "right": null,
            "justify_content": null,
            "_view_module": "@jupyter-widgets/base",
            "overflow": null,
            "_model_module_version": "1.2.0",
            "_view_count": null,
            "flex_flow": null,
            "width": null,
            "min_width": null,
            "border": null,
            "align_items": null,
            "bottom": null,
            "_model_module": "@jupyter-widgets/base",
            "top": null,
            "grid_column": null,
            "overflow_y": null,
            "overflow_x": null,
            "grid_auto_flow": null,
            "grid_area": null,
            "grid_template_columns": null,
            "flex": null,
            "_model_name": "LayoutModel",
            "justify_items": null,
            "grid_row": null,
            "max_height": null,
            "align_content": null,
            "visibility": null,
            "align_self": null,
            "height": null,
            "min_height": null,
            "padding": null,
            "grid_auto_rows": null,
            "grid_gap": null,
            "max_width": null,
            "order": null,
            "_view_module_version": "1.2.0",
            "grid_template_areas": null,
            "object_position": null,
            "object_fit": null,
            "grid_auto_columns": null,
            "margin": null,
            "display": null,
            "left": null
          },
          "model_module_version": "1.2.0"
        },
        "76dee98529e1404892723d0723315801": {
          "model_module": "@jupyter-widgets/controls",
          "model_name": "HBoxModel",
          "state": {
            "_view_name": "HBoxView",
            "_dom_classes": [],
            "_model_name": "HBoxModel",
            "_view_module": "@jupyter-widgets/controls",
            "_model_module_version": "1.5.0",
            "_view_count": null,
            "_view_module_version": "1.5.0",
            "box_style": "",
            "layout": "IPY_MODEL_631379e0872b4779895a6e8d6f47f162",
            "_model_module": "@jupyter-widgets/controls",
            "children": [
              "IPY_MODEL_1179dabd3d13462a850ddc838c52dc13",
              "IPY_MODEL_6d077c5011d54f60a111add320f6af58"
            ]
          },
          "model_module_version": "1.5.0"
        },
        "631379e0872b4779895a6e8d6f47f162": {
          "model_module": "@jupyter-widgets/base",
          "model_name": "LayoutModel",
          "state": {
            "_view_name": "LayoutView",
            "grid_template_rows": null,
            "right": null,
            "justify_content": null,
            "_view_module": "@jupyter-widgets/base",
            "overflow": null,
            "_model_module_version": "1.2.0",
            "_view_count": null,
            "flex_flow": null,
            "width": null,
            "min_width": null,
            "border": null,
            "align_items": null,
            "bottom": null,
            "_model_module": "@jupyter-widgets/base",
            "top": null,
            "grid_column": null,
            "overflow_y": null,
            "overflow_x": null,
            "grid_auto_flow": null,
            "grid_area": null,
            "grid_template_columns": null,
            "flex": null,
            "_model_name": "LayoutModel",
            "justify_items": null,
            "grid_row": null,
            "max_height": null,
            "align_content": null,
            "visibility": null,
            "align_self": null,
            "height": null,
            "min_height": null,
            "padding": null,
            "grid_auto_rows": null,
            "grid_gap": null,
            "max_width": null,
            "order": null,
            "_view_module_version": "1.2.0",
            "grid_template_areas": null,
            "object_position": null,
            "object_fit": null,
            "grid_auto_columns": null,
            "margin": null,
            "display": null,
            "left": null
          },
          "model_module_version": "1.2.0"
        },
        "1179dabd3d13462a850ddc838c52dc13": {
          "model_module": "@jupyter-widgets/controls",
          "model_name": "FloatProgressModel",
          "state": {
            "_view_name": "ProgressView",
            "style": "IPY_MODEL_ec69bf893c004f7893c60e3ab46411a3",
            "_dom_classes": [],
            "description": "Downloading: 100%",
            "_model_name": "FloatProgressModel",
            "bar_style": "success",
            "max": 245069,
            "_view_module": "@jupyter-widgets/controls",
            "_model_module_version": "1.5.0",
            "value": 245069,
            "_view_count": null,
            "_view_module_version": "1.5.0",
            "orientation": "horizontal",
            "min": 0,
            "description_tooltip": null,
            "_model_module": "@jupyter-widgets/controls",
            "layout": "IPY_MODEL_308e9d5e8fa846e8a3b81991a0347726"
          },
          "model_module_version": "1.5.0"
        },
        "6d077c5011d54f60a111add320f6af58": {
          "model_module": "@jupyter-widgets/controls",
          "model_name": "HTMLModel",
          "state": {
            "_view_name": "HTMLView",
            "style": "IPY_MODEL_a8f20e34a7e5464aa23b9037f1e18de4",
            "_dom_classes": [],
            "description": "",
            "_model_name": "HTMLModel",
            "placeholder": "​",
            "_view_module": "@jupyter-widgets/controls",
            "_model_module_version": "1.5.0",
            "value": " 245k/245k [00:00&lt;00:00, 598kB/s]",
            "_view_count": null,
            "_view_module_version": "1.5.0",
            "description_tooltip": null,
            "_model_module": "@jupyter-widgets/controls",
            "layout": "IPY_MODEL_a6e31438543240e0a5ef989cb1b9927b"
          },
          "model_module_version": "1.5.0"
        },
        "ec69bf893c004f7893c60e3ab46411a3": {
          "model_module": "@jupyter-widgets/controls",
          "model_name": "ProgressStyleModel",
          "state": {
            "_view_name": "StyleView",
            "_model_name": "ProgressStyleModel",
            "description_width": "initial",
            "_view_module": "@jupyter-widgets/base",
            "_model_module_version": "1.5.0",
            "_view_count": null,
            "_view_module_version": "1.2.0",
            "bar_color": null,
            "_model_module": "@jupyter-widgets/controls"
          },
          "model_module_version": "1.5.0"
        },
        "308e9d5e8fa846e8a3b81991a0347726": {
          "model_module": "@jupyter-widgets/base",
          "model_name": "LayoutModel",
          "state": {
            "_view_name": "LayoutView",
            "grid_template_rows": null,
            "right": null,
            "justify_content": null,
            "_view_module": "@jupyter-widgets/base",
            "overflow": null,
            "_model_module_version": "1.2.0",
            "_view_count": null,
            "flex_flow": null,
            "width": null,
            "min_width": null,
            "border": null,
            "align_items": null,
            "bottom": null,
            "_model_module": "@jupyter-widgets/base",
            "top": null,
            "grid_column": null,
            "overflow_y": null,
            "overflow_x": null,
            "grid_auto_flow": null,
            "grid_area": null,
            "grid_template_columns": null,
            "flex": null,
            "_model_name": "LayoutModel",
            "justify_items": null,
            "grid_row": null,
            "max_height": null,
            "align_content": null,
            "visibility": null,
            "align_self": null,
            "height": null,
            "min_height": null,
            "padding": null,
            "grid_auto_rows": null,
            "grid_gap": null,
            "max_width": null,
            "order": null,
            "_view_module_version": "1.2.0",
            "grid_template_areas": null,
            "object_position": null,
            "object_fit": null,
            "grid_auto_columns": null,
            "margin": null,
            "display": null,
            "left": null
          },
          "model_module_version": "1.2.0"
        },
        "a8f20e34a7e5464aa23b9037f1e18de4": {
          "model_module": "@jupyter-widgets/controls",
          "model_name": "DescriptionStyleModel",
          "state": {
            "_view_name": "StyleView",
            "_model_name": "DescriptionStyleModel",
            "description_width": "",
            "_view_module": "@jupyter-widgets/base",
            "_model_module_version": "1.5.0",
            "_view_count": null,
            "_view_module_version": "1.2.0",
            "_model_module": "@jupyter-widgets/controls"
          },
          "model_module_version": "1.5.0"
        },
        "a6e31438543240e0a5ef989cb1b9927b": {
          "model_module": "@jupyter-widgets/base",
          "model_name": "LayoutModel",
          "state": {
            "_view_name": "LayoutView",
            "grid_template_rows": null,
            "right": null,
            "justify_content": null,
            "_view_module": "@jupyter-widgets/base",
            "overflow": null,
            "_model_module_version": "1.2.0",
            "_view_count": null,
            "flex_flow": null,
            "width": null,
            "min_width": null,
            "border": null,
            "align_items": null,
            "bottom": null,
            "_model_module": "@jupyter-widgets/base",
            "top": null,
            "grid_column": null,
            "overflow_y": null,
            "overflow_x": null,
            "grid_auto_flow": null,
            "grid_area": null,
            "grid_template_columns": null,
            "flex": null,
            "_model_name": "LayoutModel",
            "justify_items": null,
            "grid_row": null,
            "max_height": null,
            "align_content": null,
            "visibility": null,
            "align_self": null,
            "height": null,
            "min_height": null,
            "padding": null,
            "grid_auto_rows": null,
            "grid_gap": null,
            "max_width": null,
            "order": null,
            "_view_module_version": "1.2.0",
            "grid_template_areas": null,
            "object_position": null,
            "object_fit": null,
            "grid_auto_columns": null,
            "margin": null,
            "display": null,
            "left": null
          },
          "model_module_version": "1.2.0"
        },
        "fd7595363ebd4fe082fc0585ad431a31": {
          "model_module": "@jupyter-widgets/controls",
          "model_name": "HBoxModel",
          "state": {
            "_view_name": "HBoxView",
            "_dom_classes": [],
            "_model_name": "HBoxModel",
            "_view_module": "@jupyter-widgets/controls",
            "_model_module_version": "1.5.0",
            "_view_count": null,
            "_view_module_version": "1.5.0",
            "box_style": "",
            "layout": "IPY_MODEL_e38b4020e10242d49036d97a8eca2103",
            "_model_module": "@jupyter-widgets/controls",
            "children": [
              "IPY_MODEL_c276f9b7c7be4152ab6f1d28729d9de4",
              "IPY_MODEL_df5f2ddb045c4ac6aaf39d56b6f0f046"
            ]
          },
          "model_module_version": "1.5.0"
        },
        "e38b4020e10242d49036d97a8eca2103": {
          "model_module": "@jupyter-widgets/base",
          "model_name": "LayoutModel",
          "state": {
            "_view_name": "LayoutView",
            "grid_template_rows": null,
            "right": null,
            "justify_content": null,
            "_view_module": "@jupyter-widgets/base",
            "overflow": null,
            "_model_module_version": "1.2.0",
            "_view_count": null,
            "flex_flow": null,
            "width": null,
            "min_width": null,
            "border": null,
            "align_items": null,
            "bottom": null,
            "_model_module": "@jupyter-widgets/base",
            "top": null,
            "grid_column": null,
            "overflow_y": null,
            "overflow_x": null,
            "grid_auto_flow": null,
            "grid_area": null,
            "grid_template_columns": null,
            "flex": null,
            "_model_name": "LayoutModel",
            "justify_items": null,
            "grid_row": null,
            "max_height": null,
            "align_content": null,
            "visibility": null,
            "align_self": null,
            "height": null,
            "min_height": null,
            "padding": null,
            "grid_auto_rows": null,
            "grid_gap": null,
            "max_width": null,
            "order": null,
            "_view_module_version": "1.2.0",
            "grid_template_areas": null,
            "object_position": null,
            "object_fit": null,
            "grid_auto_columns": null,
            "margin": null,
            "display": null,
            "left": null
          },
          "model_module_version": "1.2.0"
        },
        "c276f9b7c7be4152ab6f1d28729d9de4": {
          "model_module": "@jupyter-widgets/controls",
          "model_name": "FloatProgressModel",
          "state": {
            "_view_name": "ProgressView",
            "style": "IPY_MODEL_778f33a1a4d34908b6d40a54468453d9",
            "_dom_classes": [],
            "description": "Downloading: 100%",
            "_model_name": "FloatProgressModel",
            "bar_style": "success",
            "max": 239,
            "_view_module": "@jupyter-widgets/controls",
            "_model_module_version": "1.5.0",
            "value": 239,
            "_view_count": null,
            "_view_module_version": "1.5.0",
            "orientation": "horizontal",
            "min": 0,
            "description_tooltip": null,
            "_model_module": "@jupyter-widgets/controls",
            "layout": "IPY_MODEL_76ee4a9b00a44a6c92954346591bebbb"
          },
          "model_module_version": "1.5.0"
        },
        "df5f2ddb045c4ac6aaf39d56b6f0f046": {
          "model_module": "@jupyter-widgets/controls",
          "model_name": "HTMLModel",
          "state": {
            "_view_name": "HTMLView",
            "style": "IPY_MODEL_ebd54eaa6f914ec0bfbd7185378af463",
            "_dom_classes": [],
            "description": "",
            "_model_name": "HTMLModel",
            "placeholder": "​",
            "_view_module": "@jupyter-widgets/controls",
            "_model_module_version": "1.5.0",
            "value": " 239/239 [00:00&lt;00:00, 2.00kB/s]",
            "_view_count": null,
            "_view_module_version": "1.5.0",
            "description_tooltip": null,
            "_model_module": "@jupyter-widgets/controls",
            "layout": "IPY_MODEL_4fe66a6b587b4123b677edb0e21332c0"
          },
          "model_module_version": "1.5.0"
        },
        "778f33a1a4d34908b6d40a54468453d9": {
          "model_module": "@jupyter-widgets/controls",
          "model_name": "ProgressStyleModel",
          "state": {
            "_view_name": "StyleView",
            "_model_name": "ProgressStyleModel",
            "description_width": "initial",
            "_view_module": "@jupyter-widgets/base",
            "_model_module_version": "1.5.0",
            "_view_count": null,
            "_view_module_version": "1.2.0",
            "bar_color": null,
            "_model_module": "@jupyter-widgets/controls"
          },
          "model_module_version": "1.5.0"
        },
        "76ee4a9b00a44a6c92954346591bebbb": {
          "model_module": "@jupyter-widgets/base",
          "model_name": "LayoutModel",
          "state": {
            "_view_name": "LayoutView",
            "grid_template_rows": null,
            "right": null,
            "justify_content": null,
            "_view_module": "@jupyter-widgets/base",
            "overflow": null,
            "_model_module_version": "1.2.0",
            "_view_count": null,
            "flex_flow": null,
            "width": null,
            "min_width": null,
            "border": null,
            "align_items": null,
            "bottom": null,
            "_model_module": "@jupyter-widgets/base",
            "top": null,
            "grid_column": null,
            "overflow_y": null,
            "overflow_x": null,
            "grid_auto_flow": null,
            "grid_area": null,
            "grid_template_columns": null,
            "flex": null,
            "_model_name": "LayoutModel",
            "justify_items": null,
            "grid_row": null,
            "max_height": null,
            "align_content": null,
            "visibility": null,
            "align_self": null,
            "height": null,
            "min_height": null,
            "padding": null,
            "grid_auto_rows": null,
            "grid_gap": null,
            "max_width": null,
            "order": null,
            "_view_module_version": "1.2.0",
            "grid_template_areas": null,
            "object_position": null,
            "object_fit": null,
            "grid_auto_columns": null,
            "margin": null,
            "display": null,
            "left": null
          },
          "model_module_version": "1.2.0"
        },
        "ebd54eaa6f914ec0bfbd7185378af463": {
          "model_module": "@jupyter-widgets/controls",
          "model_name": "DescriptionStyleModel",
          "state": {
            "_view_name": "StyleView",
            "_model_name": "DescriptionStyleModel",
            "description_width": "",
            "_view_module": "@jupyter-widgets/base",
            "_model_module_version": "1.5.0",
            "_view_count": null,
            "_view_module_version": "1.2.0",
            "_model_module": "@jupyter-widgets/controls"
          },
          "model_module_version": "1.5.0"
        },
        "4fe66a6b587b4123b677edb0e21332c0": {
          "model_module": "@jupyter-widgets/base",
          "model_name": "LayoutModel",
          "state": {
            "_view_name": "LayoutView",
            "grid_template_rows": null,
            "right": null,
            "justify_content": null,
            "_view_module": "@jupyter-widgets/base",
            "overflow": null,
            "_model_module_version": "1.2.0",
            "_view_count": null,
            "flex_flow": null,
            "width": null,
            "min_width": null,
            "border": null,
            "align_items": null,
            "bottom": null,
            "_model_module": "@jupyter-widgets/base",
            "top": null,
            "grid_column": null,
            "overflow_y": null,
            "overflow_x": null,
            "grid_auto_flow": null,
            "grid_area": null,
            "grid_template_columns": null,
            "flex": null,
            "_model_name": "LayoutModel",
            "justify_items": null,
            "grid_row": null,
            "max_height": null,
            "align_content": null,
            "visibility": null,
            "align_self": null,
            "height": null,
            "min_height": null,
            "padding": null,
            "grid_auto_rows": null,
            "grid_gap": null,
            "max_width": null,
            "order": null,
            "_view_module_version": "1.2.0",
            "grid_template_areas": null,
            "object_position": null,
            "object_fit": null,
            "grid_auto_columns": null,
            "margin": null,
            "display": null,
            "left": null
          },
          "model_module_version": "1.2.0"
        },
        "306f4747881f45c484d5fe77fd013ece": {
          "model_module": "@jupyter-widgets/controls",
          "model_name": "HBoxModel",
          "state": {
            "_view_name": "HBoxView",
            "_dom_classes": [],
            "_model_name": "HBoxModel",
            "_view_module": "@jupyter-widgets/controls",
            "_model_module_version": "1.5.0",
            "_view_count": null,
            "_view_module_version": "1.5.0",
            "box_style": "",
            "layout": "IPY_MODEL_8282e42c42fd48c282058705f32e4c58",
            "_model_module": "@jupyter-widgets/controls",
            "children": [
              "IPY_MODEL_a7a81ac169b5473babf5a2ea6ebda57c",
              "IPY_MODEL_44ec54c520f74f709443856b5bce7c04"
            ]
          },
          "model_module_version": "1.5.0"
        },
        "8282e42c42fd48c282058705f32e4c58": {
          "model_module": "@jupyter-widgets/base",
          "model_name": "LayoutModel",
          "state": {
            "_view_name": "LayoutView",
            "grid_template_rows": null,
            "right": null,
            "justify_content": null,
            "_view_module": "@jupyter-widgets/base",
            "overflow": null,
            "_model_module_version": "1.2.0",
            "_view_count": null,
            "flex_flow": null,
            "width": null,
            "min_width": null,
            "border": null,
            "align_items": null,
            "bottom": null,
            "_model_module": "@jupyter-widgets/base",
            "top": null,
            "grid_column": null,
            "overflow_y": null,
            "overflow_x": null,
            "grid_auto_flow": null,
            "grid_area": null,
            "grid_template_columns": null,
            "flex": null,
            "_model_name": "LayoutModel",
            "justify_items": null,
            "grid_row": null,
            "max_height": null,
            "align_content": null,
            "visibility": null,
            "align_self": null,
            "height": null,
            "min_height": null,
            "padding": null,
            "grid_auto_rows": null,
            "grid_gap": null,
            "max_width": null,
            "order": null,
            "_view_module_version": "1.2.0",
            "grid_template_areas": null,
            "object_position": null,
            "object_fit": null,
            "grid_auto_columns": null,
            "margin": null,
            "display": null,
            "left": null
          },
          "model_module_version": "1.2.0"
        },
        "a7a81ac169b5473babf5a2ea6ebda57c": {
          "model_module": "@jupyter-widgets/controls",
          "model_name": "FloatProgressModel",
          "state": {
            "_view_name": "ProgressView",
            "style": "IPY_MODEL_6ddfeac9325f4ea38a44f86a3d28de01",
            "_dom_classes": [],
            "description": "Downloading: 100%",
            "_model_name": "FloatProgressModel",
            "bar_style": "success",
            "max": 78,
            "_view_module": "@jupyter-widgets/controls",
            "_model_module_version": "1.5.0",
            "value": 78,
            "_view_count": null,
            "_view_module_version": "1.5.0",
            "orientation": "horizontal",
            "min": 0,
            "description_tooltip": null,
            "_model_module": "@jupyter-widgets/controls",
            "layout": "IPY_MODEL_a711339f99af45758254e04dbb602c73"
          },
          "model_module_version": "1.5.0"
        },
        "44ec54c520f74f709443856b5bce7c04": {
          "model_module": "@jupyter-widgets/controls",
          "model_name": "HTMLModel",
          "state": {
            "_view_name": "HTMLView",
            "style": "IPY_MODEL_ea9303a8e3084b2c912cbe8708b02716",
            "_dom_classes": [],
            "description": "",
            "_model_name": "HTMLModel",
            "placeholder": "​",
            "_view_module": "@jupyter-widgets/controls",
            "_model_module_version": "1.5.0",
            "value": " 78.0/78.0 [00:00&lt;00:00, 786B/s]",
            "_view_count": null,
            "_view_module_version": "1.5.0",
            "description_tooltip": null,
            "_model_module": "@jupyter-widgets/controls",
            "layout": "IPY_MODEL_e21eceeb40f34ff9a30bf7788a91f9a3"
          },
          "model_module_version": "1.5.0"
        },
        "6ddfeac9325f4ea38a44f86a3d28de01": {
          "model_module": "@jupyter-widgets/controls",
          "model_name": "ProgressStyleModel",
          "state": {
            "_view_name": "StyleView",
            "_model_name": "ProgressStyleModel",
            "description_width": "initial",
            "_view_module": "@jupyter-widgets/base",
            "_model_module_version": "1.5.0",
            "_view_count": null,
            "_view_module_version": "1.2.0",
            "bar_color": null,
            "_model_module": "@jupyter-widgets/controls"
          },
          "model_module_version": "1.5.0"
        },
        "a711339f99af45758254e04dbb602c73": {
          "model_module": "@jupyter-widgets/base",
          "model_name": "LayoutModel",
          "state": {
            "_view_name": "LayoutView",
            "grid_template_rows": null,
            "right": null,
            "justify_content": null,
            "_view_module": "@jupyter-widgets/base",
            "overflow": null,
            "_model_module_version": "1.2.0",
            "_view_count": null,
            "flex_flow": null,
            "width": null,
            "min_width": null,
            "border": null,
            "align_items": null,
            "bottom": null,
            "_model_module": "@jupyter-widgets/base",
            "top": null,
            "grid_column": null,
            "overflow_y": null,
            "overflow_x": null,
            "grid_auto_flow": null,
            "grid_area": null,
            "grid_template_columns": null,
            "flex": null,
            "_model_name": "LayoutModel",
            "justify_items": null,
            "grid_row": null,
            "max_height": null,
            "align_content": null,
            "visibility": null,
            "align_self": null,
            "height": null,
            "min_height": null,
            "padding": null,
            "grid_auto_rows": null,
            "grid_gap": null,
            "max_width": null,
            "order": null,
            "_view_module_version": "1.2.0",
            "grid_template_areas": null,
            "object_position": null,
            "object_fit": null,
            "grid_auto_columns": null,
            "margin": null,
            "display": null,
            "left": null
          },
          "model_module_version": "1.2.0"
        },
        "ea9303a8e3084b2c912cbe8708b02716": {
          "model_module": "@jupyter-widgets/controls",
          "model_name": "DescriptionStyleModel",
          "state": {
            "_view_name": "StyleView",
            "_model_name": "DescriptionStyleModel",
            "description_width": "",
            "_view_module": "@jupyter-widgets/base",
            "_model_module_version": "1.5.0",
            "_view_count": null,
            "_view_module_version": "1.2.0",
            "_model_module": "@jupyter-widgets/controls"
          },
          "model_module_version": "1.5.0"
        },
        "e21eceeb40f34ff9a30bf7788a91f9a3": {
          "model_module": "@jupyter-widgets/base",
          "model_name": "LayoutModel",
          "state": {
            "_view_name": "LayoutView",
            "grid_template_rows": null,
            "right": null,
            "justify_content": null,
            "_view_module": "@jupyter-widgets/base",
            "overflow": null,
            "_model_module_version": "1.2.0",
            "_view_count": null,
            "flex_flow": null,
            "width": null,
            "min_width": null,
            "border": null,
            "align_items": null,
            "bottom": null,
            "_model_module": "@jupyter-widgets/base",
            "top": null,
            "grid_column": null,
            "overflow_y": null,
            "overflow_x": null,
            "grid_auto_flow": null,
            "grid_area": null,
            "grid_template_columns": null,
            "flex": null,
            "_model_name": "LayoutModel",
            "justify_items": null,
            "grid_row": null,
            "max_height": null,
            "align_content": null,
            "visibility": null,
            "align_self": null,
            "height": null,
            "min_height": null,
            "padding": null,
            "grid_auto_rows": null,
            "grid_gap": null,
            "max_width": null,
            "order": null,
            "_view_module_version": "1.2.0",
            "grid_template_areas": null,
            "object_position": null,
            "object_fit": null,
            "grid_auto_columns": null,
            "margin": null,
            "display": null,
            "left": null
          },
          "model_module_version": "1.2.0"
        },
        "53226483443a416abf7a70849b4bd851": {
          "model_module": "@jupyter-widgets/controls",
          "model_name": "HBoxModel",
          "state": {
            "_view_name": "HBoxView",
            "_dom_classes": [],
            "_model_name": "HBoxModel",
            "_view_module": "@jupyter-widgets/controls",
            "_model_module_version": "1.5.0",
            "_view_count": null,
            "_view_module_version": "1.5.0",
            "box_style": "",
            "layout": "IPY_MODEL_18fb400996744cb6bd5613f62b664a94",
            "_model_module": "@jupyter-widgets/controls",
            "children": [
              "IPY_MODEL_5f67f2033aae4c7798c9a5a7ce91e21c",
              "IPY_MODEL_5f2ef3fb13eb4b38950dcf77e767eceb"
            ]
          },
          "model_module_version": "1.5.0"
        },
        "18fb400996744cb6bd5613f62b664a94": {
          "model_module": "@jupyter-widgets/base",
          "model_name": "LayoutModel",
          "state": {
            "_view_name": "LayoutView",
            "grid_template_rows": null,
            "right": null,
            "justify_content": null,
            "_view_module": "@jupyter-widgets/base",
            "overflow": null,
            "_model_module_version": "1.2.0",
            "_view_count": null,
            "flex_flow": null,
            "width": null,
            "min_width": null,
            "border": null,
            "align_items": null,
            "bottom": null,
            "_model_module": "@jupyter-widgets/base",
            "top": null,
            "grid_column": null,
            "overflow_y": null,
            "overflow_x": null,
            "grid_auto_flow": null,
            "grid_area": null,
            "grid_template_columns": null,
            "flex": null,
            "_model_name": "LayoutModel",
            "justify_items": null,
            "grid_row": null,
            "max_height": null,
            "align_content": null,
            "visibility": null,
            "align_self": null,
            "height": null,
            "min_height": null,
            "padding": null,
            "grid_auto_rows": null,
            "grid_gap": null,
            "max_width": null,
            "order": null,
            "_view_module_version": "1.2.0",
            "grid_template_areas": null,
            "object_position": null,
            "object_fit": null,
            "grid_auto_columns": null,
            "margin": null,
            "display": null,
            "left": null
          },
          "model_module_version": "1.2.0"
        },
        "5f67f2033aae4c7798c9a5a7ce91e21c": {
          "model_module": "@jupyter-widgets/controls",
          "model_name": "FloatProgressModel",
          "state": {
            "_view_name": "ProgressView",
            "style": "IPY_MODEL_00bbfbfd47094d7da499507d792f5447",
            "_dom_classes": [],
            "description": "Downloading: 100%",
            "_model_name": "FloatProgressModel",
            "bar_style": "success",
            "max": 393481746,
            "_view_module": "@jupyter-widgets/controls",
            "_model_module_version": "1.5.0",
            "value": 393481746,
            "_view_count": null,
            "_view_module_version": "1.5.0",
            "orientation": "horizontal",
            "min": 0,
            "description_tooltip": null,
            "_model_module": "@jupyter-widgets/controls",
            "layout": "IPY_MODEL_a05a4e17b18647b8989dfbaa2aa41bd1"
          },
          "model_module_version": "1.5.0"
        },
        "5f2ef3fb13eb4b38950dcf77e767eceb": {
          "model_module": "@jupyter-widgets/controls",
          "model_name": "HTMLModel",
          "state": {
            "_view_name": "HTMLView",
            "style": "IPY_MODEL_99015e255bcf42a39c86f84f448bfa5f",
            "_dom_classes": [],
            "description": "",
            "_model_name": "HTMLModel",
            "placeholder": "​",
            "_view_module": "@jupyter-widgets/controls",
            "_model_module_version": "1.5.0",
            "value": " 393M/393M [00:09&lt;00:00, 43.2MB/s]",
            "_view_count": null,
            "_view_module_version": "1.5.0",
            "description_tooltip": null,
            "_model_module": "@jupyter-widgets/controls",
            "layout": "IPY_MODEL_f99c782adc9a4e1f8bc6e5756558501d"
          },
          "model_module_version": "1.5.0"
        },
        "00bbfbfd47094d7da499507d792f5447": {
          "model_module": "@jupyter-widgets/controls",
          "model_name": "ProgressStyleModel",
          "state": {
            "_view_name": "StyleView",
            "_model_name": "ProgressStyleModel",
            "description_width": "initial",
            "_view_module": "@jupyter-widgets/base",
            "_model_module_version": "1.5.0",
            "_view_count": null,
            "_view_module_version": "1.2.0",
            "bar_color": null,
            "_model_module": "@jupyter-widgets/controls"
          },
          "model_module_version": "1.5.0"
        },
        "a05a4e17b18647b8989dfbaa2aa41bd1": {
          "model_module": "@jupyter-widgets/base",
          "model_name": "LayoutModel",
          "state": {
            "_view_name": "LayoutView",
            "grid_template_rows": null,
            "right": null,
            "justify_content": null,
            "_view_module": "@jupyter-widgets/base",
            "overflow": null,
            "_model_module_version": "1.2.0",
            "_view_count": null,
            "flex_flow": null,
            "width": null,
            "min_width": null,
            "border": null,
            "align_items": null,
            "bottom": null,
            "_model_module": "@jupyter-widgets/base",
            "top": null,
            "grid_column": null,
            "overflow_y": null,
            "overflow_x": null,
            "grid_auto_flow": null,
            "grid_area": null,
            "grid_template_columns": null,
            "flex": null,
            "_model_name": "LayoutModel",
            "justify_items": null,
            "grid_row": null,
            "max_height": null,
            "align_content": null,
            "visibility": null,
            "align_self": null,
            "height": null,
            "min_height": null,
            "padding": null,
            "grid_auto_rows": null,
            "grid_gap": null,
            "max_width": null,
            "order": null,
            "_view_module_version": "1.2.0",
            "grid_template_areas": null,
            "object_position": null,
            "object_fit": null,
            "grid_auto_columns": null,
            "margin": null,
            "display": null,
            "left": null
          },
          "model_module_version": "1.2.0"
        },
        "99015e255bcf42a39c86f84f448bfa5f": {
          "model_module": "@jupyter-widgets/controls",
          "model_name": "DescriptionStyleModel",
          "state": {
            "_view_name": "StyleView",
            "_model_name": "DescriptionStyleModel",
            "description_width": "",
            "_view_module": "@jupyter-widgets/base",
            "_model_module_version": "1.5.0",
            "_view_count": null,
            "_view_module_version": "1.2.0",
            "_model_module": "@jupyter-widgets/controls"
          },
          "model_module_version": "1.5.0"
        },
        "f99c782adc9a4e1f8bc6e5756558501d": {
          "model_module": "@jupyter-widgets/base",
          "model_name": "LayoutModel",
          "state": {
            "_view_name": "LayoutView",
            "grid_template_rows": null,
            "right": null,
            "justify_content": null,
            "_view_module": "@jupyter-widgets/base",
            "overflow": null,
            "_model_module_version": "1.2.0",
            "_view_count": null,
            "flex_flow": null,
            "width": null,
            "min_width": null,
            "border": null,
            "align_items": null,
            "bottom": null,
            "_model_module": "@jupyter-widgets/base",
            "top": null,
            "grid_column": null,
            "overflow_y": null,
            "overflow_x": null,
            "grid_auto_flow": null,
            "grid_area": null,
            "grid_template_columns": null,
            "flex": null,
            "_model_name": "LayoutModel",
            "justify_items": null,
            "grid_row": null,
            "max_height": null,
            "align_content": null,
            "visibility": null,
            "align_self": null,
            "height": null,
            "min_height": null,
            "padding": null,
            "grid_auto_rows": null,
            "grid_gap": null,
            "max_width": null,
            "order": null,
            "_view_module_version": "1.2.0",
            "grid_template_areas": null,
            "object_position": null,
            "object_fit": null,
            "grid_auto_columns": null,
            "margin": null,
            "display": null,
            "left": null
          },
          "model_module_version": "1.2.0"
        }
      }
    }
  },
  "cells": [
    {
      "cell_type": "markdown",
      "metadata": {
        "id": "3BQNcT1aS54q"
      },
      "source": [
        "# SoongsilBERT -base model을 사용하여 학습했습니다.\n",
        "\n",
        "- github 주소: https://github.com/jason9693/Soongsil-BERT\n",
        "- SoongsilBERT 는 small, base(large) 모델 2가지가 있습니다. SoongsilBERT 모델은 16000개의 Vocab Size로 pretrained 된 모델입니다.\n"
      ]
    },
    {
      "cell_type": "markdown",
      "metadata": {
        "id": "m3lvMcjT-WG6"
      },
      "source": [
        "- 구글 드라이브 mount"
      ]
    },
    {
      "cell_type": "code",
      "metadata": {
        "id": "Cvf4EVt45Uri",
        "colab": {
          "base_uri": "https://localhost:8080/"
        },
        "outputId": "7cad1a1b-3ce4-41b2-adc1-d85efc53c95a"
      },
      "source": [
        "from google.colab import drive\n",
        "drive.mount('/content/drive/')"
      ],
      "execution_count": null,
      "outputs": [
        {
          "output_type": "stream",
          "text": [
            "Mounted at /content/drive/\n"
          ],
          "name": "stdout"
        }
      ]
    },
    {
      "cell_type": "code",
      "metadata": {
        "colab": {
          "base_uri": "https://localhost:8080/"
        },
        "id": "sq7q5g6e8jzc",
        "outputId": "f5a186b9-7e3f-45e5-c0dd-c997ec53445a"
      },
      "source": [
        "!ls /content/drive/MyDrive/intention"
      ],
      "execution_count": null,
      "outputs": [
        {
          "output_type": "stream",
          "text": [
            "corpus.txt\t soongsil-roberta-base-nsmc-ckpt\t      train2_first.txt\n",
            "dev2_first.txt\t soongsil-roberta-base-nsmc-ckptfirst_model   train2_second.txt\n",
            "dev2_second.txt  soongsil-roberta-base-nsmc-ckptsecond_model  train.txt\n",
            "dev.txt\t\t test.txt\n"
          ],
          "name": "stdout"
        }
      ]
    },
    {
      "cell_type": "markdown",
      "metadata": {
        "id": "i52NhYA8-aWU"
      },
      "source": [
        "- 필요한 패지키 다운로드"
      ]
    },
    {
      "cell_type": "code",
      "metadata": {
        "colab": {
          "base_uri": "https://localhost:8080/"
        },
        "id": "eRD-xZBVq0DM",
        "outputId": "a2318028-bb24-41a4-8ca4-698c7490f88d"
      },
      "source": [
        "!git clone https://github.com/jason9693/Soongsil-BERT.git\n",
        "%cd Soongsil-BERT/finetune"
      ],
      "execution_count": null,
      "outputs": [
        {
          "output_type": "stream",
          "text": [
            "Cloning into 'Soongsil-BERT'...\n",
            "remote: Enumerating objects: 51, done.\u001b[K\n",
            "remote: Counting objects: 100% (51/51), done.\u001b[K\n",
            "remote: Compressing objects: 100% (42/42), done.\u001b[K\n",
            "remote: Total 172 (delta 29), reused 22 (delta 9), pack-reused 121\u001b[K\n",
            "Receiving objects: 100% (172/172), 62.52 MiB | 23.79 MiB/s, done.\n",
            "Resolving deltas: 100% (63/63), done.\n",
            "Checking out files: 100% (30/30), done.\n",
            "/content/Soongsil-BERT/finetune\n"
          ],
          "name": "stdout"
        }
      ]
    },
    {
      "cell_type": "code",
      "metadata": {
        "colab": {
          "base_uri": "https://localhost:8080/"
        },
        "id": "zWQKIvfIQ-RQ",
        "outputId": "09eb694d-1944-446f-a205-fbd6ca785677"
      },
      "source": [
        "!pip install transformers==3.3.1\n",
        "!pip install attrDict"
      ],
      "execution_count": null,
      "outputs": [
        {
          "output_type": "stream",
          "text": [
            "Collecting transformers==3.3.1\n",
            "\u001b[?25l  Downloading https://files.pythonhosted.org/packages/19/22/aff234f4a841f8999e68a7a94bdd4b60b4cebcfeca5d67d61cd08c9179de/transformers-3.3.1-py3-none-any.whl (1.1MB)\n",
            "\r\u001b[K     |▎                               | 10kB 25.0MB/s eta 0:00:01\r\u001b[K     |▋                               | 20kB 17.5MB/s eta 0:00:01\r\u001b[K     |█                               | 30kB 15.6MB/s eta 0:00:01\r\u001b[K     |█▎                              | 40kB 14.9MB/s eta 0:00:01\r\u001b[K     |█▌                              | 51kB 11.8MB/s eta 0:00:01\r\u001b[K     |█▉                              | 61kB 11.7MB/s eta 0:00:01\r\u001b[K     |██▏                             | 71kB 11.7MB/s eta 0:00:01\r\u001b[K     |██▌                             | 81kB 12.4MB/s eta 0:00:01\r\u001b[K     |██▉                             | 92kB 13.0MB/s eta 0:00:01\r\u001b[K     |███                             | 102kB 12.8MB/s eta 0:00:01\r\u001b[K     |███▍                            | 112kB 12.8MB/s eta 0:00:01\r\u001b[K     |███▊                            | 122kB 12.8MB/s eta 0:00:01\r\u001b[K     |████                            | 133kB 12.8MB/s eta 0:00:01\r\u001b[K     |████▎                           | 143kB 12.8MB/s eta 0:00:01\r\u001b[K     |████▋                           | 153kB 12.8MB/s eta 0:00:01\r\u001b[K     |█████                           | 163kB 12.8MB/s eta 0:00:01\r\u001b[K     |█████▎                          | 174kB 12.8MB/s eta 0:00:01\r\u001b[K     |█████▋                          | 184kB 12.8MB/s eta 0:00:01\r\u001b[K     |█████▉                          | 194kB 12.8MB/s eta 0:00:01\r\u001b[K     |██████▏                         | 204kB 12.8MB/s eta 0:00:01\r\u001b[K     |██████▌                         | 215kB 12.8MB/s eta 0:00:01\r\u001b[K     |██████▉                         | 225kB 12.8MB/s eta 0:00:01\r\u001b[K     |███████                         | 235kB 12.8MB/s eta 0:00:01\r\u001b[K     |███████▍                        | 245kB 12.8MB/s eta 0:00:01\r\u001b[K     |███████▊                        | 256kB 12.8MB/s eta 0:00:01\r\u001b[K     |████████                        | 266kB 12.8MB/s eta 0:00:01\r\u001b[K     |████████▍                       | 276kB 12.8MB/s eta 0:00:01\r\u001b[K     |████████▋                       | 286kB 12.8MB/s eta 0:00:01\r\u001b[K     |█████████                       | 296kB 12.8MB/s eta 0:00:01\r\u001b[K     |█████████▎                      | 307kB 12.8MB/s eta 0:00:01\r\u001b[K     |█████████▋                      | 317kB 12.8MB/s eta 0:00:01\r\u001b[K     |█████████▉                      | 327kB 12.8MB/s eta 0:00:01\r\u001b[K     |██████████▏                     | 337kB 12.8MB/s eta 0:00:01\r\u001b[K     |██████████▌                     | 348kB 12.8MB/s eta 0:00:01\r\u001b[K     |██████████▉                     | 358kB 12.8MB/s eta 0:00:01\r\u001b[K     |███████████▏                    | 368kB 12.8MB/s eta 0:00:01\r\u001b[K     |███████████▍                    | 378kB 12.8MB/s eta 0:00:01\r\u001b[K     |███████████▊                    | 389kB 12.8MB/s eta 0:00:01\r\u001b[K     |████████████                    | 399kB 12.8MB/s eta 0:00:01\r\u001b[K     |████████████▍                   | 409kB 12.8MB/s eta 0:00:01\r\u001b[K     |████████████▋                   | 419kB 12.8MB/s eta 0:00:01\r\u001b[K     |█████████████                   | 430kB 12.8MB/s eta 0:00:01\r\u001b[K     |█████████████▎                  | 440kB 12.8MB/s eta 0:00:01\r\u001b[K     |█████████████▋                  | 450kB 12.8MB/s eta 0:00:01\r\u001b[K     |██████████████                  | 460kB 12.8MB/s eta 0:00:01\r\u001b[K     |██████████████▏                 | 471kB 12.8MB/s eta 0:00:01\r\u001b[K     |██████████████▌                 | 481kB 12.8MB/s eta 0:00:01\r\u001b[K     |██████████████▉                 | 491kB 12.8MB/s eta 0:00:01\r\u001b[K     |███████████████▏                | 501kB 12.8MB/s eta 0:00:01\r\u001b[K     |███████████████▍                | 512kB 12.8MB/s eta 0:00:01\r\u001b[K     |███████████████▊                | 522kB 12.8MB/s eta 0:00:01\r\u001b[K     |████████████████                | 532kB 12.8MB/s eta 0:00:01\r\u001b[K     |████████████████▍               | 542kB 12.8MB/s eta 0:00:01\r\u001b[K     |████████████████▊               | 552kB 12.8MB/s eta 0:00:01\r\u001b[K     |█████████████████               | 563kB 12.8MB/s eta 0:00:01\r\u001b[K     |█████████████████▎              | 573kB 12.8MB/s eta 0:00:01\r\u001b[K     |█████████████████▋              | 583kB 12.8MB/s eta 0:00:01\r\u001b[K     |██████████████████              | 593kB 12.8MB/s eta 0:00:01\r\u001b[K     |██████████████████▏             | 604kB 12.8MB/s eta 0:00:01\r\u001b[K     |██████████████████▌             | 614kB 12.8MB/s eta 0:00:01\r\u001b[K     |██████████████████▉             | 624kB 12.8MB/s eta 0:00:01\r\u001b[K     |███████████████████▏            | 634kB 12.8MB/s eta 0:00:01\r\u001b[K     |███████████████████▌            | 645kB 12.8MB/s eta 0:00:01\r\u001b[K     |███████████████████▊            | 655kB 12.8MB/s eta 0:00:01\r\u001b[K     |████████████████████            | 665kB 12.8MB/s eta 0:00:01\r\u001b[K     |████████████████████▍           | 675kB 12.8MB/s eta 0:00:01\r\u001b[K     |████████████████████▊           | 686kB 12.8MB/s eta 0:00:01\r\u001b[K     |█████████████████████           | 696kB 12.8MB/s eta 0:00:01\r\u001b[K     |█████████████████████▎          | 706kB 12.8MB/s eta 0:00:01\r\u001b[K     |█████████████████████▋          | 716kB 12.8MB/s eta 0:00:01\r\u001b[K     |██████████████████████          | 727kB 12.8MB/s eta 0:00:01\r\u001b[K     |██████████████████████▎         | 737kB 12.8MB/s eta 0:00:01\r\u001b[K     |██████████████████████▌         | 747kB 12.8MB/s eta 0:00:01\r\u001b[K     |██████████████████████▉         | 757kB 12.8MB/s eta 0:00:01\r\u001b[K     |███████████████████████▏        | 768kB 12.8MB/s eta 0:00:01\r\u001b[K     |███████████████████████▌        | 778kB 12.8MB/s eta 0:00:01\r\u001b[K     |███████████████████████▊        | 788kB 12.8MB/s eta 0:00:01\r\u001b[K     |████████████████████████        | 798kB 12.8MB/s eta 0:00:01\r\u001b[K     |████████████████████████▍       | 808kB 12.8MB/s eta 0:00:01\r\u001b[K     |████████████████████████▊       | 819kB 12.8MB/s eta 0:00:01\r\u001b[K     |█████████████████████████       | 829kB 12.8MB/s eta 0:00:01\r\u001b[K     |█████████████████████████▎      | 839kB 12.8MB/s eta 0:00:01\r\u001b[K     |█████████████████████████▋      | 849kB 12.8MB/s eta 0:00:01\r\u001b[K     |██████████████████████████      | 860kB 12.8MB/s eta 0:00:01\r\u001b[K     |██████████████████████████▎     | 870kB 12.8MB/s eta 0:00:01\r\u001b[K     |██████████████████████████▌     | 880kB 12.8MB/s eta 0:00:01\r\u001b[K     |██████████████████████████▉     | 890kB 12.8MB/s eta 0:00:01\r\u001b[K     |███████████████████████████▏    | 901kB 12.8MB/s eta 0:00:01\r\u001b[K     |███████████████████████████▌    | 911kB 12.8MB/s eta 0:00:01\r\u001b[K     |███████████████████████████▉    | 921kB 12.8MB/s eta 0:00:01\r\u001b[K     |████████████████████████████    | 931kB 12.8MB/s eta 0:00:01\r\u001b[K     |████████████████████████████▍   | 942kB 12.8MB/s eta 0:00:01\r\u001b[K     |████████████████████████████▊   | 952kB 12.8MB/s eta 0:00:01\r\u001b[K     |█████████████████████████████   | 962kB 12.8MB/s eta 0:00:01\r\u001b[K     |█████████████████████████████▎  | 972kB 12.8MB/s eta 0:00:01\r\u001b[K     |█████████████████████████████▋  | 983kB 12.8MB/s eta 0:00:01\r\u001b[K     |██████████████████████████████  | 993kB 12.8MB/s eta 0:00:01\r\u001b[K     |██████████████████████████████▎ | 1.0MB 12.8MB/s eta 0:00:01\r\u001b[K     |██████████████████████████████▋ | 1.0MB 12.8MB/s eta 0:00:01\r\u001b[K     |██████████████████████████████▉ | 1.0MB 12.8MB/s eta 0:00:01\r\u001b[K     |███████████████████████████████▏| 1.0MB 12.8MB/s eta 0:00:01\r\u001b[K     |███████████████████████████████▌| 1.0MB 12.8MB/s eta 0:00:01\r\u001b[K     |███████████████████████████████▉| 1.1MB 12.8MB/s eta 0:00:01\r\u001b[K     |████████████████████████████████| 1.1MB 12.8MB/s \n",
            "\u001b[?25hRequirement already satisfied: packaging in /usr/local/lib/python3.6/dist-packages (from transformers==3.3.1) (20.8)\n",
            "Requirement already satisfied: numpy in /usr/local/lib/python3.6/dist-packages (from transformers==3.3.1) (1.19.4)\n",
            "Requirement already satisfied: tqdm>=4.27 in /usr/local/lib/python3.6/dist-packages (from transformers==3.3.1) (4.41.1)\n",
            "Collecting sentencepiece!=0.1.92\n",
            "\u001b[?25l  Downloading https://files.pythonhosted.org/packages/e5/2d/6d4ca4bef9a67070fa1cac508606328329152b1df10bdf31fb6e4e727894/sentencepiece-0.1.94-cp36-cp36m-manylinux2014_x86_64.whl (1.1MB)\n",
            "\u001b[K     |████████████████████████████████| 1.1MB 59.0MB/s \n",
            "\u001b[?25hCollecting tokenizers==0.8.1.rc2\n",
            "\u001b[?25l  Downloading https://files.pythonhosted.org/packages/80/83/8b9fccb9e48eeb575ee19179e2bdde0ee9a1904f97de5f02d19016b8804f/tokenizers-0.8.1rc2-cp36-cp36m-manylinux1_x86_64.whl (3.0MB)\n",
            "\u001b[K     |████████████████████████████████| 3.0MB 51.6MB/s \n",
            "\u001b[?25hRequirement already satisfied: regex!=2019.12.17 in /usr/local/lib/python3.6/dist-packages (from transformers==3.3.1) (2019.12.20)\n",
            "Collecting sacremoses\n",
            "\u001b[?25l  Downloading https://files.pythonhosted.org/packages/7d/34/09d19aff26edcc8eb2a01bed8e98f13a1537005d31e95233fd48216eed10/sacremoses-0.0.43.tar.gz (883kB)\n",
            "\u001b[K     |████████████████████████████████| 890kB 51.8MB/s \n",
            "\u001b[?25hRequirement already satisfied: dataclasses; python_version < \"3.7\" in /usr/local/lib/python3.6/dist-packages (from transformers==3.3.1) (0.8)\n",
            "Requirement already satisfied: filelock in /usr/local/lib/python3.6/dist-packages (from transformers==3.3.1) (3.0.12)\n",
            "Requirement already satisfied: requests in /usr/local/lib/python3.6/dist-packages (from transformers==3.3.1) (2.23.0)\n",
            "Requirement already satisfied: pyparsing>=2.0.2 in /usr/local/lib/python3.6/dist-packages (from packaging->transformers==3.3.1) (2.4.7)\n",
            "Requirement already satisfied: six in /usr/local/lib/python3.6/dist-packages (from sacremoses->transformers==3.3.1) (1.15.0)\n",
            "Requirement already satisfied: click in /usr/local/lib/python3.6/dist-packages (from sacremoses->transformers==3.3.1) (7.1.2)\n",
            "Requirement already satisfied: joblib in /usr/local/lib/python3.6/dist-packages (from sacremoses->transformers==3.3.1) (1.0.0)\n",
            "Requirement already satisfied: chardet<4,>=3.0.2 in /usr/local/lib/python3.6/dist-packages (from requests->transformers==3.3.1) (3.0.4)\n",
            "Requirement already satisfied: idna<3,>=2.5 in /usr/local/lib/python3.6/dist-packages (from requests->transformers==3.3.1) (2.10)\n",
            "Requirement already satisfied: certifi>=2017.4.17 in /usr/local/lib/python3.6/dist-packages (from requests->transformers==3.3.1) (2020.12.5)\n",
            "Requirement already satisfied: urllib3!=1.25.0,!=1.25.1,<1.26,>=1.21.1 in /usr/local/lib/python3.6/dist-packages (from requests->transformers==3.3.1) (1.24.3)\n",
            "Building wheels for collected packages: sacremoses\n",
            "  Building wheel for sacremoses (setup.py) ... \u001b[?25l\u001b[?25hdone\n",
            "  Created wheel for sacremoses: filename=sacremoses-0.0.43-cp36-none-any.whl size=893261 sha256=ddbd783a0e2671eaae82b296242a93ffe6db73ea1878fd0663647a263cacb9a0\n",
            "  Stored in directory: /root/.cache/pip/wheels/29/3c/fd/7ce5c3f0666dab31a50123635e6fb5e19ceb42ce38d4e58f45\n",
            "Successfully built sacremoses\n",
            "Installing collected packages: sentencepiece, tokenizers, sacremoses, transformers\n",
            "Successfully installed sacremoses-0.0.43 sentencepiece-0.1.94 tokenizers-0.8.1rc2 transformers-3.3.1\n",
            "Collecting attrDict\n",
            "  Downloading https://files.pythonhosted.org/packages/ef/97/28fe7e68bc7adfce67d4339756e85e9fcf3c6fd7f0c0781695352b70472c/attrdict-2.0.1-py2.py3-none-any.whl\n",
            "Requirement already satisfied: six in /usr/local/lib/python3.6/dist-packages (from attrDict) (1.15.0)\n",
            "Installing collected packages: attrDict\n",
            "Successfully installed attrDict-2.0.1\n"
          ],
          "name": "stdout"
        }
      ]
    },
    {
      "cell_type": "code",
      "metadata": {
        "id": "U1oSmmhkIm0n"
      },
      "source": [
        "import os\n",
        "import numpy as np\n",
        "import glob\n",
        "\n",
        "from fastprogress.fastprogress import master_bar, progress_bar\n",
        "\n",
        "import torch\n",
        "from torch.utils.data import TensorDataset, DataLoader, RandomSampler, SequentialSampler\n",
        "from attrdict import AttrDict\n",
        "\n",
        "from transformers import (\n",
        "    AutoConfig,\n",
        "    AutoTokenizer,\n",
        "    AutoModelForSequenceClassification,\n",
        "    \n",
        "    AdamW,\n",
        "    get_linear_schedule_with_warmup\n",
        ")"
      ],
      "execution_count": null,
      "outputs": []
    },
    {
      "cell_type": "markdown",
      "metadata": {
        "id": "DiyNLNmyL6Ru"
      },
      "source": [
        "#Soongsil-BERT Model Load"
      ]
    },
    {
      "cell_type": "markdown",
      "metadata": {
        "id": "nOskDngPoMZH"
      },
      "source": [
        "## Model Config"
      ]
    },
    {
      "cell_type": "markdown",
      "metadata": {
        "id": "CYTsmTzyKsMH"
      },
      "source": [
        "- 설정을 여기서 변경할 수 있습니다."
      ]
    },
    {
      "cell_type": "code",
      "metadata": {
        "id": "mza4wIHqpVIX"
      },
      "source": [
        "# Ex) 현재 train.txt 경로: /content/drive/MyDrive/intention/train.txt\n",
        "# Ex) 현재dev.txt 경로: /content/drive/MyDrive/intention/dev.txt\n",
        "\n",
        "  \n",
        "### base model 용 config\n",
        "args = AttrDict({\n",
        "  \"task\": \"\", #\"intention\",\n",
        "  \"data_dir\": \"/content/drive/MyDrive/intention/\", # train.txt, dev.txt, test.txt가 저장된 파일 경로를 이 곳에 설정해주면 됩니다.\n",
        "                 \n",
        "  # 모델 학습시 checkpoint 저장할 경로 -지정 경로 하에 \"soongsil-roberta-base-nsmc-ckpt\" 이름의 폴더가 생성됩니다.    \n",
        "  \"output_dir_first\": \"/content/drive/MyDrive/intention/\" + \"soongsil-roberta-base-nsmc-ckpt\" + \"first_model\", # 학습 체크포인트를 저장할 \"경로 + 폴더명\"을 이 곳에 설정해주면 됩니다.\n",
        "  \"output_dir_second\": \"/content/drive/MyDrive/intention/\" + \"soongsil-roberta-base-nsmc-ckpt\" + \"second_model\",\n",
        "                 \n",
        "  \"ckpt_dir\": \"ckpt\",\n",
        "\n",
        "  # 임시 저장 파일 이름               \n",
        "  \"train_first_file\": \"train2_first.txt\",\n",
        "  \"train_second_file\": \"train2_second.txt\",\n",
        "\n",
        "  \"dev_first_file\": \"dev2_first.txt\",\n",
        "  \"dev_second_file\": \"dev2_second.txt\",\n",
        "\n",
        "  \"test_file\": \"test.txt\",\n",
        "\n",
        "\n",
        "  \"evaluate_test_during_training\": True,\n",
        "  \"eval_all_checkpoints\": True,\n",
        "  \"save_optimizer\": False,\n",
        "  \"do_lower_case\": False,\n",
        "  \"do_train\": True,\n",
        "  \"do_eval\": True,\n",
        "  \"max_seq_len\": 36, # 36 으로 설정하였습니다.\n",
        "  \"num_train_epochs\": 10,\n",
        "  \"weight_decay\": 0.0,\n",
        "  \"gradient_accumulation_steps\": 1,\n",
        "  \"adam_epsilon\": 1e-8,\n",
        "  \"warmup_proportion\": 0,\n",
        "  \"max_steps\": -1,\n",
        "  \"max_grad_norm\": 1.0,\n",
        "  \"no_cuda\": False,\n",
        "  \"model_type\": \"roberta\",\n",
        "  \"model_name_or_path\": \"jason9693/soongsil-roberta-base\", # soongsil_bert 모델 small, base 중 큰 모델인 base 버젼을 사용합니다.\n",
        "  \n",
        "  \"seed\": 42,\n",
        "  \"train_batch_size\": 32, # 변경 가능\n",
        "  \"eval_batch_size\": 128, # 영향 없음(내가 보기 위한 것)\n",
        "  \"logging_steps\": 2000,\n",
        "  \"save_steps\": 2000,\n",
        "  \"learning_rate\": 1e-5 # 변경 가능 (건들이면 자꾸 학습이 안 돼)\n",
        "})"
      ],
      "execution_count": null,
      "outputs": []
    },
    {
      "cell_type": "code",
      "metadata": {
        "id": "Ud2fduUcaQKd"
      },
      "source": [
        "# GPU or CPU\n",
        "args.device = \"cuda\" if torch.cuda.is_available() and not args.no_cuda else \"cpu\""
      ],
      "execution_count": null,
      "outputs": []
    },
    {
      "cell_type": "markdown",
      "metadata": {
        "id": "5AgoM_O6RLIc"
      },
      "source": [
        "# Data Load"
      ]
    },
    {
      "cell_type": "markdown",
      "metadata": {
        "id": "ns4pCOtGK3-E"
      },
      "source": [
        "- 우리 데이터에 맞게 파일 읽기 및 형식 변환 등 처리\n",
        "\n",
        "1.input 길이 0, 1 인 샘플 제외 (결측치 제거(dropna), 34284번 데이터 제거)\n",
        "\n",
        "2.top X 이하 클래스를 others로"
      ]
    },
    {
      "cell_type": "code",
      "metadata": {
        "id": "LRRvVWgqR8gt"
      },
      "source": [
        "## 임포트\n",
        "import numpy as np\n",
        "import pandas as pd\n",
        "\n",
        "## 데이터 불러오기 + 형식 변환\n",
        "train = pd.read_csv(args.data_dir + 'train.txt', sep='\\t', header=None, names=['label', 'document'])\n",
        "dev = pd.read_csv(args.data_dir + 'dev.txt', sep='\\t', header=None, names=['label', 'document'])"
      ],
      "execution_count": null,
      "outputs": []
    },
    {
      "cell_type": "code",
      "metadata": {
        "id": "l-LoTFb1Lg3D"
      },
      "source": [
        "# 결측치 처리 및 한 글자 데이터 처리\n",
        "train = train.dropna()  # NA 값 5개 제거\n",
        "train = train.drop(34284)   # input이 '문' 한 글자인거 제외"
      ],
      "execution_count": null,
      "outputs": []
    },
    {
      "cell_type": "code",
      "metadata": {
        "colab": {
          "base_uri": "https://localhost:8080/"
        },
        "id": "5mjSHLtgLxBY",
        "outputId": "b19382bf-3d62-482d-a5eb-dbf26a1053b4"
      },
      "source": [
        "train.info() # 총 데이터 수 : 83712 개 -> 83706 개"
      ],
      "execution_count": null,
      "outputs": [
        {
          "output_type": "stream",
          "text": [
            "<class 'pandas.core.frame.DataFrame'>\n",
            "Int64Index: 83706 entries, 0 to 83711\n",
            "Data columns (total 2 columns):\n",
            " #   Column    Non-Null Count  Dtype \n",
            "---  ------    --------------  ----- \n",
            " 0   label     83706 non-null  object\n",
            " 1   document  83706 non-null  object\n",
            "dtypes: object(2)\n",
            "memory usage: 1.9+ MB\n"
          ],
          "name": "stdout"
        }
      ]
    },
    {
      "cell_type": "code",
      "metadata": {
        "id": "gBIX_GLALG6G"
      },
      "source": [
        "# 'others' 클래스 설정 (class imbalance 문제해결 위함)\n",
        "\n",
        "num_del_class = 301     # top X 이하 클래스를 others로 \n",
        "\n",
        "\n",
        "class_del_list = train['label'].value_counts()[num_del_class:].index.values"
      ],
      "execution_count": null,
      "outputs": []
    },
    {
      "cell_type": "code",
      "metadata": {
        "id": "QfHaNvjCp80W"
      },
      "source": [
        "# 모델2 에 넣을 데이터 label 추출\n",
        "train_second = train.loc[train['label'].isin(class_del_list),]\n",
        "dev_second = dev.loc[dev['label'].isin(class_del_list),]"
      ],
      "execution_count": null,
      "outputs": []
    },
    {
      "cell_type": "code",
      "metadata": {
        "id": "geggzSmqoQMy"
      },
      "source": [
        "# 모델1 에 넣을 데이터 label 추출\n",
        "train['label'] = train[\"label\"].replace(class_del_list,\"others\")\n",
        "dev['label'] = dev['label'].replace(class_del_list,\"others\")"
      ],
      "execution_count": null,
      "outputs": []
    },
    {
      "cell_type": "code",
      "metadata": {
        "colab": {
          "base_uri": "https://localhost:8080/",
          "height": 388
        },
        "id": "hWwCxJx6Dm8k",
        "outputId": "fa33c4ed-2354-44e4-aba5-996b80b567f6"
      },
      "source": [
        "train"
      ],
      "execution_count": null,
      "outputs": [
        {
          "output_type": "execute_result",
          "data": {
            "text/html": [
              "<div>\n",
              "<style scoped>\n",
              "    .dataframe tbody tr th:only-of-type {\n",
              "        vertical-align: middle;\n",
              "    }\n",
              "\n",
              "    .dataframe tbody tr th {\n",
              "        vertical-align: top;\n",
              "    }\n",
              "\n",
              "    .dataframe thead th {\n",
              "        text-align: right;\n",
              "    }\n",
              "</style>\n",
              "<table border=\"1\" class=\"dataframe\">\n",
              "  <thead>\n",
              "    <tr style=\"text-align: right;\">\n",
              "      <th></th>\n",
              "      <th>label</th>\n",
              "      <th>document</th>\n",
              "    </tr>\n",
              "  </thead>\n",
              "  <tbody>\n",
              "    <tr>\n",
              "      <th>0</th>\n",
              "      <td>1.차량제어-운전제어-일자따라가기</td>\n",
              "      <td>앞차 뒤에서 똑같이 가 줘.</td>\n",
              "    </tr>\n",
              "    <tr>\n",
              "      <th>1</th>\n",
              "      <td>1.차량제어-운전제어-일자따라가기</td>\n",
              "      <td>앞차 뒤에서 따라가 달려 줘.</td>\n",
              "    </tr>\n",
              "    <tr>\n",
              "      <th>2</th>\n",
              "      <td>1.차량제어-운전제어-일자따라가기</td>\n",
              "      <td>앞차보다 먼저 가지 말고 따라가.</td>\n",
              "    </tr>\n",
              "    <tr>\n",
              "      <th>3</th>\n",
              "      <td>1.차량제어-운전제어-일자따라가기</td>\n",
              "      <td>앞차랑 안전거리 유지하고 운행해.</td>\n",
              "    </tr>\n",
              "    <tr>\n",
              "      <th>4</th>\n",
              "      <td>1.차량제어-운전제어-일자따라가기</td>\n",
              "      <td>앞에 차랑 목적지가 좁으니까 따라서 가.</td>\n",
              "    </tr>\n",
              "    <tr>\n",
              "      <th>...</th>\n",
              "      <td>...</td>\n",
              "      <td>...</td>\n",
              "    </tr>\n",
              "    <tr>\n",
              "      <th>83707</th>\n",
              "      <td>others</td>\n",
              "      <td>우리 단어 맞추는 해 보자.</td>\n",
              "    </tr>\n",
              "    <tr>\n",
              "      <th>83708</th>\n",
              "      <td>others</td>\n",
              "      <td>나 싶어 게임 완전 잘하는데 같이 하자.</td>\n",
              "    </tr>\n",
              "    <tr>\n",
              "      <th>83709</th>\n",
              "      <td>others</td>\n",
              "      <td>단어 맞추기 함께 줘.</td>\n",
              "    </tr>\n",
              "    <tr>\n",
              "      <th>83710</th>\n",
              "      <td>others</td>\n",
              "      <td>단어 게임은 하실래요?</td>\n",
              "    </tr>\n",
              "    <tr>\n",
              "      <th>83711</th>\n",
              "      <td>others</td>\n",
              "      <td>단어 게임하는 준비해.</td>\n",
              "    </tr>\n",
              "  </tbody>\n",
              "</table>\n",
              "<p>83706 rows × 2 columns</p>\n",
              "</div>"
            ],
            "text/plain": [
              "                    label                document\n",
              "0      1.차량제어-운전제어-일자따라가기         앞차 뒤에서 똑같이 가 줘.\n",
              "1      1.차량제어-운전제어-일자따라가기        앞차 뒤에서 따라가 달려 줘.\n",
              "2      1.차량제어-운전제어-일자따라가기      앞차보다 먼저 가지 말고 따라가.\n",
              "3      1.차량제어-운전제어-일자따라가기      앞차랑 안전거리 유지하고 운행해.\n",
              "4      1.차량제어-운전제어-일자따라가기  앞에 차랑 목적지가 좁으니까 따라서 가.\n",
              "...                   ...                     ...\n",
              "83707              others         우리 단어 맞추는 해 보자.\n",
              "83708              others  나 싶어 게임 완전 잘하는데 같이 하자.\n",
              "83709              others            단어 맞추기 함께 줘.\n",
              "83710              others            단어 게임은 하실래요?\n",
              "83711              others            단어 게임하는 준비해.\n",
              "\n",
              "[83706 rows x 2 columns]"
            ]
          },
          "metadata": {
            "tags": []
          },
          "execution_count": 14
        }
      ]
    },
    {
      "cell_type": "code",
      "metadata": {
        "id": "1ssdQdqqM5Vb",
        "colab": {
          "base_uri": "https://localhost:8080/",
          "height": 388
        },
        "outputId": "e88c5b09-f72b-4673-f16c-2b9dcd9643f6"
      },
      "source": [
        "train_second"
      ],
      "execution_count": null,
      "outputs": [
        {
          "output_type": "execute_result",
          "data": {
            "text/html": [
              "<div>\n",
              "<style scoped>\n",
              "    .dataframe tbody tr th:only-of-type {\n",
              "        vertical-align: middle;\n",
              "    }\n",
              "\n",
              "    .dataframe tbody tr th {\n",
              "        vertical-align: top;\n",
              "    }\n",
              "\n",
              "    .dataframe thead th {\n",
              "        text-align: right;\n",
              "    }\n",
              "</style>\n",
              "<table border=\"1\" class=\"dataframe\">\n",
              "  <thead>\n",
              "    <tr style=\"text-align: right;\">\n",
              "      <th></th>\n",
              "      <th>label</th>\n",
              "      <th>document</th>\n",
              "    </tr>\n",
              "  </thead>\n",
              "  <tbody>\n",
              "    <tr>\n",
              "      <th>1200</th>\n",
              "      <td>5.차량제어-좌석제어-좌석온도내리기</td>\n",
              "      <td>슬슬 더우니 시트 온도 낮춰 줘.</td>\n",
              "    </tr>\n",
              "    <tr>\n",
              "      <th>1201</th>\n",
              "      <td>5.차량제어-좌석제어-좌석온도내리기</td>\n",
              "      <td>시트 속도가 일도 낮았으면 좋겠어.</td>\n",
              "    </tr>\n",
              "    <tr>\n",
              "      <th>1202</th>\n",
              "      <td>5.차량제어-좌석제어-좌석온도내리기</td>\n",
              "      <td>앞 좌석 두 개 온도를 낮게 해 줘.</td>\n",
              "    </tr>\n",
              "    <tr>\n",
              "      <th>1203</th>\n",
              "      <td>5.차량제어-좌석제어-좌석온도내리기</td>\n",
              "      <td>시트 온도 낮게 가 줘.</td>\n",
              "    </tr>\n",
              "    <tr>\n",
              "      <th>1204</th>\n",
              "      <td>5.차량제어-좌석제어-좌석온도내리기</td>\n",
              "      <td>운전해 온도 한 단계 내려 줄래요?</td>\n",
              "    </tr>\n",
              "    <tr>\n",
              "      <th>...</th>\n",
              "      <td>...</td>\n",
              "      <td>...</td>\n",
              "    </tr>\n",
              "    <tr>\n",
              "      <th>83707</th>\n",
              "      <td>1.엔터테인먼트-음성게임-한글단어맞추기</td>\n",
              "      <td>우리 단어 맞추는 해 보자.</td>\n",
              "    </tr>\n",
              "    <tr>\n",
              "      <th>83708</th>\n",
              "      <td>1.엔터테인먼트-음성게임-한글단어맞추기</td>\n",
              "      <td>나 싶어 게임 완전 잘하는데 같이 하자.</td>\n",
              "    </tr>\n",
              "    <tr>\n",
              "      <th>83709</th>\n",
              "      <td>1.엔터테인먼트-음성게임-한글단어맞추기</td>\n",
              "      <td>단어 맞추기 함께 줘.</td>\n",
              "    </tr>\n",
              "    <tr>\n",
              "      <th>83710</th>\n",
              "      <td>1.엔터테인먼트-음성게임-한글단어맞추기</td>\n",
              "      <td>단어 게임은 하실래요?</td>\n",
              "    </tr>\n",
              "    <tr>\n",
              "      <th>83711</th>\n",
              "      <td>1.엔터테인먼트-음성게임-한글단어맞추기</td>\n",
              "      <td>단어 게임하는 준비해.</td>\n",
              "    </tr>\n",
              "  </tbody>\n",
              "</table>\n",
              "<p>27867 rows × 2 columns</p>\n",
              "</div>"
            ],
            "text/plain": [
              "                       label                document\n",
              "1200     5.차량제어-좌석제어-좌석온도내리기      슬슬 더우니 시트 온도 낮춰 줘.\n",
              "1201     5.차량제어-좌석제어-좌석온도내리기     시트 속도가 일도 낮았으면 좋겠어.\n",
              "1202     5.차량제어-좌석제어-좌석온도내리기    앞 좌석 두 개 온도를 낮게 해 줘.\n",
              "1203     5.차량제어-좌석제어-좌석온도내리기           시트 온도 낮게 가 줘.\n",
              "1204     5.차량제어-좌석제어-좌석온도내리기     운전해 온도 한 단계 내려 줄래요?\n",
              "...                      ...                     ...\n",
              "83707  1.엔터테인먼트-음성게임-한글단어맞추기         우리 단어 맞추는 해 보자.\n",
              "83708  1.엔터테인먼트-음성게임-한글단어맞추기  나 싶어 게임 완전 잘하는데 같이 하자.\n",
              "83709  1.엔터테인먼트-음성게임-한글단어맞추기            단어 맞추기 함께 줘.\n",
              "83710  1.엔터테인먼트-음성게임-한글단어맞추기            단어 게임은 하실래요?\n",
              "83711  1.엔터테인먼트-음성게임-한글단어맞추기            단어 게임하는 준비해.\n",
              "\n",
              "[27867 rows x 2 columns]"
            ]
          },
          "metadata": {
            "tags": []
          },
          "execution_count": 15
        }
      ]
    },
    {
      "cell_type": "markdown",
      "metadata": {
        "id": "EY3qMzpdM7Tm"
      },
      "source": [
        "# 데이터 Preprocessing"
      ]
    },
    {
      "cell_type": "markdown",
      "metadata": {
        "id": "k0yI4ZVx4yx-"
      },
      "source": [
        "1) 데이터 cleansing\n",
        "- . ? ! , ` 는 다시 포함해고 +' 줘' &' 줄래' &' 주세요' (총 3만 5천개 정도)"
      ]
    },
    {
      "cell_type": "code",
      "metadata": {
        "colab": {
          "base_uri": "https://localhost:8080/",
          "height": 388
        },
        "id": "ZjH1j0rtcfEM",
        "outputId": "fedf3dcd-5030-459e-bf9b-ad920fa245bf"
      },
      "source": [
        "# 모델1 에 넣을 데이터\n",
        "\n",
        "train_data_text = list(train['document'])\n",
        "\n",
        "train_clear_text = []\n",
        "\n",
        "\n",
        "for te in train_data_text:\n",
        "  train_clear_text.append(te.replace(' 줘', '').replace(' 줄래', '').replace(' 주세요', ''))\n",
        "train['document'] = train_clear_text\n",
        "\n",
        "train"
      ],
      "execution_count": null,
      "outputs": [
        {
          "output_type": "execute_result",
          "data": {
            "text/html": [
              "<div>\n",
              "<style scoped>\n",
              "    .dataframe tbody tr th:only-of-type {\n",
              "        vertical-align: middle;\n",
              "    }\n",
              "\n",
              "    .dataframe tbody tr th {\n",
              "        vertical-align: top;\n",
              "    }\n",
              "\n",
              "    .dataframe thead th {\n",
              "        text-align: right;\n",
              "    }\n",
              "</style>\n",
              "<table border=\"1\" class=\"dataframe\">\n",
              "  <thead>\n",
              "    <tr style=\"text-align: right;\">\n",
              "      <th></th>\n",
              "      <th>label</th>\n",
              "      <th>document</th>\n",
              "    </tr>\n",
              "  </thead>\n",
              "  <tbody>\n",
              "    <tr>\n",
              "      <th>0</th>\n",
              "      <td>1.차량제어-운전제어-일자따라가기</td>\n",
              "      <td>앞차 뒤에서 똑같이 가.</td>\n",
              "    </tr>\n",
              "    <tr>\n",
              "      <th>1</th>\n",
              "      <td>1.차량제어-운전제어-일자따라가기</td>\n",
              "      <td>앞차 뒤에서 따라가 달려.</td>\n",
              "    </tr>\n",
              "    <tr>\n",
              "      <th>2</th>\n",
              "      <td>1.차량제어-운전제어-일자따라가기</td>\n",
              "      <td>앞차보다 먼저 가지 말고 따라가.</td>\n",
              "    </tr>\n",
              "    <tr>\n",
              "      <th>3</th>\n",
              "      <td>1.차량제어-운전제어-일자따라가기</td>\n",
              "      <td>앞차랑 안전거리 유지하고 운행해.</td>\n",
              "    </tr>\n",
              "    <tr>\n",
              "      <th>4</th>\n",
              "      <td>1.차량제어-운전제어-일자따라가기</td>\n",
              "      <td>앞에 차랑 목적지가 좁으니까 따라서 가.</td>\n",
              "    </tr>\n",
              "    <tr>\n",
              "      <th>...</th>\n",
              "      <td>...</td>\n",
              "      <td>...</td>\n",
              "    </tr>\n",
              "    <tr>\n",
              "      <th>83707</th>\n",
              "      <td>others</td>\n",
              "      <td>우리 단어 맞추는 해 보자.</td>\n",
              "    </tr>\n",
              "    <tr>\n",
              "      <th>83708</th>\n",
              "      <td>others</td>\n",
              "      <td>나 싶어 게임 완전 잘하는데 같이 하자.</td>\n",
              "    </tr>\n",
              "    <tr>\n",
              "      <th>83709</th>\n",
              "      <td>others</td>\n",
              "      <td>단어 맞추기 함께.</td>\n",
              "    </tr>\n",
              "    <tr>\n",
              "      <th>83710</th>\n",
              "      <td>others</td>\n",
              "      <td>단어 게임은 하실래요?</td>\n",
              "    </tr>\n",
              "    <tr>\n",
              "      <th>83711</th>\n",
              "      <td>others</td>\n",
              "      <td>단어 게임하는 준비해.</td>\n",
              "    </tr>\n",
              "  </tbody>\n",
              "</table>\n",
              "<p>83706 rows × 2 columns</p>\n",
              "</div>"
            ],
            "text/plain": [
              "                    label                document\n",
              "0      1.차량제어-운전제어-일자따라가기           앞차 뒤에서 똑같이 가.\n",
              "1      1.차량제어-운전제어-일자따라가기          앞차 뒤에서 따라가 달려.\n",
              "2      1.차량제어-운전제어-일자따라가기      앞차보다 먼저 가지 말고 따라가.\n",
              "3      1.차량제어-운전제어-일자따라가기      앞차랑 안전거리 유지하고 운행해.\n",
              "4      1.차량제어-운전제어-일자따라가기  앞에 차랑 목적지가 좁으니까 따라서 가.\n",
              "...                   ...                     ...\n",
              "83707              others         우리 단어 맞추는 해 보자.\n",
              "83708              others  나 싶어 게임 완전 잘하는데 같이 하자.\n",
              "83709              others              단어 맞추기 함께.\n",
              "83710              others            단어 게임은 하실래요?\n",
              "83711              others            단어 게임하는 준비해.\n",
              "\n",
              "[83706 rows x 2 columns]"
            ]
          },
          "metadata": {
            "tags": []
          },
          "execution_count": 16
        }
      ]
    },
    {
      "cell_type": "code",
      "metadata": {
        "id": "Qfruyi8qDEOj",
        "colab": {
          "base_uri": "https://localhost:8080/",
          "height": 388
        },
        "outputId": "fa4dce40-fd61-429b-b999-92ba70b0c600"
      },
      "source": [
        "dev_data_text = list(dev['document'])\n",
        "\n",
        "dev_clear_text = []\n",
        "\n",
        "\n",
        "for i in range(len(dev_data_text)):\n",
        "  dev_clear_text.append(dev_data_text[i].replace(' 줘', '').replace(' 줄래', '').replace(' 주세요', ''))\n",
        "dev['document'] = dev_clear_text\n",
        "\n",
        "dev"
      ],
      "execution_count": null,
      "outputs": [
        {
          "output_type": "execute_result",
          "data": {
            "text/html": [
              "<div>\n",
              "<style scoped>\n",
              "    .dataframe tbody tr th:only-of-type {\n",
              "        vertical-align: middle;\n",
              "    }\n",
              "\n",
              "    .dataframe tbody tr th {\n",
              "        vertical-align: top;\n",
              "    }\n",
              "\n",
              "    .dataframe thead th {\n",
              "        text-align: right;\n",
              "    }\n",
              "</style>\n",
              "<table border=\"1\" class=\"dataframe\">\n",
              "  <thead>\n",
              "    <tr style=\"text-align: right;\">\n",
              "      <th></th>\n",
              "      <th>label</th>\n",
              "      <th>document</th>\n",
              "    </tr>\n",
              "  </thead>\n",
              "  <tbody>\n",
              "    <tr>\n",
              "      <th>0</th>\n",
              "      <td>1.차량제어-운전제어-일자따라가기</td>\n",
              "      <td>내 앞에 있는 차 계속 따라가.</td>\n",
              "    </tr>\n",
              "    <tr>\n",
              "      <th>1</th>\n",
              "      <td>1.차량제어-운전제어-일자따라가기</td>\n",
              "      <td>차 따라붙기 가능하냐?</td>\n",
              "    </tr>\n",
              "    <tr>\n",
              "      <th>2</th>\n",
              "      <td>1.차량제어-운전제어-일자따라가기</td>\n",
              "      <td>앞차와 제동거리를 유지하면서 따라가.</td>\n",
              "    </tr>\n",
              "    <tr>\n",
              "      <th>3</th>\n",
              "      <td>1.차량제어-운전제어-일자따라가기</td>\n",
              "      <td>앞차 따라 안 붙어?</td>\n",
              "    </tr>\n",
              "    <tr>\n",
              "      <th>4</th>\n",
              "      <td>1.차량제어-운전제어-일자따라가기</td>\n",
              "      <td>앞에 차 뒤에 붙어줄래?</td>\n",
              "    </tr>\n",
              "    <tr>\n",
              "      <th>...</th>\n",
              "      <td>...</td>\n",
              "      <td>...</td>\n",
              "    </tr>\n",
              "    <tr>\n",
              "      <th>9223</th>\n",
              "      <td>others</td>\n",
              "      <td>주사 게임 하는 방법 보여줄래?</td>\n",
              "    </tr>\n",
              "    <tr>\n",
              "      <th>9224</th>\n",
              "      <td>others</td>\n",
              "      <td>소리 지르면 바람 엄마한테 전화 걸어.</td>\n",
              "    </tr>\n",
              "    <tr>\n",
              "      <th>9225</th>\n",
              "      <td>others</td>\n",
              "      <td>우리 반 고장 됐어.</td>\n",
              "    </tr>\n",
              "    <tr>\n",
              "      <th>9226</th>\n",
              "      <td>others</td>\n",
              "      <td>위험 문자 보내지 않아도 될 것 알아요.</td>\n",
              "    </tr>\n",
              "    <tr>\n",
              "      <th>9227</th>\n",
              "      <td>others</td>\n",
              "      <td>단어 맞추기 게임 종류 보여.</td>\n",
              "    </tr>\n",
              "  </tbody>\n",
              "</table>\n",
              "<p>9228 rows × 2 columns</p>\n",
              "</div>"
            ],
            "text/plain": [
              "                   label                document\n",
              "0     1.차량제어-운전제어-일자따라가기       내 앞에 있는 차 계속 따라가.\n",
              "1     1.차량제어-운전제어-일자따라가기            차 따라붙기 가능하냐?\n",
              "2     1.차량제어-운전제어-일자따라가기    앞차와 제동거리를 유지하면서 따라가.\n",
              "3     1.차량제어-운전제어-일자따라가기             앞차 따라 안 붙어?\n",
              "4     1.차량제어-운전제어-일자따라가기           앞에 차 뒤에 붙어줄래?\n",
              "...                  ...                     ...\n",
              "9223              others       주사 게임 하는 방법 보여줄래?\n",
              "9224              others   소리 지르면 바람 엄마한테 전화 걸어.\n",
              "9225              others             우리 반 고장 됐어.\n",
              "9226              others  위험 문자 보내지 않아도 될 것 알아요.\n",
              "9227              others        단어 맞추기 게임 종류 보여.\n",
              "\n",
              "[9228 rows x 2 columns]"
            ]
          },
          "metadata": {
            "tags": []
          },
          "execution_count": 17
        }
      ]
    },
    {
      "cell_type": "code",
      "metadata": {
        "colab": {
          "base_uri": "https://localhost:8080/",
          "height": 487
        },
        "id": "572GzdkdFlRM",
        "outputId": "a86063a0-0230-4b34-81bb-184605fe0cd4"
      },
      "source": [
        "# 모델2 에 넣을 데이터\n",
        "\n",
        "train_data_text2 = list(train_second['document'])\n",
        "\n",
        "train_clear_text2 = []\n",
        "\n",
        "\n",
        "for te in train_data_text2:\n",
        "  train_clear_text2.append(te.replace(' 줘', '').replace(' 줄래', '').replace(' 주세요', ''))\n",
        "train_second['document'] = train_clear_text2\n",
        "\n",
        "train_second"
      ],
      "execution_count": null,
      "outputs": [
        {
          "output_type": "stream",
          "text": [
            "/usr/local/lib/python3.6/dist-packages/ipykernel_launcher.py:10: SettingWithCopyWarning: \n",
            "A value is trying to be set on a copy of a slice from a DataFrame.\n",
            "Try using .loc[row_indexer,col_indexer] = value instead\n",
            "\n",
            "See the caveats in the documentation: https://pandas.pydata.org/pandas-docs/stable/user_guide/indexing.html#returning-a-view-versus-a-copy\n",
            "  # Remove the CWD from sys.path while we load stuff.\n"
          ],
          "name": "stderr"
        },
        {
          "output_type": "execute_result",
          "data": {
            "text/html": [
              "<div>\n",
              "<style scoped>\n",
              "    .dataframe tbody tr th:only-of-type {\n",
              "        vertical-align: middle;\n",
              "    }\n",
              "\n",
              "    .dataframe tbody tr th {\n",
              "        vertical-align: top;\n",
              "    }\n",
              "\n",
              "    .dataframe thead th {\n",
              "        text-align: right;\n",
              "    }\n",
              "</style>\n",
              "<table border=\"1\" class=\"dataframe\">\n",
              "  <thead>\n",
              "    <tr style=\"text-align: right;\">\n",
              "      <th></th>\n",
              "      <th>label</th>\n",
              "      <th>document</th>\n",
              "    </tr>\n",
              "  </thead>\n",
              "  <tbody>\n",
              "    <tr>\n",
              "      <th>1200</th>\n",
              "      <td>5.차량제어-좌석제어-좌석온도내리기</td>\n",
              "      <td>슬슬 더우니 시트 온도 낮춰.</td>\n",
              "    </tr>\n",
              "    <tr>\n",
              "      <th>1201</th>\n",
              "      <td>5.차량제어-좌석제어-좌석온도내리기</td>\n",
              "      <td>시트 속도가 일도 낮았으면 좋겠어.</td>\n",
              "    </tr>\n",
              "    <tr>\n",
              "      <th>1202</th>\n",
              "      <td>5.차량제어-좌석제어-좌석온도내리기</td>\n",
              "      <td>앞 좌석 두 개 온도를 낮게 해.</td>\n",
              "    </tr>\n",
              "    <tr>\n",
              "      <th>1203</th>\n",
              "      <td>5.차량제어-좌석제어-좌석온도내리기</td>\n",
              "      <td>시트 온도 낮게 가.</td>\n",
              "    </tr>\n",
              "    <tr>\n",
              "      <th>1204</th>\n",
              "      <td>5.차량제어-좌석제어-좌석온도내리기</td>\n",
              "      <td>운전해 온도 한 단계 내려요?</td>\n",
              "    </tr>\n",
              "    <tr>\n",
              "      <th>...</th>\n",
              "      <td>...</td>\n",
              "      <td>...</td>\n",
              "    </tr>\n",
              "    <tr>\n",
              "      <th>83707</th>\n",
              "      <td>1.엔터테인먼트-음성게임-한글단어맞추기</td>\n",
              "      <td>우리 단어 맞추는 해 보자.</td>\n",
              "    </tr>\n",
              "    <tr>\n",
              "      <th>83708</th>\n",
              "      <td>1.엔터테인먼트-음성게임-한글단어맞추기</td>\n",
              "      <td>나 싶어 게임 완전 잘하는데 같이 하자.</td>\n",
              "    </tr>\n",
              "    <tr>\n",
              "      <th>83709</th>\n",
              "      <td>1.엔터테인먼트-음성게임-한글단어맞추기</td>\n",
              "      <td>단어 맞추기 함께.</td>\n",
              "    </tr>\n",
              "    <tr>\n",
              "      <th>83710</th>\n",
              "      <td>1.엔터테인먼트-음성게임-한글단어맞추기</td>\n",
              "      <td>단어 게임은 하실래요?</td>\n",
              "    </tr>\n",
              "    <tr>\n",
              "      <th>83711</th>\n",
              "      <td>1.엔터테인먼트-음성게임-한글단어맞추기</td>\n",
              "      <td>단어 게임하는 준비해.</td>\n",
              "    </tr>\n",
              "  </tbody>\n",
              "</table>\n",
              "<p>27867 rows × 2 columns</p>\n",
              "</div>"
            ],
            "text/plain": [
              "                       label                document\n",
              "1200     5.차량제어-좌석제어-좌석온도내리기        슬슬 더우니 시트 온도 낮춰.\n",
              "1201     5.차량제어-좌석제어-좌석온도내리기     시트 속도가 일도 낮았으면 좋겠어.\n",
              "1202     5.차량제어-좌석제어-좌석온도내리기      앞 좌석 두 개 온도를 낮게 해.\n",
              "1203     5.차량제어-좌석제어-좌석온도내리기             시트 온도 낮게 가.\n",
              "1204     5.차량제어-좌석제어-좌석온도내리기        운전해 온도 한 단계 내려요?\n",
              "...                      ...                     ...\n",
              "83707  1.엔터테인먼트-음성게임-한글단어맞추기         우리 단어 맞추는 해 보자.\n",
              "83708  1.엔터테인먼트-음성게임-한글단어맞추기  나 싶어 게임 완전 잘하는데 같이 하자.\n",
              "83709  1.엔터테인먼트-음성게임-한글단어맞추기              단어 맞추기 함께.\n",
              "83710  1.엔터테인먼트-음성게임-한글단어맞추기            단어 게임은 하실래요?\n",
              "83711  1.엔터테인먼트-음성게임-한글단어맞추기            단어 게임하는 준비해.\n",
              "\n",
              "[27867 rows x 2 columns]"
            ]
          },
          "metadata": {
            "tags": []
          },
          "execution_count": 18
        }
      ]
    },
    {
      "cell_type": "code",
      "metadata": {
        "colab": {
          "base_uri": "https://localhost:8080/",
          "height": 487
        },
        "id": "lTvJqHDhFz7x",
        "outputId": "e3d1d81d-18c9-4a3d-b781-f67edbf8fb8b"
      },
      "source": [
        "dev_data_text2 = list(dev_second['document'])\n",
        "\n",
        "dev_clear_text2 = []\n",
        "\n",
        "\n",
        "for i in range(len(dev_data_text2)):\n",
        "  dev_clear_text2.append(dev_data_text2[i].replace(' 줘', '').replace(' 줄래', '').replace(' 주세요', ''))\n",
        "dev_second['document'] = dev_clear_text2\n",
        "\n",
        "dev_second"
      ],
      "execution_count": null,
      "outputs": [
        {
          "output_type": "stream",
          "text": [
            "/usr/local/lib/python3.6/dist-packages/ipykernel_launcher.py:8: SettingWithCopyWarning: \n",
            "A value is trying to be set on a copy of a slice from a DataFrame.\n",
            "Try using .loc[row_indexer,col_indexer] = value instead\n",
            "\n",
            "See the caveats in the documentation: https://pandas.pydata.org/pandas-docs/stable/user_guide/indexing.html#returning-a-view-versus-a-copy\n",
            "  \n"
          ],
          "name": "stderr"
        },
        {
          "output_type": "execute_result",
          "data": {
            "text/html": [
              "<div>\n",
              "<style scoped>\n",
              "    .dataframe tbody tr th:only-of-type {\n",
              "        vertical-align: middle;\n",
              "    }\n",
              "\n",
              "    .dataframe tbody tr th {\n",
              "        vertical-align: top;\n",
              "    }\n",
              "\n",
              "    .dataframe thead th {\n",
              "        text-align: right;\n",
              "    }\n",
              "</style>\n",
              "<table border=\"1\" class=\"dataframe\">\n",
              "  <thead>\n",
              "    <tr style=\"text-align: right;\">\n",
              "      <th></th>\n",
              "      <th>label</th>\n",
              "      <th>document</th>\n",
              "    </tr>\n",
              "  </thead>\n",
              "  <tbody>\n",
              "    <tr>\n",
              "      <th>141</th>\n",
              "      <td>5.차량제어-좌석제어-좌석온도내리기</td>\n",
              "      <td>더워서 좌석 온도 좀만 내려.</td>\n",
              "    </tr>\n",
              "    <tr>\n",
              "      <th>142</th>\n",
              "      <td>5.차량제어-좌석제어-좌석온도내리기</td>\n",
              "      <td>운전석 빼고 나머지 시트 전부 시원하게 만들어.</td>\n",
              "    </tr>\n",
              "    <tr>\n",
              "      <th>209</th>\n",
              "      <td>5.차량제어-창문제어-전체창문닫기</td>\n",
              "      <td>때 가 뒤에 전체 창문 닫아.</td>\n",
              "    </tr>\n",
              "    <tr>\n",
              "      <th>210</th>\n",
              "      <td>5.차량제어-창문제어-전체창문닫기</td>\n",
              "      <td>앞뒤 창문 다 올려.</td>\n",
              "    </tr>\n",
              "    <tr>\n",
              "      <th>211</th>\n",
              "      <td>5.차량제어-창문제어-전체창문닫기</td>\n",
              "      <td>비가 오니 전체 창문 올려.</td>\n",
              "    </tr>\n",
              "    <tr>\n",
              "      <th>...</th>\n",
              "      <td>...</td>\n",
              "      <td>...</td>\n",
              "    </tr>\n",
              "    <tr>\n",
              "      <th>9223</th>\n",
              "      <td>7.교육-놀이&amp;운동서비스-주사위게임안내</td>\n",
              "      <td>주사 게임 하는 방법 보여줄래?</td>\n",
              "    </tr>\n",
              "    <tr>\n",
              "      <th>9224</th>\n",
              "      <td>5.안심케어-메시지-가족에게자동전화</td>\n",
              "      <td>소리 지르면 바람 엄마한테 전화 걸어.</td>\n",
              "    </tr>\n",
              "    <tr>\n",
              "      <th>9225</th>\n",
              "      <td>1.엔터테인먼트-감성대화-축하하기</td>\n",
              "      <td>우리 반 고장 됐어.</td>\n",
              "    </tr>\n",
              "    <tr>\n",
              "      <th>9226</th>\n",
              "      <td>5.안심케어-메시지-긴급메시지취소</td>\n",
              "      <td>위험 문자 보내지 않아도 될 것 알아요.</td>\n",
              "    </tr>\n",
              "    <tr>\n",
              "      <th>9227</th>\n",
              "      <td>1.엔터테인먼트-음성게임-한글단어맞추기</td>\n",
              "      <td>단어 맞추기 게임 종류 보여.</td>\n",
              "    </tr>\n",
              "  </tbody>\n",
              "</table>\n",
              "<p>2763 rows × 2 columns</p>\n",
              "</div>"
            ],
            "text/plain": [
              "                      label                    document\n",
              "141     5.차량제어-좌석제어-좌석온도내리기            더워서 좌석 온도 좀만 내려.\n",
              "142     5.차량제어-좌석제어-좌석온도내리기  운전석 빼고 나머지 시트 전부 시원하게 만들어.\n",
              "209      5.차량제어-창문제어-전체창문닫기            때 가 뒤에 전체 창문 닫아.\n",
              "210      5.차량제어-창문제어-전체창문닫기                 앞뒤 창문 다 올려.\n",
              "211      5.차량제어-창문제어-전체창문닫기             비가 오니 전체 창문 올려.\n",
              "...                     ...                         ...\n",
              "9223  7.교육-놀이&운동서비스-주사위게임안내           주사 게임 하는 방법 보여줄래?\n",
              "9224    5.안심케어-메시지-가족에게자동전화       소리 지르면 바람 엄마한테 전화 걸어.\n",
              "9225     1.엔터테인먼트-감성대화-축하하기                 우리 반 고장 됐어.\n",
              "9226     5.안심케어-메시지-긴급메시지취소      위험 문자 보내지 않아도 될 것 알아요.\n",
              "9227  1.엔터테인먼트-음성게임-한글단어맞추기            단어 맞추기 게임 종류 보여.\n",
              "\n",
              "[2763 rows x 2 columns]"
            ]
          },
          "metadata": {
            "tags": []
          },
          "execution_count": 19
        }
      ]
    },
    {
      "cell_type": "code",
      "metadata": {
        "colab": {
          "base_uri": "https://localhost:8080/",
          "height": 36
        },
        "id": "vtUm8TvW0SKK",
        "outputId": "09e5f7d2-b077-4b0f-c494-f49573e67bd8"
      },
      "source": [
        "#check\n",
        "\n",
        "temp = train['document']\n",
        "temp[240]"
      ],
      "execution_count": null,
      "outputs": [
        {
          "output_type": "execute_result",
          "data": {
            "application/vnd.google.colaboratory.intrinsic+json": {
              "type": "string"
            },
            "text/plain": [
              "'자율 주행 데이터 보고 불어.'"
            ]
          },
          "metadata": {
            "tags": []
          },
          "execution_count": 20
        }
      ]
    },
    {
      "cell_type": "code",
      "metadata": {
        "colab": {
          "base_uri": "https://localhost:8080/",
          "height": 388
        },
        "id": "aOTwSeVxPHIF",
        "outputId": "032fd3af-9aca-48bc-93cf-63a0503e5284"
      },
      "source": [
        "#check\n",
        "\n",
        "dev"
      ],
      "execution_count": null,
      "outputs": [
        {
          "output_type": "execute_result",
          "data": {
            "text/html": [
              "<div>\n",
              "<style scoped>\n",
              "    .dataframe tbody tr th:only-of-type {\n",
              "        vertical-align: middle;\n",
              "    }\n",
              "\n",
              "    .dataframe tbody tr th {\n",
              "        vertical-align: top;\n",
              "    }\n",
              "\n",
              "    .dataframe thead th {\n",
              "        text-align: right;\n",
              "    }\n",
              "</style>\n",
              "<table border=\"1\" class=\"dataframe\">\n",
              "  <thead>\n",
              "    <tr style=\"text-align: right;\">\n",
              "      <th></th>\n",
              "      <th>label</th>\n",
              "      <th>document</th>\n",
              "    </tr>\n",
              "  </thead>\n",
              "  <tbody>\n",
              "    <tr>\n",
              "      <th>0</th>\n",
              "      <td>1.차량제어-운전제어-일자따라가기</td>\n",
              "      <td>내 앞에 있는 차 계속 따라가.</td>\n",
              "    </tr>\n",
              "    <tr>\n",
              "      <th>1</th>\n",
              "      <td>1.차량제어-운전제어-일자따라가기</td>\n",
              "      <td>차 따라붙기 가능하냐?</td>\n",
              "    </tr>\n",
              "    <tr>\n",
              "      <th>2</th>\n",
              "      <td>1.차량제어-운전제어-일자따라가기</td>\n",
              "      <td>앞차와 제동거리를 유지하면서 따라가.</td>\n",
              "    </tr>\n",
              "    <tr>\n",
              "      <th>3</th>\n",
              "      <td>1.차량제어-운전제어-일자따라가기</td>\n",
              "      <td>앞차 따라 안 붙어?</td>\n",
              "    </tr>\n",
              "    <tr>\n",
              "      <th>4</th>\n",
              "      <td>1.차량제어-운전제어-일자따라가기</td>\n",
              "      <td>앞에 차 뒤에 붙어줄래?</td>\n",
              "    </tr>\n",
              "    <tr>\n",
              "      <th>...</th>\n",
              "      <td>...</td>\n",
              "      <td>...</td>\n",
              "    </tr>\n",
              "    <tr>\n",
              "      <th>9223</th>\n",
              "      <td>others</td>\n",
              "      <td>주사 게임 하는 방법 보여줄래?</td>\n",
              "    </tr>\n",
              "    <tr>\n",
              "      <th>9224</th>\n",
              "      <td>others</td>\n",
              "      <td>소리 지르면 바람 엄마한테 전화 걸어.</td>\n",
              "    </tr>\n",
              "    <tr>\n",
              "      <th>9225</th>\n",
              "      <td>others</td>\n",
              "      <td>우리 반 고장 됐어.</td>\n",
              "    </tr>\n",
              "    <tr>\n",
              "      <th>9226</th>\n",
              "      <td>others</td>\n",
              "      <td>위험 문자 보내지 않아도 될 것 알아요.</td>\n",
              "    </tr>\n",
              "    <tr>\n",
              "      <th>9227</th>\n",
              "      <td>others</td>\n",
              "      <td>단어 맞추기 게임 종류 보여.</td>\n",
              "    </tr>\n",
              "  </tbody>\n",
              "</table>\n",
              "<p>9228 rows × 2 columns</p>\n",
              "</div>"
            ],
            "text/plain": [
              "                   label                document\n",
              "0     1.차량제어-운전제어-일자따라가기       내 앞에 있는 차 계속 따라가.\n",
              "1     1.차량제어-운전제어-일자따라가기            차 따라붙기 가능하냐?\n",
              "2     1.차량제어-운전제어-일자따라가기    앞차와 제동거리를 유지하면서 따라가.\n",
              "3     1.차량제어-운전제어-일자따라가기             앞차 따라 안 붙어?\n",
              "4     1.차량제어-운전제어-일자따라가기           앞에 차 뒤에 붙어줄래?\n",
              "...                  ...                     ...\n",
              "9223              others       주사 게임 하는 방법 보여줄래?\n",
              "9224              others   소리 지르면 바람 엄마한테 전화 걸어.\n",
              "9225              others             우리 반 고장 됐어.\n",
              "9226              others  위험 문자 보내지 않아도 될 것 알아요.\n",
              "9227              others        단어 맞추기 게임 종류 보여.\n",
              "\n",
              "[9228 rows x 2 columns]"
            ]
          },
          "metadata": {
            "tags": []
          },
          "execution_count": 21
        }
      ]
    },
    {
      "cell_type": "code",
      "metadata": {
        "colab": {
          "base_uri": "https://localhost:8080/",
          "height": 282
        },
        "id": "ins_PVfqbjyp",
        "outputId": "16c8e844-9996-464e-d11c-5ffab17e114c"
      },
      "source": [
        "# 데이터 길이 살펴보기\n",
        "\n",
        "train['document'].map(len).hist()"
      ],
      "execution_count": null,
      "outputs": [
        {
          "output_type": "execute_result",
          "data": {
            "text/plain": [
              "<matplotlib.axes._subplots.AxesSubplot at 0x7f4f69c3ec18>"
            ]
          },
          "metadata": {
            "tags": []
          },
          "execution_count": 22
        },
        {
          "output_type": "display_data",
          "data": {
            "image/png": "[encoded data removed]",
            "text/plain": [
              "<Figure size 432x288 with 1 Axes>"
            ]
          },
          "metadata": {
            "tags": [],
            "needs_background": "light"
          }
        }
      ]
    },
    {
      "cell_type": "code",
      "metadata": {
        "colab": {
          "base_uri": "https://localhost:8080/",
          "height": 282
        },
        "id": "DuxRYQM7daqQ",
        "outputId": "9e9d1501-0981-4bc6-a2b1-a1df57cb4d1f"
      },
      "source": [
        "dev['document'].map(len).hist()"
      ],
      "execution_count": null,
      "outputs": [
        {
          "output_type": "execute_result",
          "data": {
            "text/plain": [
              "<matplotlib.axes._subplots.AxesSubplot at 0x7f4f69c290b8>"
            ]
          },
          "metadata": {
            "tags": []
          },
          "execution_count": 23
        },
        {
          "output_type": "display_data",
          "data": {
            "image/png": "[encoded data removed]",
            "text/plain": [
              "<Figure size 432x288 with 1 Axes>"
            ]
          },
          "metadata": {
            "tags": [],
            "needs_background": "light"
          }
        }
      ]
    },
    {
      "cell_type": "markdown",
      "metadata": {
        "id": "wqQfHs1DrlVE"
      },
      "source": [
        "2) 텍스트 정규화\n",
        "- 띄어쓰기 정규화 (1. 띄어쓰기 2칸 -> 1칸으로 보정(train: 199개, dev: 11개) & 2. 띄어쓰기 오류 교정(train: 1356개, dev: 179개))"
      ]
    },
    {
      "cell_type": "code",
      "metadata": {
        "id": "-EF2j9y6bbiw",
        "colab": {
          "base_uri": "https://localhost:8080/"
        },
        "outputId": "f6f61fd8-9f14-4ab7-d440-44ca50a02130"
      },
      "source": [
        "#### 텍스트 정규화 (1) - soynlp 패키지의 emoticon_normalize 적용 (띄어쓰기 2칸인거 -> 1칸으로 변화)\n",
        "!pip install soynlp\n",
        "\n",
        "from soynlp.normalizer import *\n",
        "\n",
        "\n",
        "# 모델 1 에 넣을 데이터\n",
        "for docu1 in train['document']:\n",
        "    docu1 = emoticon_normalize(docu1, num_repeats=3)\n",
        "\n",
        "for docu2 in dev['document']:\n",
        "    docu2 = emoticon_normalize(docu1, num_repeats=3)\n",
        "\n",
        "# 모델 2 에 넣을 데이터\n",
        "for docu1 in train_second['document']:\n",
        "    docu1 = emoticon_normalize(docu1, num_repeats=3)\n",
        "\n",
        "for docu2 in dev_second['document']:\n",
        "    docu2 = emoticon_normalize(docu1, num_repeats=3)"
      ],
      "execution_count": null,
      "outputs": [
        {
          "output_type": "stream",
          "text": [
            "Collecting soynlp\n",
            "\u001b[?25l  Downloading https://files.pythonhosted.org/packages/7e/50/6913dc52a86a6b189419e59f9eef1b8d599cffb6f44f7bb91854165fc603/soynlp-0.0.493-py3-none-any.whl (416kB)\n",
            "\r\u001b[K     |▉                               | 10kB 22.7MB/s eta 0:00:01\r\u001b[K     |█▋                              | 20kB 29.0MB/s eta 0:00:01\r\u001b[K     |██▍                             | 30kB 34.2MB/s eta 0:00:01\r\u001b[K     |███▏                            | 40kB 32.9MB/s eta 0:00:01\r\u001b[K     |████                            | 51kB 35.2MB/s eta 0:00:01\r\u001b[K     |████▊                           | 61kB 37.3MB/s eta 0:00:01\r\u001b[K     |█████▌                          | 71kB 26.1MB/s eta 0:00:01\r\u001b[K     |██████▎                         | 81kB 23.2MB/s eta 0:00:01\r\u001b[K     |███████                         | 92kB 24.8MB/s eta 0:00:01\r\u001b[K     |███████▉                        | 102kB 21.6MB/s eta 0:00:01\r\u001b[K     |████████▋                       | 112kB 21.6MB/s eta 0:00:01\r\u001b[K     |█████████▍                      | 122kB 21.6MB/s eta 0:00:01\r\u001b[K     |██████████▏                     | 133kB 21.6MB/s eta 0:00:01\r\u001b[K     |███████████                     | 143kB 21.6MB/s eta 0:00:01\r\u001b[K     |███████████▉                    | 153kB 21.6MB/s eta 0:00:01\r\u001b[K     |████████████▋                   | 163kB 21.6MB/s eta 0:00:01\r\u001b[K     |█████████████▍                  | 174kB 21.6MB/s eta 0:00:01\r\u001b[K     |██████████████▏                 | 184kB 21.6MB/s eta 0:00:01\r\u001b[K     |███████████████                 | 194kB 21.6MB/s eta 0:00:01\r\u001b[K     |███████████████▊                | 204kB 21.6MB/s eta 0:00:01\r\u001b[K     |████████████████▌               | 215kB 21.6MB/s eta 0:00:01\r\u001b[K     |█████████████████▎              | 225kB 21.6MB/s eta 0:00:01\r\u001b[K     |██████████████████              | 235kB 21.6MB/s eta 0:00:01\r\u001b[K     |██████████████████▉             | 245kB 21.6MB/s eta 0:00:01\r\u001b[K     |███████████████████▋            | 256kB 21.6MB/s eta 0:00:01\r\u001b[K     |████████████████████▍           | 266kB 21.6MB/s eta 0:00:01\r\u001b[K     |█████████████████████▎          | 276kB 21.6MB/s eta 0:00:01\r\u001b[K     |██████████████████████          | 286kB 21.6MB/s eta 0:00:01\r\u001b[K     |██████████████████████▉         | 296kB 21.6MB/s eta 0:00:01\r\u001b[K     |███████████████████████▋        | 307kB 21.6MB/s eta 0:00:01\r\u001b[K     |████████████████████████▍       | 317kB 21.6MB/s eta 0:00:01\r\u001b[K     |█████████████████████████▏      | 327kB 21.6MB/s eta 0:00:01\r\u001b[K     |██████████████████████████      | 337kB 21.6MB/s eta 0:00:01\r\u001b[K     |██████████████████████████▊     | 348kB 21.6MB/s eta 0:00:01\r\u001b[K     |███████████████████████████▌    | 358kB 21.6MB/s eta 0:00:01\r\u001b[K     |████████████████████████████▎   | 368kB 21.6MB/s eta 0:00:01\r\u001b[K     |█████████████████████████████   | 378kB 21.6MB/s eta 0:00:01\r\u001b[K     |█████████████████████████████▉  | 389kB 21.6MB/s eta 0:00:01\r\u001b[K     |██████████████████████████████▋ | 399kB 21.6MB/s eta 0:00:01\r\u001b[K     |███████████████████████████████▌| 409kB 21.6MB/s eta 0:00:01\r\u001b[K     |████████████████████████████████| 419kB 21.6MB/s \n",
            "\u001b[?25hRequirement already satisfied: scikit-learn>=0.20.0 in /usr/local/lib/python3.6/dist-packages (from soynlp) (0.22.2.post1)\n",
            "Requirement already satisfied: scipy>=1.1.0 in /usr/local/lib/python3.6/dist-packages (from soynlp) (1.4.1)\n",
            "Requirement already satisfied: numpy>=1.12.1 in /usr/local/lib/python3.6/dist-packages (from soynlp) (1.19.4)\n",
            "Requirement already satisfied: psutil>=5.0.1 in /usr/local/lib/python3.6/dist-packages (from soynlp) (5.4.8)\n",
            "Requirement already satisfied: joblib>=0.11 in /usr/local/lib/python3.6/dist-packages (from scikit-learn>=0.20.0->soynlp) (1.0.0)\n",
            "Installing collected packages: soynlp\n",
            "Successfully installed soynlp-0.0.493\n"
          ],
          "name": "stdout"
        }
      ]
    },
    {
      "cell_type": "code",
      "metadata": {
        "id": "r1XfVOXubbqc",
        "colab": {
          "base_uri": "https://localhost:8080/",
          "height": 36
        },
        "outputId": "4f0b823a-1656-4f23-c2e8-a0d09b1032aa"
      },
      "source": [
        "# check\n",
        "\n",
        "temp = train['document']\n",
        "temp[100]"
      ],
      "execution_count": null,
      "outputs": [
        {
          "output_type": "execute_result",
          "data": {
            "application/vnd.google.colaboratory.intrinsic+json": {
              "type": "string"
            },
            "text/plain": [
              "'앞 차 따라서 구미 나들목으로 진입.'"
            ]
          },
          "metadata": {
            "tags": []
          },
          "execution_count": 25
        }
      ]
    },
    {
      "cell_type": "code",
      "metadata": {
        "colab": {
          "base_uri": "https://localhost:8080/"
        },
        "id": "Ki6sdE4tmXMi",
        "outputId": "a6fe5d0f-9b3c-4514-d4fd-74a1e69129f7"
      },
      "source": [
        "#### 텍스트 정규화 (2) - soyspacing 패키지 CountSpace 적용 (띄어쓰기 오류 교정)\n",
        "!pip install soyspacing"
      ],
      "execution_count": null,
      "outputs": [
        {
          "output_type": "stream",
          "text": [
            "Collecting soyspacing\n",
            "  Downloading https://files.pythonhosted.org/packages/66/30/2bcfe84f8cb41d0011ff6f430c47297e039054853ebc8906a8369594f776/soyspacing-1.0.17-py3-none-any.whl\n",
            "Requirement already satisfied: numpy>=1.12.0 in /usr/local/lib/python3.6/dist-packages (from soyspacing) (1.19.4)\n",
            "Installing collected packages: soyspacing\n",
            "Successfully installed soyspacing-1.0.17\n"
          ],
          "name": "stdout"
        }
      ]
    },
    {
      "cell_type": "code",
      "metadata": {
        "colab": {
          "base_uri": "https://localhost:8080/"
        },
        "id": "0RrPebfpmXRd",
        "outputId": "6824a263-19fb-4901-f2de-f185a8d314f2"
      },
      "source": [
        "from soyspacing.countbase import CountSpace\n",
        "\n",
        "corpus_fname = args.data_dir + 'train.txt'\n",
        "model_corpus = CountSpace()\n",
        "model_corpus.train(corpus_fname) # train 데이터로 corpus를 학습합니다."
      ],
      "execution_count": null,
      "outputs": [
        {
          "output_type": "stream",
          "text": [
            "all tags length = 246728 --> 80648, (num_doc = 83711)"
          ],
          "name": "stdout"
        }
      ]
    },
    {
      "cell_type": "code",
      "metadata": {
        "id": "aoHX55L6mXVs"
      },
      "source": [
        "model_fname = args.data_dir + 'corpus.txt'\n",
        "\n",
        "model_corpus.save_model(model_fname, json_format=False) # 학습한 corpus가 파일로 생성됩니다."
      ],
      "execution_count": null,
      "outputs": []
    },
    {
      "cell_type": "code",
      "metadata": {
        "id": "sumifMgOmXZx"
      },
      "source": [
        "#another_model_fname = args.data_dir + 'corpus.txt'\n",
        "\n",
        "#model = CountSpace()\n",
        "#model.load_model(another_model_fname, json_format=False)"
      ],
      "execution_count": null,
      "outputs": []
    },
    {
      "cell_type": "code",
      "metadata": {
        "colab": {
          "base_uri": "https://localhost:8080/"
        },
        "id": "m3bx8nYbmXdU",
        "outputId": "5bd9ac8f-2967-4baf-9ddd-a8869973da39"
      },
      "source": [
        "verbose=False\n",
        "mc = 10  # min_count\n",
        "ft = 0.3 # force_abs_threshold\n",
        "nt =-0.3 # nonspace_threshold\n",
        "st = 0.3 # space_threshold\n",
        "\n",
        "sent = '우리 단어 맞추는 해 보자.한글단어맞추기' # 예시\n",
        "\n",
        "# with parameters\n",
        "sent_corrected, tags = model_corpus.correct(\n",
        "    doc=sent,\n",
        "    verbose=verbose,\n",
        "    force_abs_threshold=ft,\n",
        "    nonspace_threshold=nt,\n",
        "    space_threshold=st,\n",
        "    min_count=mc)\n",
        "\n",
        "# without parameters\n",
        "sent_corrected, tags = model_corpus.correct(sent)\n",
        "\n",
        "print(sent_corrected) # 예시"
      ],
      "execution_count": null,
      "outputs": [
        {
          "output_type": "stream",
          "text": [
            "우리 단어 맞추는 해 보자.한글단어맞추기\n"
          ],
          "name": "stdout"
        }
      ]
    },
    {
      "cell_type": "code",
      "metadata": {
        "id": "jFGo31vdbbyx"
      },
      "source": [
        "# train, dev 데이터에 적용\n",
        "\n",
        "# 모델1 용\n",
        "for docu1 in train['document']:    \n",
        "    sent_corrected, tags = model_corpus.correct(docu1)\n",
        "    docu1 = sent_corrected\n",
        "\n",
        "for docu in dev['document']:    \n",
        "    sent_corrected2, tags2 = model_corpus.correct(docu)\n",
        "    docu = sent_corrected2\n",
        "\n",
        "\n",
        "\n",
        "# 모델2 용\n",
        "for docu1 in train_second['document']:    \n",
        "    sent_corrected, tags = model_corpus.correct(docu1)\n",
        "    docu1 = sent_corrected\n",
        "\n",
        "for docu in dev_second['document']:    \n",
        "    sent_corrected2, tags2 = model_corpus.correct(docu)\n",
        "    docu = sent_corrected2"
      ],
      "execution_count": null,
      "outputs": []
    },
    {
      "cell_type": "code",
      "metadata": {
        "colab": {
          "base_uri": "https://localhost:8080/",
          "height": 388
        },
        "id": "EeZ_8gIccibK",
        "outputId": "a8fc0340-0d51-4842-8fc6-deee6cd183a3"
      },
      "source": [
        "train_second"
      ],
      "execution_count": null,
      "outputs": [
        {
          "output_type": "execute_result",
          "data": {
            "text/html": [
              "<div>\n",
              "<style scoped>\n",
              "    .dataframe tbody tr th:only-of-type {\n",
              "        vertical-align: middle;\n",
              "    }\n",
              "\n",
              "    .dataframe tbody tr th {\n",
              "        vertical-align: top;\n",
              "    }\n",
              "\n",
              "    .dataframe thead th {\n",
              "        text-align: right;\n",
              "    }\n",
              "</style>\n",
              "<table border=\"1\" class=\"dataframe\">\n",
              "  <thead>\n",
              "    <tr style=\"text-align: right;\">\n",
              "      <th></th>\n",
              "      <th>label</th>\n",
              "      <th>document</th>\n",
              "    </tr>\n",
              "  </thead>\n",
              "  <tbody>\n",
              "    <tr>\n",
              "      <th>1200</th>\n",
              "      <td>5.차량제어-좌석제어-좌석온도내리기</td>\n",
              "      <td>슬슬 더우니 시트 온도 낮춰.</td>\n",
              "    </tr>\n",
              "    <tr>\n",
              "      <th>1201</th>\n",
              "      <td>5.차량제어-좌석제어-좌석온도내리기</td>\n",
              "      <td>시트 속도가 일도 낮았으면 좋겠어.</td>\n",
              "    </tr>\n",
              "    <tr>\n",
              "      <th>1202</th>\n",
              "      <td>5.차량제어-좌석제어-좌석온도내리기</td>\n",
              "      <td>앞 좌석 두 개 온도를 낮게 해.</td>\n",
              "    </tr>\n",
              "    <tr>\n",
              "      <th>1203</th>\n",
              "      <td>5.차량제어-좌석제어-좌석온도내리기</td>\n",
              "      <td>시트 온도 낮게 가.</td>\n",
              "    </tr>\n",
              "    <tr>\n",
              "      <th>1204</th>\n",
              "      <td>5.차량제어-좌석제어-좌석온도내리기</td>\n",
              "      <td>운전해 온도 한 단계 내려요?</td>\n",
              "    </tr>\n",
              "    <tr>\n",
              "      <th>...</th>\n",
              "      <td>...</td>\n",
              "      <td>...</td>\n",
              "    </tr>\n",
              "    <tr>\n",
              "      <th>83707</th>\n",
              "      <td>1.엔터테인먼트-음성게임-한글단어맞추기</td>\n",
              "      <td>우리 단어 맞추는 해 보자.</td>\n",
              "    </tr>\n",
              "    <tr>\n",
              "      <th>83708</th>\n",
              "      <td>1.엔터테인먼트-음성게임-한글단어맞추기</td>\n",
              "      <td>나 싶어 게임 완전 잘하는데 같이 하자.</td>\n",
              "    </tr>\n",
              "    <tr>\n",
              "      <th>83709</th>\n",
              "      <td>1.엔터테인먼트-음성게임-한글단어맞추기</td>\n",
              "      <td>단어 맞추기 함께.</td>\n",
              "    </tr>\n",
              "    <tr>\n",
              "      <th>83710</th>\n",
              "      <td>1.엔터테인먼트-음성게임-한글단어맞추기</td>\n",
              "      <td>단어 게임은 하실래요?</td>\n",
              "    </tr>\n",
              "    <tr>\n",
              "      <th>83711</th>\n",
              "      <td>1.엔터테인먼트-음성게임-한글단어맞추기</td>\n",
              "      <td>단어 게임하는 준비해.</td>\n",
              "    </tr>\n",
              "  </tbody>\n",
              "</table>\n",
              "<p>27867 rows × 2 columns</p>\n",
              "</div>"
            ],
            "text/plain": [
              "                       label                document\n",
              "1200     5.차량제어-좌석제어-좌석온도내리기        슬슬 더우니 시트 온도 낮춰.\n",
              "1201     5.차량제어-좌석제어-좌석온도내리기     시트 속도가 일도 낮았으면 좋겠어.\n",
              "1202     5.차량제어-좌석제어-좌석온도내리기      앞 좌석 두 개 온도를 낮게 해.\n",
              "1203     5.차량제어-좌석제어-좌석온도내리기             시트 온도 낮게 가.\n",
              "1204     5.차량제어-좌석제어-좌석온도내리기        운전해 온도 한 단계 내려요?\n",
              "...                      ...                     ...\n",
              "83707  1.엔터테인먼트-음성게임-한글단어맞추기         우리 단어 맞추는 해 보자.\n",
              "83708  1.엔터테인먼트-음성게임-한글단어맞추기  나 싶어 게임 완전 잘하는데 같이 하자.\n",
              "83709  1.엔터테인먼트-음성게임-한글단어맞추기              단어 맞추기 함께.\n",
              "83710  1.엔터테인먼트-음성게임-한글단어맞추기            단어 게임은 하실래요?\n",
              "83711  1.엔터테인먼트-음성게임-한글단어맞추기            단어 게임하는 준비해.\n",
              "\n",
              "[27867 rows x 2 columns]"
            ]
          },
          "metadata": {
            "tags": []
          },
          "execution_count": 32
        }
      ]
    },
    {
      "cell_type": "code",
      "metadata": {
        "colab": {
          "base_uri": "https://localhost:8080/",
          "height": 388
        },
        "id": "ZoVYkzf0clXF",
        "outputId": "3584c2e1-6cf4-497c-c136-7321c8109e87"
      },
      "source": [
        "dev_second"
      ],
      "execution_count": null,
      "outputs": [
        {
          "output_type": "execute_result",
          "data": {
            "text/html": [
              "<div>\n",
              "<style scoped>\n",
              "    .dataframe tbody tr th:only-of-type {\n",
              "        vertical-align: middle;\n",
              "    }\n",
              "\n",
              "    .dataframe tbody tr th {\n",
              "        vertical-align: top;\n",
              "    }\n",
              "\n",
              "    .dataframe thead th {\n",
              "        text-align: right;\n",
              "    }\n",
              "</style>\n",
              "<table border=\"1\" class=\"dataframe\">\n",
              "  <thead>\n",
              "    <tr style=\"text-align: right;\">\n",
              "      <th></th>\n",
              "      <th>label</th>\n",
              "      <th>document</th>\n",
              "    </tr>\n",
              "  </thead>\n",
              "  <tbody>\n",
              "    <tr>\n",
              "      <th>141</th>\n",
              "      <td>5.차량제어-좌석제어-좌석온도내리기</td>\n",
              "      <td>더워서 좌석 온도 좀만 내려.</td>\n",
              "    </tr>\n",
              "    <tr>\n",
              "      <th>142</th>\n",
              "      <td>5.차량제어-좌석제어-좌석온도내리기</td>\n",
              "      <td>운전석 빼고 나머지 시트 전부 시원하게 만들어.</td>\n",
              "    </tr>\n",
              "    <tr>\n",
              "      <th>209</th>\n",
              "      <td>5.차량제어-창문제어-전체창문닫기</td>\n",
              "      <td>때 가 뒤에 전체 창문 닫아.</td>\n",
              "    </tr>\n",
              "    <tr>\n",
              "      <th>210</th>\n",
              "      <td>5.차량제어-창문제어-전체창문닫기</td>\n",
              "      <td>앞뒤 창문 다 올려.</td>\n",
              "    </tr>\n",
              "    <tr>\n",
              "      <th>211</th>\n",
              "      <td>5.차량제어-창문제어-전체창문닫기</td>\n",
              "      <td>비가 오니 전체 창문 올려.</td>\n",
              "    </tr>\n",
              "    <tr>\n",
              "      <th>...</th>\n",
              "      <td>...</td>\n",
              "      <td>...</td>\n",
              "    </tr>\n",
              "    <tr>\n",
              "      <th>9223</th>\n",
              "      <td>7.교육-놀이&amp;운동서비스-주사위게임안내</td>\n",
              "      <td>주사 게임 하는 방법 보여줄래?</td>\n",
              "    </tr>\n",
              "    <tr>\n",
              "      <th>9224</th>\n",
              "      <td>5.안심케어-메시지-가족에게자동전화</td>\n",
              "      <td>소리 지르면 바람 엄마한테 전화 걸어.</td>\n",
              "    </tr>\n",
              "    <tr>\n",
              "      <th>9225</th>\n",
              "      <td>1.엔터테인먼트-감성대화-축하하기</td>\n",
              "      <td>우리 반 고장 됐어.</td>\n",
              "    </tr>\n",
              "    <tr>\n",
              "      <th>9226</th>\n",
              "      <td>5.안심케어-메시지-긴급메시지취소</td>\n",
              "      <td>위험 문자 보내지 않아도 될 것 알아요.</td>\n",
              "    </tr>\n",
              "    <tr>\n",
              "      <th>9227</th>\n",
              "      <td>1.엔터테인먼트-음성게임-한글단어맞추기</td>\n",
              "      <td>단어 맞추기 게임 종류 보여.</td>\n",
              "    </tr>\n",
              "  </tbody>\n",
              "</table>\n",
              "<p>2763 rows × 2 columns</p>\n",
              "</div>"
            ],
            "text/plain": [
              "                      label                    document\n",
              "141     5.차량제어-좌석제어-좌석온도내리기            더워서 좌석 온도 좀만 내려.\n",
              "142     5.차량제어-좌석제어-좌석온도내리기  운전석 빼고 나머지 시트 전부 시원하게 만들어.\n",
              "209      5.차량제어-창문제어-전체창문닫기            때 가 뒤에 전체 창문 닫아.\n",
              "210      5.차량제어-창문제어-전체창문닫기                 앞뒤 창문 다 올려.\n",
              "211      5.차량제어-창문제어-전체창문닫기             비가 오니 전체 창문 올려.\n",
              "...                     ...                         ...\n",
              "9223  7.교육-놀이&운동서비스-주사위게임안내           주사 게임 하는 방법 보여줄래?\n",
              "9224    5.안심케어-메시지-가족에게자동전화       소리 지르면 바람 엄마한테 전화 걸어.\n",
              "9225     1.엔터테인먼트-감성대화-축하하기                 우리 반 고장 됐어.\n",
              "9226     5.안심케어-메시지-긴급메시지취소      위험 문자 보내지 않아도 될 것 알아요.\n",
              "9227  1.엔터테인먼트-음성게임-한글단어맞추기            단어 맞추기 게임 종류 보여.\n",
              "\n",
              "[2763 rows x 2 columns]"
            ]
          },
          "metadata": {
            "tags": []
          },
          "execution_count": 33
        }
      ]
    },
    {
      "cell_type": "code",
      "metadata": {
        "id": "h8XRrCTWbb2o",
        "colab": {
          "base_uri": "https://localhost:8080/",
          "height": 36
        },
        "outputId": "183b86d7-e09e-4cb0-c344-963e322e5919"
      },
      "source": [
        "# check\n",
        "\n",
        "temp = train['document']\n",
        "temp[100]"
      ],
      "execution_count": null,
      "outputs": [
        {
          "output_type": "execute_result",
          "data": {
            "application/vnd.google.colaboratory.intrinsic+json": {
              "type": "string"
            },
            "text/plain": [
              "'앞 차 따라서 구미 나들목으로 진입.'"
            ]
          },
          "metadata": {
            "tags": []
          },
          "execution_count": 34
        }
      ]
    },
    {
      "cell_type": "code",
      "metadata": {
        "id": "YAMOhUuNkTfq"
      },
      "source": [
        "## 해당 bert 는 data_load() 과정에서 범주형 label_list를 처리해주기에 y_data(labels) 인코딩을 안 해주어도 됩니다.\n",
        "\n",
        "\n",
        "#from sklearn.preprocessing import LabelEncoder\n",
        "\n",
        "#LE = LabelEncoder()\n",
        "\n",
        "#LE.fit(list(train['label'])+list(dev['label']))\n",
        "#train['label'] = LE.transform(train['label'])\n",
        "#dev['label'] = LE.transform(dev['label'])"
      ],
      "execution_count": null,
      "outputs": []
    },
    {
      "cell_type": "code",
      "metadata": {
        "colab": {
          "base_uri": "https://localhost:8080/",
          "height": 388
        },
        "id": "M75UpsWMkjdQ",
        "outputId": "1c6ea52e-0863-4b0f-9bd1-05ebdaddfb8f"
      },
      "source": [
        "train"
      ],
      "execution_count": null,
      "outputs": [
        {
          "output_type": "execute_result",
          "data": {
            "text/html": [
              "<div>\n",
              "<style scoped>\n",
              "    .dataframe tbody tr th:only-of-type {\n",
              "        vertical-align: middle;\n",
              "    }\n",
              "\n",
              "    .dataframe tbody tr th {\n",
              "        vertical-align: top;\n",
              "    }\n",
              "\n",
              "    .dataframe thead th {\n",
              "        text-align: right;\n",
              "    }\n",
              "</style>\n",
              "<table border=\"1\" class=\"dataframe\">\n",
              "  <thead>\n",
              "    <tr style=\"text-align: right;\">\n",
              "      <th></th>\n",
              "      <th>label</th>\n",
              "      <th>document</th>\n",
              "    </tr>\n",
              "  </thead>\n",
              "  <tbody>\n",
              "    <tr>\n",
              "      <th>0</th>\n",
              "      <td>1.차량제어-운전제어-일자따라가기</td>\n",
              "      <td>앞차 뒤에서 똑같이 가.</td>\n",
              "    </tr>\n",
              "    <tr>\n",
              "      <th>1</th>\n",
              "      <td>1.차량제어-운전제어-일자따라가기</td>\n",
              "      <td>앞차 뒤에서 따라가 달려.</td>\n",
              "    </tr>\n",
              "    <tr>\n",
              "      <th>2</th>\n",
              "      <td>1.차량제어-운전제어-일자따라가기</td>\n",
              "      <td>앞차보다 먼저 가지 말고 따라가.</td>\n",
              "    </tr>\n",
              "    <tr>\n",
              "      <th>3</th>\n",
              "      <td>1.차량제어-운전제어-일자따라가기</td>\n",
              "      <td>앞차랑 안전거리 유지하고 운행해.</td>\n",
              "    </tr>\n",
              "    <tr>\n",
              "      <th>4</th>\n",
              "      <td>1.차량제어-운전제어-일자따라가기</td>\n",
              "      <td>앞에 차랑 목적지가 좁으니까 따라서 가.</td>\n",
              "    </tr>\n",
              "    <tr>\n",
              "      <th>...</th>\n",
              "      <td>...</td>\n",
              "      <td>...</td>\n",
              "    </tr>\n",
              "    <tr>\n",
              "      <th>83707</th>\n",
              "      <td>others</td>\n",
              "      <td>우리 단어 맞추는 해 보자.</td>\n",
              "    </tr>\n",
              "    <tr>\n",
              "      <th>83708</th>\n",
              "      <td>others</td>\n",
              "      <td>나 싶어 게임 완전 잘하는데 같이 하자.</td>\n",
              "    </tr>\n",
              "    <tr>\n",
              "      <th>83709</th>\n",
              "      <td>others</td>\n",
              "      <td>단어 맞추기 함께.</td>\n",
              "    </tr>\n",
              "    <tr>\n",
              "      <th>83710</th>\n",
              "      <td>others</td>\n",
              "      <td>단어 게임은 하실래요?</td>\n",
              "    </tr>\n",
              "    <tr>\n",
              "      <th>83711</th>\n",
              "      <td>others</td>\n",
              "      <td>단어 게임하는 준비해.</td>\n",
              "    </tr>\n",
              "  </tbody>\n",
              "</table>\n",
              "<p>83706 rows × 2 columns</p>\n",
              "</div>"
            ],
            "text/plain": [
              "                    label                document\n",
              "0      1.차량제어-운전제어-일자따라가기           앞차 뒤에서 똑같이 가.\n",
              "1      1.차량제어-운전제어-일자따라가기          앞차 뒤에서 따라가 달려.\n",
              "2      1.차량제어-운전제어-일자따라가기      앞차보다 먼저 가지 말고 따라가.\n",
              "3      1.차량제어-운전제어-일자따라가기      앞차랑 안전거리 유지하고 운행해.\n",
              "4      1.차량제어-운전제어-일자따라가기  앞에 차랑 목적지가 좁으니까 따라서 가.\n",
              "...                   ...                     ...\n",
              "83707              others         우리 단어 맞추는 해 보자.\n",
              "83708              others  나 싶어 게임 완전 잘하는데 같이 하자.\n",
              "83709              others              단어 맞추기 함께.\n",
              "83710              others            단어 게임은 하실래요?\n",
              "83711              others            단어 게임하는 준비해.\n",
              "\n",
              "[83706 rows x 2 columns]"
            ]
          },
          "metadata": {
            "tags": []
          },
          "execution_count": 36
        }
      ]
    },
    {
      "cell_type": "markdown",
      "metadata": {
        "id": "3nX_DMI0Z4KC"
      },
      "source": [
        "# 임시 파일들 저장"
      ]
    },
    {
      "cell_type": "code",
      "metadata": {
        "id": "dKa47zSN-4Vr"
      },
      "source": [
        "# 모델 입력 파일 형식에 맞게 column 순서 바꾸어 파일 저장 - 모델1\n",
        "\n",
        "train = train[['document', 'label']]\n",
        "train.to_csv(args.data_dir + 'train2_first.txt', sep = '\\t', encoding=\"utf-8\")\n",
        "\n",
        "dev = dev[['document', 'label']]\n",
        "dev.to_csv(args.data_dir + 'dev2_first.txt', sep = '\\t', encoding=\"utf-8\")"
      ],
      "execution_count": null,
      "outputs": []
    },
    {
      "cell_type": "code",
      "metadata": {
        "colab": {
          "base_uri": "https://localhost:8080/",
          "height": 388
        },
        "id": "tbJgEaAEAr2S",
        "outputId": "6a71b674-9c55-4e12-ff15-8e1ea9a69e19"
      },
      "source": [
        "train"
      ],
      "execution_count": null,
      "outputs": [
        {
          "output_type": "execute_result",
          "data": {
            "text/html": [
              "<div>\n",
              "<style scoped>\n",
              "    .dataframe tbody tr th:only-of-type {\n",
              "        vertical-align: middle;\n",
              "    }\n",
              "\n",
              "    .dataframe tbody tr th {\n",
              "        vertical-align: top;\n",
              "    }\n",
              "\n",
              "    .dataframe thead th {\n",
              "        text-align: right;\n",
              "    }\n",
              "</style>\n",
              "<table border=\"1\" class=\"dataframe\">\n",
              "  <thead>\n",
              "    <tr style=\"text-align: right;\">\n",
              "      <th></th>\n",
              "      <th>document</th>\n",
              "      <th>label</th>\n",
              "    </tr>\n",
              "  </thead>\n",
              "  <tbody>\n",
              "    <tr>\n",
              "      <th>0</th>\n",
              "      <td>앞차 뒤에서 똑같이 가.</td>\n",
              "      <td>1.차량제어-운전제어-일자따라가기</td>\n",
              "    </tr>\n",
              "    <tr>\n",
              "      <th>1</th>\n",
              "      <td>앞차 뒤에서 따라가 달려.</td>\n",
              "      <td>1.차량제어-운전제어-일자따라가기</td>\n",
              "    </tr>\n",
              "    <tr>\n",
              "      <th>2</th>\n",
              "      <td>앞차보다 먼저 가지 말고 따라가.</td>\n",
              "      <td>1.차량제어-운전제어-일자따라가기</td>\n",
              "    </tr>\n",
              "    <tr>\n",
              "      <th>3</th>\n",
              "      <td>앞차랑 안전거리 유지하고 운행해.</td>\n",
              "      <td>1.차량제어-운전제어-일자따라가기</td>\n",
              "    </tr>\n",
              "    <tr>\n",
              "      <th>4</th>\n",
              "      <td>앞에 차랑 목적지가 좁으니까 따라서 가.</td>\n",
              "      <td>1.차량제어-운전제어-일자따라가기</td>\n",
              "    </tr>\n",
              "    <tr>\n",
              "      <th>...</th>\n",
              "      <td>...</td>\n",
              "      <td>...</td>\n",
              "    </tr>\n",
              "    <tr>\n",
              "      <th>83707</th>\n",
              "      <td>우리 단어 맞추는 해 보자.</td>\n",
              "      <td>others</td>\n",
              "    </tr>\n",
              "    <tr>\n",
              "      <th>83708</th>\n",
              "      <td>나 싶어 게임 완전 잘하는데 같이 하자.</td>\n",
              "      <td>others</td>\n",
              "    </tr>\n",
              "    <tr>\n",
              "      <th>83709</th>\n",
              "      <td>단어 맞추기 함께.</td>\n",
              "      <td>others</td>\n",
              "    </tr>\n",
              "    <tr>\n",
              "      <th>83710</th>\n",
              "      <td>단어 게임은 하실래요?</td>\n",
              "      <td>others</td>\n",
              "    </tr>\n",
              "    <tr>\n",
              "      <th>83711</th>\n",
              "      <td>단어 게임하는 준비해.</td>\n",
              "      <td>others</td>\n",
              "    </tr>\n",
              "  </tbody>\n",
              "</table>\n",
              "<p>83706 rows × 2 columns</p>\n",
              "</div>"
            ],
            "text/plain": [
              "                     document               label\n",
              "0               앞차 뒤에서 똑같이 가.  1.차량제어-운전제어-일자따라가기\n",
              "1              앞차 뒤에서 따라가 달려.  1.차량제어-운전제어-일자따라가기\n",
              "2          앞차보다 먼저 가지 말고 따라가.  1.차량제어-운전제어-일자따라가기\n",
              "3          앞차랑 안전거리 유지하고 운행해.  1.차량제어-운전제어-일자따라가기\n",
              "4      앞에 차랑 목적지가 좁으니까 따라서 가.  1.차량제어-운전제어-일자따라가기\n",
              "...                       ...                 ...\n",
              "83707         우리 단어 맞추는 해 보자.              others\n",
              "83708  나 싶어 게임 완전 잘하는데 같이 하자.              others\n",
              "83709              단어 맞추기 함께.              others\n",
              "83710            단어 게임은 하실래요?              others\n",
              "83711            단어 게임하는 준비해.              others\n",
              "\n",
              "[83706 rows x 2 columns]"
            ]
          },
          "metadata": {
            "tags": []
          },
          "execution_count": 38
        }
      ]
    },
    {
      "cell_type": "code",
      "metadata": {
        "colab": {
          "base_uri": "https://localhost:8080/",
          "height": 388
        },
        "id": "CbmOE1CWI-Gk",
        "outputId": "fab52779-ed9c-40dd-9800-8b7bd12730cd"
      },
      "source": [
        "dev"
      ],
      "execution_count": null,
      "outputs": [
        {
          "output_type": "execute_result",
          "data": {
            "text/html": [
              "<div>\n",
              "<style scoped>\n",
              "    .dataframe tbody tr th:only-of-type {\n",
              "        vertical-align: middle;\n",
              "    }\n",
              "\n",
              "    .dataframe tbody tr th {\n",
              "        vertical-align: top;\n",
              "    }\n",
              "\n",
              "    .dataframe thead th {\n",
              "        text-align: right;\n",
              "    }\n",
              "</style>\n",
              "<table border=\"1\" class=\"dataframe\">\n",
              "  <thead>\n",
              "    <tr style=\"text-align: right;\">\n",
              "      <th></th>\n",
              "      <th>document</th>\n",
              "      <th>label</th>\n",
              "    </tr>\n",
              "  </thead>\n",
              "  <tbody>\n",
              "    <tr>\n",
              "      <th>0</th>\n",
              "      <td>내 앞에 있는 차 계속 따라가.</td>\n",
              "      <td>1.차량제어-운전제어-일자따라가기</td>\n",
              "    </tr>\n",
              "    <tr>\n",
              "      <th>1</th>\n",
              "      <td>차 따라붙기 가능하냐?</td>\n",
              "      <td>1.차량제어-운전제어-일자따라가기</td>\n",
              "    </tr>\n",
              "    <tr>\n",
              "      <th>2</th>\n",
              "      <td>앞차와 제동거리를 유지하면서 따라가.</td>\n",
              "      <td>1.차량제어-운전제어-일자따라가기</td>\n",
              "    </tr>\n",
              "    <tr>\n",
              "      <th>3</th>\n",
              "      <td>앞차 따라 안 붙어?</td>\n",
              "      <td>1.차량제어-운전제어-일자따라가기</td>\n",
              "    </tr>\n",
              "    <tr>\n",
              "      <th>4</th>\n",
              "      <td>앞에 차 뒤에 붙어줄래?</td>\n",
              "      <td>1.차량제어-운전제어-일자따라가기</td>\n",
              "    </tr>\n",
              "    <tr>\n",
              "      <th>...</th>\n",
              "      <td>...</td>\n",
              "      <td>...</td>\n",
              "    </tr>\n",
              "    <tr>\n",
              "      <th>9223</th>\n",
              "      <td>주사 게임 하는 방법 보여줄래?</td>\n",
              "      <td>others</td>\n",
              "    </tr>\n",
              "    <tr>\n",
              "      <th>9224</th>\n",
              "      <td>소리 지르면 바람 엄마한테 전화 걸어.</td>\n",
              "      <td>others</td>\n",
              "    </tr>\n",
              "    <tr>\n",
              "      <th>9225</th>\n",
              "      <td>우리 반 고장 됐어.</td>\n",
              "      <td>others</td>\n",
              "    </tr>\n",
              "    <tr>\n",
              "      <th>9226</th>\n",
              "      <td>위험 문자 보내지 않아도 될 것 알아요.</td>\n",
              "      <td>others</td>\n",
              "    </tr>\n",
              "    <tr>\n",
              "      <th>9227</th>\n",
              "      <td>단어 맞추기 게임 종류 보여.</td>\n",
              "      <td>others</td>\n",
              "    </tr>\n",
              "  </tbody>\n",
              "</table>\n",
              "<p>9228 rows × 2 columns</p>\n",
              "</div>"
            ],
            "text/plain": [
              "                    document               label\n",
              "0          내 앞에 있는 차 계속 따라가.  1.차량제어-운전제어-일자따라가기\n",
              "1               차 따라붙기 가능하냐?  1.차량제어-운전제어-일자따라가기\n",
              "2       앞차와 제동거리를 유지하면서 따라가.  1.차량제어-운전제어-일자따라가기\n",
              "3                앞차 따라 안 붙어?  1.차량제어-운전제어-일자따라가기\n",
              "4              앞에 차 뒤에 붙어줄래?  1.차량제어-운전제어-일자따라가기\n",
              "...                      ...                 ...\n",
              "9223       주사 게임 하는 방법 보여줄래?              others\n",
              "9224   소리 지르면 바람 엄마한테 전화 걸어.              others\n",
              "9225             우리 반 고장 됐어.              others\n",
              "9226  위험 문자 보내지 않아도 될 것 알아요.              others\n",
              "9227        단어 맞추기 게임 종류 보여.              others\n",
              "\n",
              "[9228 rows x 2 columns]"
            ]
          },
          "metadata": {
            "tags": []
          },
          "execution_count": 39
        }
      ]
    },
    {
      "cell_type": "code",
      "metadata": {
        "id": "VBxzTcWnAxkC"
      },
      "source": [
        "# 모델 입력 파일 형식에 맞게 column 순서 바꾸어 파일 저장 - 모델2\n",
        "\n",
        "train_second = train_second[['document', 'label']]\n",
        "train_second.to_csv(args.data_dir + 'train2_second.txt', sep = '\\t', encoding=\"utf-8\")\n",
        "\n",
        "dev_second = dev_second[['document', 'label']]\n",
        "dev_second.to_csv(args.data_dir + 'dev2_second.txt', sep = '\\t', encoding=\"utf-8\")"
      ],
      "execution_count": null,
      "outputs": []
    },
    {
      "cell_type": "code",
      "metadata": {
        "colab": {
          "base_uri": "https://localhost:8080/",
          "height": 388
        },
        "id": "Va_050nXJoQN",
        "outputId": "9e067729-e492-447a-875a-4609647f2d23"
      },
      "source": [
        "train_second"
      ],
      "execution_count": null,
      "outputs": [
        {
          "output_type": "execute_result",
          "data": {
            "text/html": [
              "<div>\n",
              "<style scoped>\n",
              "    .dataframe tbody tr th:only-of-type {\n",
              "        vertical-align: middle;\n",
              "    }\n",
              "\n",
              "    .dataframe tbody tr th {\n",
              "        vertical-align: top;\n",
              "    }\n",
              "\n",
              "    .dataframe thead th {\n",
              "        text-align: right;\n",
              "    }\n",
              "</style>\n",
              "<table border=\"1\" class=\"dataframe\">\n",
              "  <thead>\n",
              "    <tr style=\"text-align: right;\">\n",
              "      <th></th>\n",
              "      <th>document</th>\n",
              "      <th>label</th>\n",
              "    </tr>\n",
              "  </thead>\n",
              "  <tbody>\n",
              "    <tr>\n",
              "      <th>1200</th>\n",
              "      <td>슬슬 더우니 시트 온도 낮춰.</td>\n",
              "      <td>5.차량제어-좌석제어-좌석온도내리기</td>\n",
              "    </tr>\n",
              "    <tr>\n",
              "      <th>1201</th>\n",
              "      <td>시트 속도가 일도 낮았으면 좋겠어.</td>\n",
              "      <td>5.차량제어-좌석제어-좌석온도내리기</td>\n",
              "    </tr>\n",
              "    <tr>\n",
              "      <th>1202</th>\n",
              "      <td>앞 좌석 두 개 온도를 낮게 해.</td>\n",
              "      <td>5.차량제어-좌석제어-좌석온도내리기</td>\n",
              "    </tr>\n",
              "    <tr>\n",
              "      <th>1203</th>\n",
              "      <td>시트 온도 낮게 가.</td>\n",
              "      <td>5.차량제어-좌석제어-좌석온도내리기</td>\n",
              "    </tr>\n",
              "    <tr>\n",
              "      <th>1204</th>\n",
              "      <td>운전해 온도 한 단계 내려요?</td>\n",
              "      <td>5.차량제어-좌석제어-좌석온도내리기</td>\n",
              "    </tr>\n",
              "    <tr>\n",
              "      <th>...</th>\n",
              "      <td>...</td>\n",
              "      <td>...</td>\n",
              "    </tr>\n",
              "    <tr>\n",
              "      <th>83707</th>\n",
              "      <td>우리 단어 맞추는 해 보자.</td>\n",
              "      <td>1.엔터테인먼트-음성게임-한글단어맞추기</td>\n",
              "    </tr>\n",
              "    <tr>\n",
              "      <th>83708</th>\n",
              "      <td>나 싶어 게임 완전 잘하는데 같이 하자.</td>\n",
              "      <td>1.엔터테인먼트-음성게임-한글단어맞추기</td>\n",
              "    </tr>\n",
              "    <tr>\n",
              "      <th>83709</th>\n",
              "      <td>단어 맞추기 함께.</td>\n",
              "      <td>1.엔터테인먼트-음성게임-한글단어맞추기</td>\n",
              "    </tr>\n",
              "    <tr>\n",
              "      <th>83710</th>\n",
              "      <td>단어 게임은 하실래요?</td>\n",
              "      <td>1.엔터테인먼트-음성게임-한글단어맞추기</td>\n",
              "    </tr>\n",
              "    <tr>\n",
              "      <th>83711</th>\n",
              "      <td>단어 게임하는 준비해.</td>\n",
              "      <td>1.엔터테인먼트-음성게임-한글단어맞추기</td>\n",
              "    </tr>\n",
              "  </tbody>\n",
              "</table>\n",
              "<p>27867 rows × 2 columns</p>\n",
              "</div>"
            ],
            "text/plain": [
              "                     document                  label\n",
              "1200         슬슬 더우니 시트 온도 낮춰.    5.차량제어-좌석제어-좌석온도내리기\n",
              "1201      시트 속도가 일도 낮았으면 좋겠어.    5.차량제어-좌석제어-좌석온도내리기\n",
              "1202       앞 좌석 두 개 온도를 낮게 해.    5.차량제어-좌석제어-좌석온도내리기\n",
              "1203              시트 온도 낮게 가.    5.차량제어-좌석제어-좌석온도내리기\n",
              "1204         운전해 온도 한 단계 내려요?    5.차량제어-좌석제어-좌석온도내리기\n",
              "...                       ...                    ...\n",
              "83707         우리 단어 맞추는 해 보자.  1.엔터테인먼트-음성게임-한글단어맞추기\n",
              "83708  나 싶어 게임 완전 잘하는데 같이 하자.  1.엔터테인먼트-음성게임-한글단어맞추기\n",
              "83709              단어 맞추기 함께.  1.엔터테인먼트-음성게임-한글단어맞추기\n",
              "83710            단어 게임은 하실래요?  1.엔터테인먼트-음성게임-한글단어맞추기\n",
              "83711            단어 게임하는 준비해.  1.엔터테인먼트-음성게임-한글단어맞추기\n",
              "\n",
              "[27867 rows x 2 columns]"
            ]
          },
          "metadata": {
            "tags": []
          },
          "execution_count": 41
        }
      ]
    },
    {
      "cell_type": "code",
      "metadata": {
        "colab": {
          "base_uri": "https://localhost:8080/",
          "height": 388
        },
        "id": "Dv4Y4fuqBAvG",
        "outputId": "26a5e197-5b61-4571-f6f1-3435d6af096d"
      },
      "source": [
        "dev_second"
      ],
      "execution_count": null,
      "outputs": [
        {
          "output_type": "execute_result",
          "data": {
            "text/html": [
              "<div>\n",
              "<style scoped>\n",
              "    .dataframe tbody tr th:only-of-type {\n",
              "        vertical-align: middle;\n",
              "    }\n",
              "\n",
              "    .dataframe tbody tr th {\n",
              "        vertical-align: top;\n",
              "    }\n",
              "\n",
              "    .dataframe thead th {\n",
              "        text-align: right;\n",
              "    }\n",
              "</style>\n",
              "<table border=\"1\" class=\"dataframe\">\n",
              "  <thead>\n",
              "    <tr style=\"text-align: right;\">\n",
              "      <th></th>\n",
              "      <th>document</th>\n",
              "      <th>label</th>\n",
              "    </tr>\n",
              "  </thead>\n",
              "  <tbody>\n",
              "    <tr>\n",
              "      <th>141</th>\n",
              "      <td>더워서 좌석 온도 좀만 내려.</td>\n",
              "      <td>5.차량제어-좌석제어-좌석온도내리기</td>\n",
              "    </tr>\n",
              "    <tr>\n",
              "      <th>142</th>\n",
              "      <td>운전석 빼고 나머지 시트 전부 시원하게 만들어.</td>\n",
              "      <td>5.차량제어-좌석제어-좌석온도내리기</td>\n",
              "    </tr>\n",
              "    <tr>\n",
              "      <th>209</th>\n",
              "      <td>때 가 뒤에 전체 창문 닫아.</td>\n",
              "      <td>5.차량제어-창문제어-전체창문닫기</td>\n",
              "    </tr>\n",
              "    <tr>\n",
              "      <th>210</th>\n",
              "      <td>앞뒤 창문 다 올려.</td>\n",
              "      <td>5.차량제어-창문제어-전체창문닫기</td>\n",
              "    </tr>\n",
              "    <tr>\n",
              "      <th>211</th>\n",
              "      <td>비가 오니 전체 창문 올려.</td>\n",
              "      <td>5.차량제어-창문제어-전체창문닫기</td>\n",
              "    </tr>\n",
              "    <tr>\n",
              "      <th>...</th>\n",
              "      <td>...</td>\n",
              "      <td>...</td>\n",
              "    </tr>\n",
              "    <tr>\n",
              "      <th>9223</th>\n",
              "      <td>주사 게임 하는 방법 보여줄래?</td>\n",
              "      <td>7.교육-놀이&amp;운동서비스-주사위게임안내</td>\n",
              "    </tr>\n",
              "    <tr>\n",
              "      <th>9224</th>\n",
              "      <td>소리 지르면 바람 엄마한테 전화 걸어.</td>\n",
              "      <td>5.안심케어-메시지-가족에게자동전화</td>\n",
              "    </tr>\n",
              "    <tr>\n",
              "      <th>9225</th>\n",
              "      <td>우리 반 고장 됐어.</td>\n",
              "      <td>1.엔터테인먼트-감성대화-축하하기</td>\n",
              "    </tr>\n",
              "    <tr>\n",
              "      <th>9226</th>\n",
              "      <td>위험 문자 보내지 않아도 될 것 알아요.</td>\n",
              "      <td>5.안심케어-메시지-긴급메시지취소</td>\n",
              "    </tr>\n",
              "    <tr>\n",
              "      <th>9227</th>\n",
              "      <td>단어 맞추기 게임 종류 보여.</td>\n",
              "      <td>1.엔터테인먼트-음성게임-한글단어맞추기</td>\n",
              "    </tr>\n",
              "  </tbody>\n",
              "</table>\n",
              "<p>2763 rows × 2 columns</p>\n",
              "</div>"
            ],
            "text/plain": [
              "                        document                  label\n",
              "141             더워서 좌석 온도 좀만 내려.    5.차량제어-좌석제어-좌석온도내리기\n",
              "142   운전석 빼고 나머지 시트 전부 시원하게 만들어.    5.차량제어-좌석제어-좌석온도내리기\n",
              "209             때 가 뒤에 전체 창문 닫아.     5.차량제어-창문제어-전체창문닫기\n",
              "210                  앞뒤 창문 다 올려.     5.차량제어-창문제어-전체창문닫기\n",
              "211              비가 오니 전체 창문 올려.     5.차량제어-창문제어-전체창문닫기\n",
              "...                          ...                    ...\n",
              "9223           주사 게임 하는 방법 보여줄래?  7.교육-놀이&운동서비스-주사위게임안내\n",
              "9224       소리 지르면 바람 엄마한테 전화 걸어.    5.안심케어-메시지-가족에게자동전화\n",
              "9225                 우리 반 고장 됐어.     1.엔터테인먼트-감성대화-축하하기\n",
              "9226      위험 문자 보내지 않아도 될 것 알아요.     5.안심케어-메시지-긴급메시지취소\n",
              "9227            단어 맞추기 게임 종류 보여.  1.엔터테인먼트-음성게임-한글단어맞추기\n",
              "\n",
              "[2763 rows x 2 columns]"
            ]
          },
          "metadata": {
            "tags": []
          },
          "execution_count": 42
        }
      ]
    },
    {
      "cell_type": "markdown",
      "metadata": {
        "id": "FA3rYcK6kjZB"
      },
      "source": [
        "# 모델 학습 시작"
      ]
    },
    {
      "cell_type": "markdown",
      "metadata": {
        "id": "quGcqYnmFr9f"
      },
      "source": [
        "# ☆★☆★☆ 첫번째 모델 ☆★☆★☆"
      ]
    },
    {
      "cell_type": "code",
      "metadata": {
        "id": "PkWULaBvGeaG"
      },
      "source": [
        "##### Training 코드 짜는 법 #####\n",
        "\n",
        "###  첫번째 모델 1.선언 2.training 3.저장 ###\n",
        "# model = ☆★☆★☆\n",
        "# model.fit(padded_first_tr, label_first_tr, validation_data = [padded_first_dev, label_first_dev], ☆★☆★☆)\n",
        "# model.save(☆★☆my_first_model☆★☆)\n",
        "\n",
        "###  두번째 모델 1.선언 2.training 3.저장 ###\n",
        "# model = ☆★☆★☆\n",
        "# model.fit(padded_second_tr, label_second_tr, validation_data = [padded_second_dev, label_second_dev], ☆★☆★☆)\n",
        "# model.save(☆★☆my_first_model☆★☆)\n",
        "\n",
        "\n",
        "##### prediction 코드 짜는 법 #####\n",
        "\n",
        "### 1. 첫번째 모델 불러옴 2.inference 실행 3.\n",
        "# model = load(☆★☆★☆)\n",
        "# prediction = model.predict(☆★☆ test_data ☆★☆)"
      ],
      "execution_count": null,
      "outputs": []
    },
    {
      "cell_type": "markdown",
      "metadata": {
        "id": "5LIJvUuyoMjQ"
      },
      "source": [
        "##Model Load\n"
      ]
    },
    {
      "cell_type": "code",
      "metadata": {
        "colab": {
          "base_uri": "https://localhost:8080/",
          "height": 426,
          "referenced_widgets": [
            "8dbbeba6f1554e7db0a15d9b262343c9",
            "2686eb9de02c4a9d9740f09798310173",
            "1bd130637acb4c0db93c05248b762837",
            "3cc70ce852954773be031314c36b61c8",
            "6ccf5ebf20134fa085f2c07946ae1cda",
            "728c3151a22e44f7ad35222a6543b3b5",
            "f5478a18f7964893a4ce730f396917e1",
            "3b02a92a2ac14af19fbb5590d1a9f4b4",
            "98700fafac564666952eab89a92a6370",
            "6c0309bf7e8743c7a6984b28a18161b1",
            "ba8aa732868246469173b1ea3ebcd443",
            "3d0e1c89734a4522aa94650ba58ec9ce",
            "1f91291450704464ac47827bd46e1c4f",
            "fca220dfbb2844d79f9c8d75ea9a3e41",
            "2bdae662e7d4484bb390df1382650cd8",
            "f654a8a38af544dea8bcc4c50fa3af87",
            "76dee98529e1404892723d0723315801",
            "631379e0872b4779895a6e8d6f47f162",
            "1179dabd3d13462a850ddc838c52dc13",
            "6d077c5011d54f60a111add320f6af58",
            "ec69bf893c004f7893c60e3ab46411a3",
            "308e9d5e8fa846e8a3b81991a0347726",
            "a8f20e34a7e5464aa23b9037f1e18de4",
            "a6e31438543240e0a5ef989cb1b9927b",
            "fd7595363ebd4fe082fc0585ad431a31",
            "e38b4020e10242d49036d97a8eca2103",
            "c276f9b7c7be4152ab6f1d28729d9de4",
            "df5f2ddb045c4ac6aaf39d56b6f0f046",
            "778f33a1a4d34908b6d40a54468453d9",
            "76ee4a9b00a44a6c92954346591bebbb",
            "ebd54eaa6f914ec0bfbd7185378af463",
            "4fe66a6b587b4123b677edb0e21332c0",
            "306f4747881f45c484d5fe77fd013ece",
            "8282e42c42fd48c282058705f32e4c58",
            "a7a81ac169b5473babf5a2ea6ebda57c",
            "44ec54c520f74f709443856b5bce7c04",
            "6ddfeac9325f4ea38a44f86a3d28de01",
            "a711339f99af45758254e04dbb602c73",
            "ea9303a8e3084b2c912cbe8708b02716",
            "e21eceeb40f34ff9a30bf7788a91f9a3",
            "53226483443a416abf7a70849b4bd851",
            "18fb400996744cb6bd5613f62b664a94",
            "5f67f2033aae4c7798c9a5a7ce91e21c",
            "5f2ef3fb13eb4b38950dcf77e767eceb",
            "00bbfbfd47094d7da499507d792f5447",
            "a05a4e17b18647b8989dfbaa2aa41bd1",
            "99015e255bcf42a39c86f84f448bfa5f",
            "f99c782adc9a4e1f8bc6e5756558501d"
          ]
        },
        "id": "HBwRNnOQnZBL",
        "outputId": "c938268a-826e-453f-d06e-611c7b11f9e2"
      },
      "source": [
        "# 해당 모델에서 쓰일 label_list 설정해주기\n",
        "label_list = (train['label']).unique() # 변경\n",
        "\n",
        "config = AutoConfig.from_pretrained(\n",
        "    args.model_name_or_path,\n",
        "    num_labels= 302, ## 변경 !!\n",
        "    id2label={str(i): label for i, label in enumerate(label_list)},\n",
        "    label2id={label: i for i, label in enumerate(label_list)},\n",
        "    )\n",
        "tokenizer = AutoTokenizer.from_pretrained(\n",
        "    args.model_name_or_path, \n",
        "    do_lower_case=args.do_lower_case\n",
        "    )\n",
        "model = AutoModelForSequenceClassification.from_pretrained(\n",
        "    args.model_name_or_path,\n",
        "    config=config\n",
        "    )\n",
        "model.to(args.device)\n",
        "print(\"Finish\")\n"
      ],
      "execution_count": null,
      "outputs": [
        {
          "output_type": "display_data",
          "data": {
            "application/vnd.jupyter.widget-view+json": {
              "model_id": "8dbbeba6f1554e7db0a15d9b262343c9",
              "version_minor": 0,
              "version_major": 2
            },
            "text/plain": [
              "HBox(children=(FloatProgress(value=0.0, description='Downloading', max=555.0, style=ProgressStyle(description_…"
            ]
          },
          "metadata": {
            "tags": []
          }
        },
        {
          "output_type": "stream",
          "text": [
            "\n"
          ],
          "name": "stdout"
        },
        {
          "output_type": "display_data",
          "data": {
            "application/vnd.jupyter.widget-view+json": {
              "model_id": "98700fafac564666952eab89a92a6370",
              "version_minor": 0,
              "version_major": 2
            },
            "text/plain": [
              "HBox(children=(FloatProgress(value=0.0, description='Downloading', max=346876.0, style=ProgressStyle(descripti…"
            ]
          },
          "metadata": {
            "tags": []
          }
        },
        {
          "output_type": "stream",
          "text": [
            "\n"
          ],
          "name": "stdout"
        },
        {
          "output_type": "display_data",
          "data": {
            "application/vnd.jupyter.widget-view+json": {
              "model_id": "76dee98529e1404892723d0723315801",
              "version_minor": 0,
              "version_major": 2
            },
            "text/plain": [
              "HBox(children=(FloatProgress(value=0.0, description='Downloading', max=245069.0, style=ProgressStyle(descripti…"
            ]
          },
          "metadata": {
            "tags": []
          }
        },
        {
          "output_type": "stream",
          "text": [
            "\n"
          ],
          "name": "stdout"
        },
        {
          "output_type": "display_data",
          "data": {
            "application/vnd.jupyter.widget-view+json": {
              "model_id": "fd7595363ebd4fe082fc0585ad431a31",
              "version_minor": 0,
              "version_major": 2
            },
            "text/plain": [
              "HBox(children=(FloatProgress(value=0.0, description='Downloading', max=239.0, style=ProgressStyle(description_…"
            ]
          },
          "metadata": {
            "tags": []
          }
        },
        {
          "output_type": "stream",
          "text": [
            "\n"
          ],
          "name": "stdout"
        },
        {
          "output_type": "display_data",
          "data": {
            "application/vnd.jupyter.widget-view+json": {
              "model_id": "306f4747881f45c484d5fe77fd013ece",
              "version_minor": 0,
              "version_major": 2
            },
            "text/plain": [
              "HBox(children=(FloatProgress(value=0.0, description='Downloading', max=78.0, style=ProgressStyle(description_w…"
            ]
          },
          "metadata": {
            "tags": []
          }
        },
        {
          "output_type": "stream",
          "text": [
            "\n"
          ],
          "name": "stdout"
        },
        {
          "output_type": "display_data",
          "data": {
            "application/vnd.jupyter.widget-view+json": {
              "model_id": "53226483443a416abf7a70849b4bd851",
              "version_minor": 0,
              "version_major": 2
            },
            "text/plain": [
              "HBox(children=(FloatProgress(value=0.0, description='Downloading', max=393481746.0, style=ProgressStyle(descri…"
            ]
          },
          "metadata": {
            "tags": []
          }
        },
        {
          "output_type": "stream",
          "text": [
            "\n"
          ],
          "name": "stdout"
        },
        {
          "output_type": "stream",
          "text": [
            "Some weights of the model checkpoint at jason9693/soongsil-roberta-base were not used when initializing RobertaForSequenceClassification: ['lm_head.bias', 'lm_head.dense.weight', 'lm_head.dense.bias', 'lm_head.layer_norm.weight', 'lm_head.layer_norm.bias', 'lm_head.decoder.weight', 'lm_head.decoder.bias']\n",
            "- This IS expected if you are initializing RobertaForSequenceClassification from the checkpoint of a model trained on another task or with another architecture (e.g. initializing a BertForSequenceClassification model from a BertForPretraining model).\n",
            "- This IS NOT expected if you are initializing RobertaForSequenceClassification from the checkpoint of a model that you expect to be exactly identical (initializing a BertForSequenceClassification model from a BertForSequenceClassification model).\n",
            "Some weights of RobertaForSequenceClassification were not initialized from the model checkpoint at jason9693/soongsil-roberta-base and are newly initialized: ['classifier.dense.weight', 'classifier.dense.bias', 'classifier.out_proj.weight', 'classifier.out_proj.bias']\n",
            "You should probably TRAIN this model on a down-stream task to be able to use it for predictions and inference.\n"
          ],
          "name": "stderr"
        },
        {
          "output_type": "stream",
          "text": [
            "Finish\n"
          ],
          "name": "stdout"
        }
      ]
    },
    {
      "cell_type": "markdown",
      "metadata": {
        "id": "ZvFtv1VUkzHs"
      },
      "source": [
        "## 모델 1 Tokenizing"
      ]
    },
    {
      "cell_type": "markdown",
      "metadata": {
        "id": "ZORl6KZsMAKL"
      },
      "source": [
        "#NSMC Data Load (모델1)"
      ]
    },
    {
      "cell_type": "markdown",
      "metadata": {
        "id": "LMnMNes2wLgZ"
      },
      "source": [
        "학습을 위해서 Text File을 `Dataset`형태로 변환하는 부분입니다.\n",
        "\n",
        "이 과정은 간단하게 3단계로 나뉘어집니다.\n",
        "1. Text File로부터 Text 읽어오기\n",
        "2. Text, Label로 분리하기\n",
        "3. Tokenizer로 text를 학습에 사용할 수 있는 형태로 바꿈"
      ]
    },
    {
      "cell_type": "code",
      "metadata": {
        "id": "lyacSbNPnJcF"
      },
      "source": [
        "def load_data(tokenizer, mode):\n",
        "  \n",
        "  print(f\"Creating features from dataset file at '{args.data_dir}'\")\n",
        "  \n",
        "  # 1. Read file\n",
        "  file_to_read = None\n",
        "  if mode == \"train_first\":\n",
        "    file_to_read = args.train_first_file\n",
        "  elif mode == \"train_second\":\n",
        "    file_to_read = args.train_second_file\n",
        "\n",
        "  elif mode == \"dev_first\":\n",
        "    file_to_read = args.dev_first_file\n",
        "  elif mode == \"dev_second\":\n",
        "    file_to_read = args.dev_second_file\n",
        "\n",
        "\n",
        "  \n",
        "  input_path = os.path.join(args.data_dir, args.task, file_to_read)\n",
        "  print(f\"LOOKING AT {input_path}\")\n",
        "  with open(input_path, \"r\", encoding=\"utf-8\") as f:\n",
        "    lines = []\n",
        "    for line in f:\n",
        "      #print(line.strip()))\n",
        "      lines.append(line.strip())\n",
        "\n",
        "\n",
        "  # 2. Split line to data\n",
        "  texts = []\n",
        "  label_map = {label: i for i, label in enumerate(label_list)} # 변경\n",
        "  labels = []\n",
        "  for (i, line) in enumerate(lines[1:]): #[1:]\n",
        "    line = line.split(\"\\t\")\n",
        "    if len(line) != 3:\n",
        "      print(f\"Error {line}\")\n",
        "      continue\n",
        "    text_a = line[1]\n",
        "    if text_a == \"\":\n",
        "      continue    \n",
        "    if i % 10000 ==0:\n",
        "      print(f\"[{i}] {line}\")\n",
        "\n",
        "    # Text Data\n",
        "    texts.append({\n",
        "        \"text_a\": text_a\n",
        "    })\n",
        "    # Label\n",
        "    labels.append(label_map[line[2]])\n",
        "    \n",
        "\n",
        "  # 3. Convert text data to feature\n",
        "  batch_encoding = tokenizer.batch_encode_plus(\n",
        "      [(text[\"text_a\"]) for text in texts],\n",
        "      max_length=args.max_seq_len,\n",
        "      padding=\"max_length\",\n",
        "      add_special_tokens=True,\n",
        "      truncation=True,\n",
        "  )\n",
        "\n",
        "  features = []\n",
        "  for i in range(len(texts)):\n",
        "    input = {k: batch_encoding[k][i] for k in  batch_encoding}\n",
        "    if \"token_type_ids\" not in input:\n",
        "      input[\"token_type_ids\"] = [0] * len(input[\"input_ids\"])\n",
        "    features.append(input)\n",
        "\n",
        "  for i, feature in enumerate(features[:5]):\n",
        "    print(\"*** Example ***\")\n",
        "    print(\"input_ids: {}\".format(\" \".join([str(x) for x in feature[\"input_ids\"]])))\n",
        "    print(\"attention_mask: {}\".format(\" \".join([str(x) for x in feature[\"attention_mask\"]])))\n",
        "    print(\"token_type_ids: {}\".format(\" \".join([str(x) for x in feature[\"token_type_ids\"]])))\n",
        "    print(\"label: {}\".format(labels[i]))\n",
        "\n",
        "  # Convert feature to dataset\n",
        "  all_input_ids = torch.tensor([f[\"input_ids\"] for f in features], dtype=torch.long)\n",
        "  all_attention_mask = torch.tensor([f[\"attention_mask\"] for f in features], dtype=torch.long)\n",
        "  all_token_type_ids = torch.tensor([f[\"token_type_ids\"] for f in features], dtype=torch.long)\n",
        "  all_labels = torch.tensor(labels, dtype=torch.long)\n",
        "\n",
        "  dataset = TensorDataset(all_input_ids, all_attention_mask, all_token_type_ids, all_labels)\n",
        "  return dataset\n"
      ],
      "execution_count": null,
      "outputs": []
    },
    {
      "cell_type": "code",
      "metadata": {
        "id": "sBOHOG6bILgO"
      },
      "source": [
        ""
      ],
      "execution_count": null,
      "outputs": []
    },
    {
      "cell_type": "markdown",
      "metadata": {
        "id": "VMClHW3w-jj-"
      },
      "source": [
        "`train_dataset`은 train용 데이터셋\n",
        "\n",
        "`dev_dataset`은 validation용 데이터셋\n",
        "\n",
        "`test_dataset`은 evaluate용 데이터셋\n"
      ]
    },
    {
      "cell_type": "code",
      "metadata": {
        "colab": {
          "base_uri": "https://localhost:8080/"
        },
        "id": "RuuZYQ6LnMRK",
        "outputId": "85622478-5689-46c6-b0ba-de42fc804dbc"
      },
      "source": [
        "# Ex) load_data(tokenizer, \"모드 이름(train/dev/test)\")\n",
        "\n",
        "train_dataset_first = load_data(tokenizer, \"train_first\") "
      ],
      "execution_count": null,
      "outputs": [
        {
          "output_type": "stream",
          "text": [
            "Creating features from dataset file at '/content/drive/MyDrive/intention/'\n",
            "LOOKING AT /content/drive/MyDrive/intention/train2_first.txt\n",
            "[0] ['0', '앞차 뒤에서 똑같이 가.', '1.차량제어-운전제어-일자따라가기']\n",
            "[10000] ['10002', '테이블과 스탠드가 비치된 상영 좀 소개해.', '2.영화관-시설안내-시설세부정보']\n",
            "[20000] ['20002', '어디서 택시가 서냐?', 'others']\n",
            "[30000] ['30002', '왼쪽 차선으로 끼어들기 해서 운전해.', '2.차선제어-차선변경-왼쪽으로차선변경']\n",
            "[40000] ['40004', '분야별로 인기 많은 책 알고 있어.', '3.도서관-도서검색/대출-카테고리검색']\n",
            "[50000] ['50004', '내가 집에 갔으니 외출 모드를 꺼요 수 있겠어?', 'others']\n",
            "[60000] ['60004', '컴퓨터 플러그 내 방에 꽂혀 있어?', '3.플러그-컴퓨터플러그-위치']\n",
            "[70000] ['70006', '여기 식당에 메뉴는 뭐가 있지?', 'others']\n",
            "[80000] ['80006', '저 대신 사진을 철수한테 보내요.', '1.어린이집-사진,캠-전송']\n",
            "*** Example ***\n",
            "input_ids: 0 2250 743 8743 4495 398 18 2 1 1 1 1 1 1 1 1 1 1 1 1 1 1 1 1 1 1 1 1 1 1 1 1 1 1 1 1\n",
            "attention_mask: 1 1 1 1 1 1 1 1 0 0 0 0 0 0 0 0 0 0 0 0 0 0 0 0 0 0 0 0 0 0 0 0 0 0 0 0\n",
            "token_type_ids: 0 0 0 0 0 0 0 0 0 0 0 0 0 0 0 0 0 0 0 0 0 0 0 0 0 0 0 0 0 0 0 0 0 0 0 0\n",
            "label: 0\n",
            "*** Example ***\n",
            "input_ids: 0 2250 743 8743 1912 287 4630 18 2 1 1 1 1 1 1 1 1 1 1 1 1 1 1 1 1 1 1 1 1 1 1 1 1 1 1 1\n",
            "attention_mask: 1 1 1 1 1 1 1 1 1 0 0 0 0 0 0 0 0 0 0 0 0 0 0 0 0 0 0 0 0 0 0 0 0 0 0 0\n",
            "token_type_ids: 0 0 0 0 0 0 0 0 0 0 0 0 0 0 0 0 0 0 0 0 0 0 0 0 0 0 0 0 0 0 0 0 0 0 0 0\n",
            "label: 0\n",
            "*** Example ***\n",
            "input_ids: 0 2250 743 1070 1842 1607 1846 1912 287 18 2 1 1 1 1 1 1 1 1 1 1 1 1 1 1 1 1 1 1 1 1 1 1 1 1 1\n",
            "attention_mask: 1 1 1 1 1 1 1 1 1 1 1 0 0 0 0 0 0 0 0 0 0 0 0 0 0 0 0 0 0 0 0 0 0 0 0 0\n",
            "token_type_ids: 0 0 0 0 0 0 0 0 0 0 0 0 0 0 0 0 0 0 0 0 0 0 0 0 0 0 0 0 0 0 0 0 0 0 0 0\n",
            "label: 0\n",
            "*** Example ***\n",
            "input_ids: 0 2250 743 739 3311 2256 3792 453 1859 710 333 18 2 1 1 1 1 1 1 1 1 1 1 1 1 1 1 1 1 1 1 1 1 1 1 1\n",
            "attention_mask: 1 1 1 1 1 1 1 1 1 1 1 1 1 0 0 0 0 0 0 0 0 0 0 0 0 0 0 0 0 0 0 0 0 0 0 0\n",
            "token_type_ids: 0 0 0 0 0 0 0 0 0 0 0 0 0 0 0 0 0 0 0 0 0 0 0 0 0 0 0 0 0 0 0 0 0 0 0 0\n",
            "label: 0\n",
            "*** Example ***\n",
            "input_ids: 0 6211 882 739 9489 1737 7217 1586 4644 398 18 2 1 1 1 1 1 1 1 1 1 1 1 1 1 1 1 1 1 1 1 1 1 1 1 1\n",
            "attention_mask: 1 1 1 1 1 1 1 1 1 1 1 1 0 0 0 0 0 0 0 0 0 0 0 0 0 0 0 0 0 0 0 0 0 0 0 0\n",
            "token_type_ids: 0 0 0 0 0 0 0 0 0 0 0 0 0 0 0 0 0 0 0 0 0 0 0 0 0 0 0 0 0 0 0 0 0 0 0 0\n",
            "label: 0\n"
          ],
          "name": "stdout"
        }
      ]
    },
    {
      "cell_type": "code",
      "metadata": {
        "colab": {
          "base_uri": "https://localhost:8080/"
        },
        "id": "s7KkdYMr6h7C",
        "outputId": "eab35abc-2efc-45d7-db2c-e571b15eef39"
      },
      "source": [
        "dev_dataset_first = load_data(tokenizer, \"dev_first\")"
      ],
      "execution_count": null,
      "outputs": [
        {
          "output_type": "stream",
          "text": [
            "Creating features from dataset file at '/content/drive/MyDrive/intention/'\n",
            "LOOKING AT /content/drive/MyDrive/intention/dev2_first.txt\n",
            "[0] ['0', '내 앞에 있는 차 계속 따라가.', '1.차량제어-운전제어-일자따라가기']\n",
            "*** Example ***\n",
            "input_ids: 0 746 3871 625 882 1282 1912 287 18 2 1 1 1 1 1 1 1 1 1 1 1 1 1 1 1 1 1 1 1 1 1 1 1 1 1 1\n",
            "attention_mask: 1 1 1 1 1 1 1 1 1 1 0 0 0 0 0 0 0 0 0 0 0 0 0 0 0 0 0 0 0 0 0 0 0 0 0 0\n",
            "token_type_ids: 0 0 0 0 0 0 0 0 0 0 0 0 0 0 0 0 0 0 0 0 0 0 0 0 0 0 0 0 0 0 0 0 0 0 0 0\n",
            "label: 0\n",
            "*** Example ***\n",
            "input_ids: 0 743 1000 573 6992 317 1379 1831 35 2 1 1 1 1 1 1 1 1 1 1 1 1 1 1 1 1 1 1 1 1 1 1 1 1 1 1\n",
            "attention_mask: 1 1 1 1 1 1 1 1 1 1 0 0 0 0 0 0 0 0 0 0 0 0 0 0 0 0 0 0 0 0 0 0 0 0 0 0\n",
            "token_type_ids: 0 0 0 0 0 0 0 0 0 0 0 0 0 0 0 0 0 0 0 0 0 0 0 0 0 0 0 0 0 0 0 0 0 0 0 0\n",
            "label: 0\n",
            "*** Example ***\n",
            "input_ids: 0 2250 743 523 542 604 11385 3792 1549 1912 287 18 2 1 1 1 1 1 1 1 1 1 1 1 1 1 1 1 1 1 1 1 1 1 1 1\n",
            "attention_mask: 1 1 1 1 1 1 1 1 1 1 1 1 1 0 0 0 0 0 0 0 0 0 0 0 0 0 0 0 0 0 0 0 0 0 0 0\n",
            "token_type_ids: 0 0 0 0 0 0 0 0 0 0 0 0 0 0 0 0 0 0 0 0 0 0 0 0 0 0 0 0 0 0 0 0 0 0 0 0\n",
            "label: 0\n",
            "*** Example ***\n",
            "input_ids: 0 2250 743 1912 477 7080 35 2 1 1 1 1 1 1 1 1 1 1 1 1 1 1 1 1 1 1 1 1 1 1 1 1 1 1 1 1\n",
            "attention_mask: 1 1 1 1 1 1 1 1 0 0 0 0 0 0 0 0 0 0 0 0 0 0 0 0 0 0 0 0 0 0 0 0 0 0 0 0\n",
            "token_type_ids: 0 0 0 0 0 0 0 0 0 0 0 0 0 0 0 0 0 0 0 0 0 0 0 0 0 0 0 0 0 0 0 0 0 0 0 0\n",
            "label: 0\n",
            "*** Example ***\n",
            "input_ids: 0 6211 882 4186 7080 1015 829 35 2 1 1 1 1 1 1 1 1 1 1 1 1 1 1 1 1 1 1 1 1 1 1 1 1 1 1 1\n",
            "attention_mask: 1 1 1 1 1 1 1 1 1 0 0 0 0 0 0 0 0 0 0 0 0 0 0 0 0 0 0 0 0 0 0 0 0 0 0 0\n",
            "token_type_ids: 0 0 0 0 0 0 0 0 0 0 0 0 0 0 0 0 0 0 0 0 0 0 0 0 0 0 0 0 0 0 0 0 0 0 0 0\n",
            "label: 0\n"
          ],
          "name": "stdout"
        }
      ]
    },
    {
      "cell_type": "code",
      "metadata": {
        "id": "ds_BAaiVKDIs"
      },
      "source": [
        "model.classifier()"
      ],
      "execution_count": null,
      "outputs": []
    },
    {
      "cell_type": "markdown",
      "metadata": {
        "id": "AnlY0dW_fiKQ"
      },
      "source": [
        "# Finetuning"
      ]
    },
    {
      "cell_type": "markdown",
      "metadata": {
        "id": "SCltkMfIX2oo"
      },
      "source": [
        "특정 Dataset의 accuracy를 확인하는 코드"
      ]
    },
    {
      "cell_type": "code",
      "metadata": {
        "id": "vkeQRinBDMWy"
      },
      "source": [
        "# evalute() 함수 정의\n",
        "\n",
        "def evaluate(_model, _eval_dataset, mode, _global_step=None):\n",
        "  results = {}\n",
        "  eval_sampler = SequentialSampler(_eval_dataset)\n",
        "  eval_dataloader = DataLoader(_eval_dataset, sampler=eval_sampler, batch_size=args.eval_batch_size)\n",
        "\n",
        "  # Eval!\n",
        "  if _global_step != None:\n",
        "    print(f\"***** Running evaluation on {mode} dataset ({_global_step} step) *****\")\n",
        "  else:\n",
        "    print(f\"***** Running evaluation on {mode} dataset *****\")\n",
        "  print(f\"  Num examples = {len(_eval_dataset)}\")\n",
        "  print(f\"  Eval Batch size = {args.eval_batch_size}\")\n",
        "  eval_loss = 0.0\n",
        "  nb_eval_steps = 0\n",
        "  preds = None\n",
        "  out_label_ids = None\n",
        "\n",
        "  # Dataloader [for]\n",
        "  for batch in progress_bar(eval_dataloader):\n",
        "    _model.eval()\n",
        "    batch = tuple(t.to(args.device) for t in batch)\n",
        "\n",
        "    with torch.no_grad():\n",
        "      inputs = {\n",
        "          \"input_ids\": batch[0], # 'id'\n",
        "          \"attention_mask\": batch[1], # 'document'\n",
        "          \"labels\": batch[3] # class 'labels'\n",
        "      }\n",
        "      if args.model_type not in [\"distilkobert\", \"xlm-roberta\"]:\n",
        "        inputs[\"token_type_ids\"] = batch[2]  # Distilkobert, XLM-Roberta don't use segment_ids\n",
        "      outputs = _model(**inputs)\n",
        "      tmp_eval_loss, logits = outputs[:2]\n",
        "\n",
        "      eval_loss += tmp_eval_loss.mean().item()\n",
        "    nb_eval_steps += 1\n",
        "    if preds is None:\n",
        "      preds = logits.detach().cpu().numpy()\n",
        "      out_label_ids = inputs[\"labels\"].detach().cpu().numpy()\n",
        "    else:\n",
        "      preds = np.append(preds, logits.detach().cpu().numpy(), axis=0)\n",
        "      out_label_ids = np.append(out_label_ids, inputs[\"labels\"].detach().cpu().numpy(), axis=0)\n",
        "  # End Dataloader [for]\n",
        "\n",
        "  eval_loss = eval_loss / nb_eval_steps\n",
        "  preds = np.argmax(preds, axis=1)\n",
        "  result = {\n",
        "      \"acc\": (out_label_ids == preds).mean(),\n",
        "      #\"tmp_eval_loss\": tmp_eval_loss,\n",
        "      \"지금까지 average_eval_loss\": eval_loss\n",
        "  }\n",
        "  results.update(result)\n",
        "\n",
        "  output_dir_first = os.path.join(args.output_dir_first, mode)\n",
        "  if not os.path.exists(output_dir_first):\n",
        "    os.makedirs(output_dir_first)\n",
        "\n",
        "  output_eval_file = os.path.join(output_dir_first, f\"{mode}-{_global_step}.txt\" if _global_step else f\"{mode}.txt\")\n",
        "  with open(output_eval_file, \"w\") as f_w:\n",
        "    print(f\"***** Eval results on {mode} dataset *****\")\n",
        "    for key in sorted(results.keys()):\n",
        "      print(f\"  {key} = {str(results[key])}\")\n",
        "      f_w.write(f\"  {key} = {str(results[key])}\\n\")\n",
        "\n",
        "  return results"
      ],
      "execution_count": null,
      "outputs": []
    },
    {
      "cell_type": "code",
      "metadata": {
        "id": "zsq5ck10fj7O",
        "colab": {
          "base_uri": "https://localhost:8080/",
          "height": 178
        },
        "outputId": "f101fd25-b218-4ea8-ac7f-5d82e98267eb"
      },
      "source": [
        "train_sampler = RandomSampler(train_dataset_first)\n",
        "train_dataloader = DataLoader(train_dataset_first, sampler=train_sampler, batch_size=args.train_batch_size)"
      ],
      "execution_count": null,
      "outputs": [
        {
          "output_type": "error",
          "ename": "NameError",
          "evalue": "ignored",
          "traceback": [
            "\u001b[0;31m---------------------------------------------------------------------------\u001b[0m",
            "\u001b[0;31mNameError\u001b[0m                                 Traceback (most recent call last)",
            "\u001b[0;32m<ipython-input-51-290edf204b9e>\u001b[0m in \u001b[0;36m<module>\u001b[0;34m()\u001b[0m\n\u001b[0;32m----> 1\u001b[0;31m \u001b[0mtrain_sampler\u001b[0m \u001b[0;34m=\u001b[0m \u001b[0mRandomSampler\u001b[0m\u001b[0;34m(\u001b[0m\u001b[0mtest_dataset\u001b[0m\u001b[0;34m)\u001b[0m\u001b[0;34m\u001b[0m\u001b[0;34m\u001b[0m\u001b[0m\n\u001b[0m\u001b[1;32m      2\u001b[0m \u001b[0mtrain_dataloader\u001b[0m \u001b[0;34m=\u001b[0m \u001b[0mDataLoader\u001b[0m\u001b[0;34m(\u001b[0m\u001b[0mtest_dataset\u001b[0m\u001b[0;34m,\u001b[0m \u001b[0msampler\u001b[0m\u001b[0;34m=\u001b[0m\u001b[0mtrain_sampler\u001b[0m\u001b[0;34m,\u001b[0m \u001b[0mbatch_size\u001b[0m\u001b[0;34m=\u001b[0m\u001b[0margs\u001b[0m\u001b[0;34m.\u001b[0m\u001b[0mtrain_batch_size\u001b[0m\u001b[0;34m)\u001b[0m\u001b[0;34m\u001b[0m\u001b[0;34m\u001b[0m\u001b[0m\n",
            "\u001b[0;31mNameError\u001b[0m: name 'test_dataset' is not defined"
          ]
        }
      ]
    },
    {
      "cell_type": "code",
      "metadata": {
        "id": "nsFhOntE8CBI",
        "colab": {
          "base_uri": "https://localhost:8080/",
          "height": 195
        },
        "outputId": "41235d73-3bfd-40ea-85b7-d06b5b120fe7"
      },
      "source": [
        "if args.max_steps > 0:\n",
        "  t_total = args.max_steps\n",
        "  args.num_train_epochs = args.max_steps // (len(train_dataloader) // args.gradient_accumulation_steps) + 1\n",
        "else:\n",
        "  t_total = len(train_dataloader) // args.gradient_accumulation_steps * args.num_train_epochs  "
      ],
      "execution_count": null,
      "outputs": [
        {
          "output_type": "error",
          "ename": "NameError",
          "evalue": "ignored",
          "traceback": [
            "\u001b[0;31m---------------------------------------------------------------------------\u001b[0m",
            "\u001b[0;31mNameError\u001b[0m                                 Traceback (most recent call last)",
            "\u001b[0;32m<ipython-input-50-4b9a87f90611>\u001b[0m in \u001b[0;36m<module>\u001b[0;34m()\u001b[0m\n\u001b[1;32m      3\u001b[0m   \u001b[0margs\u001b[0m\u001b[0;34m.\u001b[0m\u001b[0mnum_train_epochs\u001b[0m \u001b[0;34m=\u001b[0m \u001b[0margs\u001b[0m\u001b[0;34m.\u001b[0m\u001b[0mmax_steps\u001b[0m \u001b[0;34m//\u001b[0m \u001b[0;34m(\u001b[0m\u001b[0mlen\u001b[0m\u001b[0;34m(\u001b[0m\u001b[0mtrain_dataloader\u001b[0m\u001b[0;34m)\u001b[0m \u001b[0;34m//\u001b[0m \u001b[0margs\u001b[0m\u001b[0;34m.\u001b[0m\u001b[0mgradient_accumulation_steps\u001b[0m\u001b[0;34m)\u001b[0m \u001b[0;34m+\u001b[0m \u001b[0;36m1\u001b[0m\u001b[0;34m\u001b[0m\u001b[0;34m\u001b[0m\u001b[0m\n\u001b[1;32m      4\u001b[0m \u001b[0;32melse\u001b[0m\u001b[0;34m:\u001b[0m\u001b[0;34m\u001b[0m\u001b[0;34m\u001b[0m\u001b[0m\n\u001b[0;32m----> 5\u001b[0;31m   \u001b[0mt_total\u001b[0m \u001b[0;34m=\u001b[0m \u001b[0mlen\u001b[0m\u001b[0;34m(\u001b[0m\u001b[0mtrain_dataloader\u001b[0m\u001b[0;34m)\u001b[0m \u001b[0;34m//\u001b[0m \u001b[0margs\u001b[0m\u001b[0;34m.\u001b[0m\u001b[0mgradient_accumulation_steps\u001b[0m \u001b[0;34m*\u001b[0m \u001b[0margs\u001b[0m\u001b[0;34m.\u001b[0m\u001b[0mnum_train_epochs\u001b[0m\u001b[0;34m\u001b[0m\u001b[0;34m\u001b[0m\u001b[0m\n\u001b[0m",
            "\u001b[0;31mNameError\u001b[0m: name 'train_dataloader' is not defined"
          ]
        }
      ]
    },
    {
      "cell_type": "code",
      "metadata": {
        "id": "GQB8rkJyvfBN"
      },
      "source": [
        "global_step = 1\n",
        "epochs_trained = 0\n",
        "steps_trained_in_current_epoch = 0\n",
        "\n",
        "if os.path.exists(args.output_dir_first):\n",
        "  try:\n",
        "    print(\"  Find latest checkpoint\")\n",
        "    ckpts_suffix = [int(c.split(\"-\")[-1]) for c in os.listdir(args.output_dir_first) if c.startswith(\"checkpoint\")] \n",
        "    global_step = max(ckpts_suffix)\n",
        "    ckpt_path = os.path.join(args.output_dir_first, f\"checkpoint-{global_step}\" )\n",
        "    \n",
        "    model = AutoModelForSequenceClassification.from_pretrained(ckpt_path)\n",
        "    model.to(args.device)\n",
        "\n",
        "    epochs_trained = global_step // (len(train_dataloader) // args.gradient_accumulation_steps)\n",
        "    steps_trained_in_current_epoch = global_step % (len(train_dataloader) // args.gradient_accumulation_steps)\n",
        "    print(\"  Continuing training from checkpoint, will skip to saved global_step\")\n",
        "    print(f\"  Continuing training from epoch {epochs_trained}\")\n",
        "    print(f\"  Continuing training from global step {global_step}\", )\n",
        "    print(f\"  Will skip the first {steps_trained_in_current_epoch} steps in the first epoch\")\n",
        "  except ValueError:\n",
        "    print(\"  Starting fine-tuning.\")"
      ],
      "execution_count": null,
      "outputs": []
    },
    {
      "cell_type": "code",
      "metadata": {
        "id": "7VAaK8df866w"
      },
      "source": [
        "# Prepare optimizer and schedule (linear warmup and decay)\n",
        "no_decay = ['bias', 'LayerNorm.weight']\n",
        "optimizer_grouped_parameters = [\n",
        "  {'params': [p for n, p in model.named_parameters() if not any(nd in n for nd in no_decay)],\n",
        "   'weight_decay': args.weight_decay},\n",
        "  {'params': [p for n, p in model.named_parameters() if any(nd in n for nd in no_decay)], \n",
        "   'weight_decay': 0.0}\n",
        "]\n",
        "optimizer = AdamW(optimizer_grouped_parameters, lr=args.learning_rate, eps=args.adam_epsilon)\n",
        "scheduler = get_linear_schedule_with_warmup(optimizer, num_warmup_steps=int(t_total * args.warmup_proportion), num_training_steps=t_total)"
      ],
      "execution_count": null,
      "outputs": []
    },
    {
      "cell_type": "markdown",
      "metadata": {
        "id": "bHmAkLOyvS6x"
      },
      "source": [
        "##Training"
      ]
    },
    {
      "cell_type": "code",
      "metadata": {
        "id": "nT4C5eba80Cx",
        "colab": {
          "base_uri": "https://localhost:8080/",
          "height": 1000
        },
        "outputId": "7e7acba3-c14a-412d-a0d4-38a7c68ee41a"
      },
      "source": [
        "# 현경 수정\n",
        "# Train!\n",
        "print(\"***** Running training *****\")\n",
        "print(f\"  Traning model_ = {args.model_name_or_path}\")\n",
        "print(f\"  Num examples = {len(train_dataset_first)}\")\n",
        "print(f\"  Num Epochs = {args.num_train_epochs}\")\n",
        "print(f\"  Total train batch size = {args.train_batch_size}\")\n",
        "print(f\"  Gradient Accumulation steps = {args.gradient_accumulation_steps}\")\n",
        "print(f\"  Total optimization steps = {t_total}\")\n",
        "print(f\"  Logging steps = {args.logging_steps}\")\n",
        "print(f\"  Save steps = { args.save_steps}\")\n",
        "\n",
        "tr_loss = 0.0\n",
        "model.zero_grad()\n",
        "mb = master_bar(range(int(args.num_train_epochs)))\n",
        "for epoch in mb:\n",
        "  if epochs_trained > 0:\n",
        "    epochs_trained -= 1\n",
        "    continue\n",
        "\n",
        "  epoch_iterator = progress_bar(train_dataloader, parent=mb)\n",
        "  # One epoch train\n",
        "  for step, batch in enumerate(epoch_iterator):\n",
        "    # Skip past any already trained steps if resuming training\n",
        "    if steps_trained_in_current_epoch > 0:\n",
        "      steps_trained_in_current_epoch -= 1\n",
        "      continue\n",
        "\n",
        "    model.train()\n",
        "    batch = tuple(t.to(args.device) for t in batch)\n",
        "    inputs = {\n",
        "        \"input_ids\":batch[0],\n",
        "        \"attention_mask\": batch[1],\n",
        "        \"labels\": batch[3]\n",
        "    }\n",
        "\n",
        "    if args.model_type not in [\"distilkobert\", \"xlm-roberta\"]:\n",
        "      inputs[\"token_type_ids\"] = batch[2]  # Distilkobert, XLM-Roberta don't use segment_ids\n",
        "    outputs = model(**inputs)\n",
        "\n",
        "    loss = outputs[0]\n",
        "\n",
        "    if args.gradient_accumulation_steps > 1:\n",
        "      loss = loss / args.gradient_accumulation_steps\n",
        "\n",
        "    loss.backward()\n",
        "    tr_loss += loss.item()\n",
        "    # Accumulation \n",
        "    if (step + 1) % args.gradient_accumulation_steps == 0 or (\n",
        "        len(train_dataloader) <= args.gradient_accumulation_steps \n",
        "        and (step + 1) == len(train_dataloader)\n",
        "    ):\n",
        "      torch.nn.utils.clip_grad_norm(model.parameters(), args.max_grad_norm)\n",
        "\n",
        "      optimizer.step()\n",
        "      scheduler.step()\n",
        "      model.zero_grad()\n",
        "      global_step += 1\n",
        "\n",
        "\n",
        "\n",
        "\n",
        "      # Evaluate \n",
        "      if args.logging_steps > 0 and global_step % args.logging_steps == 0:\n",
        "        if args.evaluate_test_during_training:\n",
        "          evaluate(model, dev_dataset_first, mode=\"dev_first\", _global_step=global_step) # 모델 1\n",
        "        \n",
        "        else:\n",
        "          evaluate(model, test_dataset, mode=\"test\", _global_step=global_step)\n",
        "      # End Evaluate [if]\n",
        "\n",
        "      # Save model checkpoint\n",
        "      if args.save_steps > 0 and global_step % args.save_steps == 0:\n",
        "        output_dir_first = os.path.join(args.output_dir_first, f\"checkpoint-{global_step}\")\n",
        "        if not os.path.exists(output_dir_first):\n",
        "          os.makedirs(output_dir_first)\n",
        "        model_to_save = model.module if hasattr(model, \"module\") else model\n",
        "        model_to_save.save_pretrained(output_dir_first)\n",
        "\n",
        "        torch.save(args, os.path.join(output_dir_first, \"training_args.bin\"))\n",
        "        print(f\" Saving model checkpoint to {output_dir_first}\")\n",
        "\n",
        "        if args.save_optimizer:\n",
        "          torch.save(optimizer.state_dict(), os.path.join(output_dir_first, \"optimizer.pt\"))\n",
        "          torch.save(scheduler.state_dict(), os.path.join(output_dir_first, \"scheduler.pt\"))\n",
        "      # End Save model [if]\n",
        "    # End Accumulation [if]\n",
        "    \n",
        "    if args.max_steps > 0 and global_step > args.max_steps:\n",
        "      break\n",
        "  # End One epoch train [for]\n",
        "  mb.write(\"Epoch {} done\".format(epoch + 1))\n",
        "\n",
        "  if args.max_steps > 0 and global_step > args.max_steps:\n",
        "    break \n",
        "tr_loss = tr_loss / global_step # 평균 train_loss 출력\n"
      ],
      "execution_count": null,
      "outputs": [
        {
          "output_type": "stream",
          "text": [
            "***** Running training *****\n",
            "  Traning model_ = jason9693/soongsil-roberta-base\n",
            "  Num examples = 83706\n",
            "  Num Epochs = 10\n",
            "  Total train batch size = 32\n",
            "  Gradient Accumulation steps = 1\n",
            "  Total optimization steps = 26160\n",
            "  Logging steps = 2000\n",
            "  Save steps = 2000\n"
          ],
          "name": "stdout"
        },
        {
          "output_type": "display_data",
          "data": {
            "text/html": [
              "Epoch 1 done<p>Epoch 2 done<p>Epoch 3 done<p>Epoch 4 done<p>Epoch 5 done<p>Epoch 6 done<p>Epoch 7 done<p>Epoch 8 done<p>Epoch 9 done<p>Epoch 10 done"
            ],
            "text/plain": [
              "<IPython.core.display.HTML object>"
            ]
          },
          "metadata": {
            "tags": []
          }
        },
        {
          "output_type": "stream",
          "text": [
            "/usr/local/lib/python3.6/dist-packages/ipykernel_launcher.py:53: UserWarning: torch.nn.utils.clip_grad_norm is now deprecated in favor of torch.nn.utils.clip_grad_norm_.\n"
          ],
          "name": "stderr"
        },
        {
          "output_type": "stream",
          "text": [
            "***** Running evaluation on dev_first dataset (2000 step) *****\n",
            "  Num examples = 9228\n",
            "  Eval Batch size = 128\n"
          ],
          "name": "stdout"
        },
        {
          "output_type": "display_data",
          "data": {
            "text/html": [
              "\n",
              "    <div>\n",
              "        <style>\n",
              "            /* Turns off some styling */\n",
              "            progress {\n",
              "                /* gets rid of default border in Firefox and Opera. */\n",
              "                border: none;\n",
              "                /* Needs to be in here for Safari polyfill so background images work as expected. */\n",
              "                background-size: auto;\n",
              "            }\n",
              "            .progress-bar-interrupted, .progress-bar-interrupted::-webkit-progress-bar {\n",
              "                background: #F44336;\n",
              "            }\n",
              "        </style>\n",
              "      <progress value='73' class='' max='73' style='width:300px; height:20px; vertical-align: middle;'></progress>\n",
              "      100.00% [73/73 00:18<00:00]\n",
              "    </div>\n",
              "    "
            ],
            "text/plain": [
              "<IPython.core.display.HTML object>"
            ]
          },
          "metadata": {
            "tags": []
          }
        },
        {
          "output_type": "stream",
          "text": [
            "***** Eval results on dev_first dataset *****\n",
            "  acc = 0.49588209796272215\n",
            "  지금까지 average_eval_loss = 2.545202866400758\n",
            " Saving model checkpoint to /content/drive/MyDrive/intention/soongsil-roberta-base-nsmc-ckptfirst_model/checkpoint-2000\n",
            "***** Running evaluation on dev_first dataset (4000 step) *****\n",
            "  Num examples = 9228\n",
            "  Eval Batch size = 128\n"
          ],
          "name": "stdout"
        },
        {
          "output_type": "display_data",
          "data": {
            "text/html": [
              "\n",
              "    <div>\n",
              "        <style>\n",
              "            /* Turns off some styling */\n",
              "            progress {\n",
              "                /* gets rid of default border in Firefox and Opera. */\n",
              "                border: none;\n",
              "                /* Needs to be in here for Safari polyfill so background images work as expected. */\n",
              "                background-size: auto;\n",
              "            }\n",
              "            .progress-bar-interrupted, .progress-bar-interrupted::-webkit-progress-bar {\n",
              "                background: #F44336;\n",
              "            }\n",
              "        </style>\n",
              "      <progress value='73' class='' max='73' style='width:300px; height:20px; vertical-align: middle;'></progress>\n",
              "      100.00% [73/73 00:17<00:00]\n",
              "    </div>\n",
              "    "
            ],
            "text/plain": [
              "<IPython.core.display.HTML object>"
            ]
          },
          "metadata": {
            "tags": []
          }
        },
        {
          "output_type": "stream",
          "text": [
            "***** Eval results on dev_first dataset *****\n",
            "  acc = 0.6251625487646294\n",
            "  지금까지 average_eval_loss = 1.6717627044409922\n",
            " Saving model checkpoint to /content/drive/MyDrive/intention/soongsil-roberta-base-nsmc-ckptfirst_model/checkpoint-4000\n",
            "***** Running evaluation on dev_first dataset (6000 step) *****\n",
            "  Num examples = 9228\n",
            "  Eval Batch size = 128\n"
          ],
          "name": "stdout"
        },
        {
          "output_type": "display_data",
          "data": {
            "text/html": [
              "\n",
              "    <div>\n",
              "        <style>\n",
              "            /* Turns off some styling */\n",
              "            progress {\n",
              "                /* gets rid of default border in Firefox and Opera. */\n",
              "                border: none;\n",
              "                /* Needs to be in here for Safari polyfill so background images work as expected. */\n",
              "                background-size: auto;\n",
              "            }\n",
              "            .progress-bar-interrupted, .progress-bar-interrupted::-webkit-progress-bar {\n",
              "                background: #F44336;\n",
              "            }\n",
              "        </style>\n",
              "      <progress value='73' class='' max='73' style='width:300px; height:20px; vertical-align: middle;'></progress>\n",
              "      100.00% [73/73 00:17<00:00]\n",
              "    </div>\n",
              "    "
            ],
            "text/plain": [
              "<IPython.core.display.HTML object>"
            ]
          },
          "metadata": {
            "tags": []
          }
        },
        {
          "output_type": "stream",
          "text": [
            "***** Eval results on dev_first dataset *****\n",
            "  acc = 0.6786952752492414\n",
            "  지금까지 average_eval_loss = 1.2984233882329235\n",
            " Saving model checkpoint to /content/drive/MyDrive/intention/soongsil-roberta-base-nsmc-ckptfirst_model/checkpoint-6000\n",
            "***** Running evaluation on dev_first dataset (8000 step) *****\n",
            "  Num examples = 9228\n",
            "  Eval Batch size = 128\n"
          ],
          "name": "stdout"
        },
        {
          "output_type": "display_data",
          "data": {
            "text/html": [
              "\n",
              "    <div>\n",
              "        <style>\n",
              "            /* Turns off some styling */\n",
              "            progress {\n",
              "                /* gets rid of default border in Firefox and Opera. */\n",
              "                border: none;\n",
              "                /* Needs to be in here for Safari polyfill so background images work as expected. */\n",
              "                background-size: auto;\n",
              "            }\n",
              "            .progress-bar-interrupted, .progress-bar-interrupted::-webkit-progress-bar {\n",
              "                background: #F44336;\n",
              "            }\n",
              "        </style>\n",
              "      <progress value='73' class='' max='73' style='width:300px; height:20px; vertical-align: middle;'></progress>\n",
              "      100.00% [73/73 00:17<00:00]\n",
              "    </div>\n",
              "    "
            ],
            "text/plain": [
              "<IPython.core.display.HTML object>"
            ]
          },
          "metadata": {
            "tags": []
          }
        },
        {
          "output_type": "stream",
          "text": [
            "***** Eval results on dev_first dataset *****\n",
            "  acc = 0.716514954486346\n",
            "  지금까지 average_eval_loss = 1.1245700561836973\n",
            " Saving model checkpoint to /content/drive/MyDrive/intention/soongsil-roberta-base-nsmc-ckptfirst_model/checkpoint-8000\n",
            "***** Running evaluation on dev_first dataset (10000 step) *****\n",
            "  Num examples = 9228\n",
            "  Eval Batch size = 128\n"
          ],
          "name": "stdout"
        },
        {
          "output_type": "display_data",
          "data": {
            "text/html": [
              "\n",
              "    <div>\n",
              "        <style>\n",
              "            /* Turns off some styling */\n",
              "            progress {\n",
              "                /* gets rid of default border in Firefox and Opera. */\n",
              "                border: none;\n",
              "                /* Needs to be in here for Safari polyfill so background images work as expected. */\n",
              "                background-size: auto;\n",
              "            }\n",
              "            .progress-bar-interrupted, .progress-bar-interrupted::-webkit-progress-bar {\n",
              "                background: #F44336;\n",
              "            }\n",
              "        </style>\n",
              "      <progress value='73' class='' max='73' style='width:300px; height:20px; vertical-align: middle;'></progress>\n",
              "      100.00% [73/73 00:17<00:00]\n",
              "    </div>\n",
              "    "
            ],
            "text/plain": [
              "<IPython.core.display.HTML object>"
            ]
          },
          "metadata": {
            "tags": []
          }
        },
        {
          "output_type": "stream",
          "text": [
            "***** Eval results on dev_first dataset *****\n",
            "  acc = 0.7363459037711313\n",
            "  지금까지 average_eval_loss = 1.0400397344811323\n",
            " Saving model checkpoint to /content/drive/MyDrive/intention/soongsil-roberta-base-nsmc-ckptfirst_model/checkpoint-10000\n",
            "***** Running evaluation on dev_first dataset (12000 step) *****\n",
            "  Num examples = 9228\n",
            "  Eval Batch size = 128\n"
          ],
          "name": "stdout"
        },
        {
          "output_type": "display_data",
          "data": {
            "text/html": [
              "\n",
              "    <div>\n",
              "        <style>\n",
              "            /* Turns off some styling */\n",
              "            progress {\n",
              "                /* gets rid of default border in Firefox and Opera. */\n",
              "                border: none;\n",
              "                /* Needs to be in here for Safari polyfill so background images work as expected. */\n",
              "                background-size: auto;\n",
              "            }\n",
              "            .progress-bar-interrupted, .progress-bar-interrupted::-webkit-progress-bar {\n",
              "                background: #F44336;\n",
              "            }\n",
              "        </style>\n",
              "      <progress value='73' class='' max='73' style='width:300px; height:20px; vertical-align: middle;'></progress>\n",
              "      100.00% [73/73 00:17<00:00]\n",
              "    </div>\n",
              "    "
            ],
            "text/plain": [
              "<IPython.core.display.HTML object>"
            ]
          },
          "metadata": {
            "tags": []
          }
        },
        {
          "output_type": "stream",
          "text": [
            "***** Eval results on dev_first dataset *****\n",
            "  acc = 0.7418725617685306\n",
            "  지금까지 average_eval_loss = 1.0462734676795462\n",
            " Saving model checkpoint to /content/drive/MyDrive/intention/soongsil-roberta-base-nsmc-ckptfirst_model/checkpoint-12000\n",
            "***** Running evaluation on dev_first dataset (14000 step) *****\n",
            "  Num examples = 9228\n",
            "  Eval Batch size = 128\n"
          ],
          "name": "stdout"
        },
        {
          "output_type": "display_data",
          "data": {
            "text/html": [
              "\n",
              "    <div>\n",
              "        <style>\n",
              "            /* Turns off some styling */\n",
              "            progress {\n",
              "                /* gets rid of default border in Firefox and Opera. */\n",
              "                border: none;\n",
              "                /* Needs to be in here for Safari polyfill so background images work as expected. */\n",
              "                background-size: auto;\n",
              "            }\n",
              "            .progress-bar-interrupted, .progress-bar-interrupted::-webkit-progress-bar {\n",
              "                background: #F44336;\n",
              "            }\n",
              "        </style>\n",
              "      <progress value='73' class='' max='73' style='width:300px; height:20px; vertical-align: middle;'></progress>\n",
              "      100.00% [73/73 00:17<00:00]\n",
              "    </div>\n",
              "    "
            ],
            "text/plain": [
              "<IPython.core.display.HTML object>"
            ]
          },
          "metadata": {
            "tags": []
          }
        },
        {
          "output_type": "stream",
          "text": [
            "***** Eval results on dev_first dataset *****\n",
            "  acc = 0.7549848287819679\n",
            "  지금까지 average_eval_loss = 1.0468845498071957\n",
            " Saving model checkpoint to /content/drive/MyDrive/intention/soongsil-roberta-base-nsmc-ckptfirst_model/checkpoint-14000\n",
            "***** Running evaluation on dev_first dataset (16000 step) *****\n",
            "  Num examples = 9228\n",
            "  Eval Batch size = 128\n"
          ],
          "name": "stdout"
        },
        {
          "output_type": "display_data",
          "data": {
            "text/html": [
              "\n",
              "    <div>\n",
              "        <style>\n",
              "            /* Turns off some styling */\n",
              "            progress {\n",
              "                /* gets rid of default border in Firefox and Opera. */\n",
              "                border: none;\n",
              "                /* Needs to be in here for Safari polyfill so background images work as expected. */\n",
              "                background-size: auto;\n",
              "            }\n",
              "            .progress-bar-interrupted, .progress-bar-interrupted::-webkit-progress-bar {\n",
              "                background: #F44336;\n",
              "            }\n",
              "        </style>\n",
              "      <progress value='73' class='' max='73' style='width:300px; height:20px; vertical-align: middle;'></progress>\n",
              "      100.00% [73/73 00:17<00:00]\n",
              "    </div>\n",
              "    "
            ],
            "text/plain": [
              "<IPython.core.display.HTML object>"
            ]
          },
          "metadata": {
            "tags": []
          }
        },
        {
          "output_type": "stream",
          "text": [
            "***** Eval results on dev_first dataset *****\n",
            "  acc = 0.7544429995665366\n",
            "  지금까지 average_eval_loss = 1.059822777362719\n",
            " Saving model checkpoint to /content/drive/MyDrive/intention/soongsil-roberta-base-nsmc-ckptfirst_model/checkpoint-16000\n",
            "***** Running evaluation on dev_first dataset (18000 step) *****\n",
            "  Num examples = 9228\n",
            "  Eval Batch size = 128\n"
          ],
          "name": "stdout"
        },
        {
          "output_type": "display_data",
          "data": {
            "text/html": [
              "\n",
              "    <div>\n",
              "        <style>\n",
              "            /* Turns off some styling */\n",
              "            progress {\n",
              "                /* gets rid of default border in Firefox and Opera. */\n",
              "                border: none;\n",
              "                /* Needs to be in here for Safari polyfill so background images work as expected. */\n",
              "                background-size: auto;\n",
              "            }\n",
              "            .progress-bar-interrupted, .progress-bar-interrupted::-webkit-progress-bar {\n",
              "                background: #F44336;\n",
              "            }\n",
              "        </style>\n",
              "      <progress value='73' class='' max='73' style='width:300px; height:20px; vertical-align: middle;'></progress>\n",
              "      100.00% [73/73 00:17<00:00]\n",
              "    </div>\n",
              "    "
            ],
            "text/plain": [
              "<IPython.core.display.HTML object>"
            ]
          },
          "metadata": {
            "tags": []
          }
        },
        {
          "output_type": "stream",
          "text": [
            "***** Eval results on dev_first dataset *****\n",
            "  acc = 0.7575856090160381\n",
            "  지금까지 average_eval_loss = 1.0548493078310195\n",
            " Saving model checkpoint to /content/drive/MyDrive/intention/soongsil-roberta-base-nsmc-ckptfirst_model/checkpoint-18000\n",
            "***** Running evaluation on dev_first dataset (20000 step) *****\n",
            "  Num examples = 9228\n",
            "  Eval Batch size = 128\n"
          ],
          "name": "stdout"
        },
        {
          "output_type": "display_data",
          "data": {
            "text/html": [
              "\n",
              "    <div>\n",
              "        <style>\n",
              "            /* Turns off some styling */\n",
              "            progress {\n",
              "                /* gets rid of default border in Firefox and Opera. */\n",
              "                border: none;\n",
              "                /* Needs to be in here for Safari polyfill so background images work as expected. */\n",
              "                background-size: auto;\n",
              "            }\n",
              "            .progress-bar-interrupted, .progress-bar-interrupted::-webkit-progress-bar {\n",
              "                background: #F44336;\n",
              "            }\n",
              "        </style>\n",
              "      <progress value='73' class='' max='73' style='width:300px; height:20px; vertical-align: middle;'></progress>\n",
              "      100.00% [73/73 00:17<00:00]\n",
              "    </div>\n",
              "    "
            ],
            "text/plain": [
              "<IPython.core.display.HTML object>"
            ]
          },
          "metadata": {
            "tags": []
          }
        },
        {
          "output_type": "stream",
          "text": [
            "***** Eval results on dev_first dataset *****\n",
            "  acc = 0.7572605114867794\n",
            "  지금까지 average_eval_loss = 1.089633776308739\n",
            " Saving model checkpoint to /content/drive/MyDrive/intention/soongsil-roberta-base-nsmc-ckptfirst_model/checkpoint-20000\n",
            "***** Running evaluation on dev_first dataset (22000 step) *****\n",
            "  Num examples = 9228\n",
            "  Eval Batch size = 128\n"
          ],
          "name": "stdout"
        },
        {
          "output_type": "display_data",
          "data": {
            "text/html": [
              "\n",
              "    <div>\n",
              "        <style>\n",
              "            /* Turns off some styling */\n",
              "            progress {\n",
              "                /* gets rid of default border in Firefox and Opera. */\n",
              "                border: none;\n",
              "                /* Needs to be in here for Safari polyfill so background images work as expected. */\n",
              "                background-size: auto;\n",
              "            }\n",
              "            .progress-bar-interrupted, .progress-bar-interrupted::-webkit-progress-bar {\n",
              "                background: #F44336;\n",
              "            }\n",
              "        </style>\n",
              "      <progress value='73' class='' max='73' style='width:300px; height:20px; vertical-align: middle;'></progress>\n",
              "      100.00% [73/73 00:18<00:00]\n",
              "    </div>\n",
              "    "
            ],
            "text/plain": [
              "<IPython.core.display.HTML object>"
            ]
          },
          "metadata": {
            "tags": []
          }
        },
        {
          "output_type": "stream",
          "text": [
            "***** Eval results on dev_first dataset *****\n",
            "  acc = 0.7605114867793672\n",
            "  지금까지 average_eval_loss = 1.0856292737673408\n",
            " Saving model checkpoint to /content/drive/MyDrive/intention/soongsil-roberta-base-nsmc-ckptfirst_model/checkpoint-22000\n",
            "***** Running evaluation on dev_first dataset (24000 step) *****\n",
            "  Num examples = 9228\n",
            "  Eval Batch size = 128\n"
          ],
          "name": "stdout"
        },
        {
          "output_type": "display_data",
          "data": {
            "text/html": [
              "\n",
              "    <div>\n",
              "        <style>\n",
              "            /* Turns off some styling */\n",
              "            progress {\n",
              "                /* gets rid of default border in Firefox and Opera. */\n",
              "                border: none;\n",
              "                /* Needs to be in here for Safari polyfill so background images work as expected. */\n",
              "                background-size: auto;\n",
              "            }\n",
              "            .progress-bar-interrupted, .progress-bar-interrupted::-webkit-progress-bar {\n",
              "                background: #F44336;\n",
              "            }\n",
              "        </style>\n",
              "      <progress value='73' class='' max='73' style='width:300px; height:20px; vertical-align: middle;'></progress>\n",
              "      100.00% [73/73 00:17<00:00]\n",
              "    </div>\n",
              "    "
            ],
            "text/plain": [
              "<IPython.core.display.HTML object>"
            ]
          },
          "metadata": {
            "tags": []
          }
        },
        {
          "output_type": "stream",
          "text": [
            "***** Eval results on dev_first dataset *****\n",
            "  acc = 0.7600780234070221\n",
            "  지금까지 average_eval_loss = 1.093675236179404\n",
            " Saving model checkpoint to /content/drive/MyDrive/intention/soongsil-roberta-base-nsmc-ckptfirst_model/checkpoint-24000\n",
            "***** Running evaluation on dev_first dataset (26000 step) *****\n",
            "  Num examples = 9228\n",
            "  Eval Batch size = 128\n"
          ],
          "name": "stdout"
        },
        {
          "output_type": "display_data",
          "data": {
            "text/html": [
              "\n",
              "    <div>\n",
              "        <style>\n",
              "            /* Turns off some styling */\n",
              "            progress {\n",
              "                /* gets rid of default border in Firefox and Opera. */\n",
              "                border: none;\n",
              "                /* Needs to be in here for Safari polyfill so background images work as expected. */\n",
              "                background-size: auto;\n",
              "            }\n",
              "            .progress-bar-interrupted, .progress-bar-interrupted::-webkit-progress-bar {\n",
              "                background: #F44336;\n",
              "            }\n",
              "        </style>\n",
              "      <progress value='73' class='' max='73' style='width:300px; height:20px; vertical-align: middle;'></progress>\n",
              "      100.00% [73/73 00:18<00:00]\n",
              "    </div>\n",
              "    "
            ],
            "text/plain": [
              "<IPython.core.display.HTML object>"
            ]
          },
          "metadata": {
            "tags": []
          }
        },
        {
          "output_type": "stream",
          "text": [
            "***** Eval results on dev_first dataset *****\n",
            "  acc = 0.7606198526224534\n",
            "  지금까지 average_eval_loss = 1.0952509947835583\n",
            " Saving model checkpoint to /content/drive/MyDrive/intention/soongsil-roberta-base-nsmc-ckptfirst_model/checkpoint-26000\n"
          ],
          "name": "stdout"
        }
      ]
    },
    {
      "cell_type": "code",
      "metadata": {
        "id": "blBc0iB8DTHH",
        "colab": {
          "base_uri": "https://localhost:8080/"
        },
        "outputId": "471d378a-dc00-41b8-f795-05f5a25110ef"
      },
      "source": [
        "print(f\"global_step = {global_step}, average loss = {tr_loss}\")"
      ],
      "execution_count": null,
      "outputs": [
        {
          "output_type": "stream",
          "text": [
            "global_step = 26161, average loss = 0.852969992514259\n"
          ],
          "name": "stdout"
        }
      ]
    },
    {
      "cell_type": "markdown",
      "metadata": {
        "id": "mBoT4893yxDH"
      },
      "source": [
        "- test 예측 (inference)"
      ]
    },
    {
      "cell_type": "code",
      "metadata": {
        "id": "dJeM4lVXGLLK"
      },
      "source": [
        "#### 모델 1 훈련 결과로 Inference Prediction 하는 코드\n",
        "\n",
        "\n",
        "\n",
        "\n"
      ],
      "execution_count": null,
      "outputs": []
    },
    {
      "cell_type": "markdown",
      "metadata": {
        "id": "kTpNLLM-F-tV"
      },
      "source": [
        "# ☆★☆★☆ 두번째 모델 ☆★☆★☆"
      ]
    },
    {
      "cell_type": "markdown",
      "metadata": {
        "id": "LMqdHYBYKyao"
      },
      "source": [
        "##Model Load (모델2 용)\n"
      ]
    },
    {
      "cell_type": "code",
      "metadata": {
        "colab": {
          "base_uri": "https://localhost:8080/"
        },
        "id": "6pBXvG5ZKyao",
        "outputId": "e0c744e4-527e-4ea1-b408-a64722016617"
      },
      "source": [
        "# 해당 모델에서 쓰일 label_list 설정해주기\n",
        "label_list_second = (train_second['label']).unique() # train 데이터만 학습에 사용하므로\n",
        "\n",
        "\n",
        "config = AutoConfig.from_pretrained(\n",
        "    args.model_name_or_path,\n",
        "    num_labels_second= len(class_del_list), ## 변경 !!\n",
        "    id2label={str(i): label for i, label in enumerate(label_list_second)},\n",
        "    label2id={label: i for i, label in enumerate(label_list_second)},\n",
        "    )\n",
        "tokenizer = AutoTokenizer.from_pretrained(\n",
        "    args.model_name_or_path, \n",
        "    do_lower_case=args.do_lower_case\n",
        "    )\n",
        "model = AutoModelForSequenceClassification.from_pretrained(\n",
        "    args.model_name_or_path,\n",
        "    config=config\n",
        "    )\n",
        "model.to(args.device)\n",
        "print(\"Finish\")\n"
      ],
      "execution_count": null,
      "outputs": [
        {
          "output_type": "stream",
          "text": [
            "Some weights of the model checkpoint at jason9693/soongsil-roberta-base were not used when initializing RobertaForSequenceClassification: ['lm_head.bias', 'lm_head.dense.weight', 'lm_head.dense.bias', 'lm_head.layer_norm.weight', 'lm_head.layer_norm.bias', 'lm_head.decoder.weight', 'lm_head.decoder.bias']\n",
            "- This IS expected if you are initializing RobertaForSequenceClassification from the checkpoint of a model trained on another task or with another architecture (e.g. initializing a BertForSequenceClassification model from a BertForPretraining model).\n",
            "- This IS NOT expected if you are initializing RobertaForSequenceClassification from the checkpoint of a model that you expect to be exactly identical (initializing a BertForSequenceClassification model from a BertForSequenceClassification model).\n",
            "Some weights of RobertaForSequenceClassification were not initialized from the model checkpoint at jason9693/soongsil-roberta-base and are newly initialized: ['classifier.dense.weight', 'classifier.dense.bias', 'classifier.out_proj.weight', 'classifier.out_proj.bias']\n",
            "You should probably TRAIN this model on a down-stream task to be able to use it for predictions and inference.\n"
          ],
          "name": "stderr"
        },
        {
          "output_type": "stream",
          "text": [
            "Finish\n"
          ],
          "name": "stdout"
        }
      ]
    },
    {
      "cell_type": "markdown",
      "metadata": {
        "id": "fwmPcRK_lJtV"
      },
      "source": [
        "## 모델 2 Tokenizing"
      ]
    },
    {
      "cell_type": "code",
      "metadata": {
        "id": "kqK2yQ1BfCH4"
      },
      "source": [
        "def load_data_second(tokenizer, mode):\n",
        "  \n",
        "  print(f\"Creating features from dataset file at '{args.data_dir}'\")\n",
        "  \n",
        "  # 1. Read file\n",
        "  file_to_read = None\n",
        "  if mode == \"train_first\":\n",
        "    file_to_read = args.train_first_file\n",
        "  elif mode == \"train_second\":\n",
        "    file_to_read = args.train_second_file\n",
        "\n",
        "\n",
        "  elif mode == \"dev_first\":\n",
        "    file_to_read = args.dev_first_file\n",
        "  elif mode == \"dev_second\":\n",
        "    file_to_read = args.dev_second_file\n",
        "\n",
        "\n",
        "  \n",
        "  input_path = os.path.join(args.data_dir, args.task, file_to_read)\n",
        "  print(f\"LOOKING AT {input_path}\")\n",
        "  with open(input_path, \"r\", encoding=\"utf-8\") as f:\n",
        "    lines = []\n",
        "    for line in f:\n",
        "      #print(line.strip()))\n",
        "      lines.append(line.strip())\n",
        "\n",
        "\n",
        "  # 2. Split line to data\n",
        "  texts = []\n",
        "  label_map = {label: i for i, label in enumerate(label_list_second)}\n",
        "  labels = []\n",
        "  for (i, line) in enumerate(lines[1:]): #[1:]\n",
        "    line = line.split(\"\\t\")\n",
        "    if len(line) != 3:\n",
        "      print(f\"Error {line}\")\n",
        "      continue\n",
        "    text_a = line[1]\n",
        "    if text_a == \"\":\n",
        "      continue    \n",
        "    if i % 10000 ==0:\n",
        "      print(f\"[{i}] {line}\")\n",
        "\n",
        "    # Text Data\n",
        "    texts.append({\n",
        "        \"text_a\": text_a\n",
        "    })\n",
        "    # Label\n",
        "    labels.append(label_map[line[2]])\n",
        "    \n",
        "\n",
        "  # 3. Convert text data to feature\n",
        "  batch_encoding = tokenizer.batch_encode_plus(\n",
        "      [(text[\"text_a\"]) for text in texts],\n",
        "      max_length=args.max_seq_len,\n",
        "      padding=\"max_length\",\n",
        "      add_special_tokens=True,\n",
        "      truncation=True,\n",
        "  )\n",
        "\n",
        "  features = []\n",
        "  for i in range(len(texts)):\n",
        "    input = {k: batch_encoding[k][i] for k in  batch_encoding}\n",
        "    if \"token_type_ids\" not in input:\n",
        "      input[\"token_type_ids\"] = [0] * len(input[\"input_ids\"])\n",
        "    features.append(input)\n",
        "\n",
        "  for i, feature in enumerate(features[:5]):\n",
        "    print(\"*** Example ***\")\n",
        "    print(\"input_ids: {}\".format(\" \".join([str(x) for x in feature[\"input_ids\"]])))\n",
        "    print(\"attention_mask: {}\".format(\" \".join([str(x) for x in feature[\"attention_mask\"]])))\n",
        "    print(\"token_type_ids: {}\".format(\" \".join([str(x) for x in feature[\"token_type_ids\"]])))\n",
        "    print(\"label: {}\".format(labels[i]))\n",
        "\n",
        "  # Convert feature to dataset\n",
        "  all_input_ids = torch.tensor([f[\"input_ids\"] for f in features], dtype=torch.long)\n",
        "  all_attention_mask = torch.tensor([f[\"attention_mask\"] for f in features], dtype=torch.long)\n",
        "  all_token_type_ids = torch.tensor([f[\"token_type_ids\"] for f in features], dtype=torch.long)\n",
        "  all_labels = torch.tensor(labels, dtype=torch.long)\n",
        "\n",
        "  dataset = TensorDataset(all_input_ids, all_attention_mask, all_token_type_ids, all_labels)\n",
        "  return dataset\n"
      ],
      "execution_count": null,
      "outputs": []
    },
    {
      "cell_type": "markdown",
      "metadata": {
        "id": "W-OT_nzuKyaq"
      },
      "source": [
        "`train_dataset`은 train용 데이터셋\n",
        "\n",
        "`dev_dataset`은 validation용 데이터셋\n",
        "\n",
        "`test_dataset`은 evaluate용 데이터셋\n"
      ]
    },
    {
      "cell_type": "code",
      "metadata": {
        "colab": {
          "base_uri": "https://localhost:8080/"
        },
        "id": "1ZqP64WCKyaq",
        "outputId": "5bfd354c-53da-40ed-ff6a-757bb3103e98"
      },
      "source": [
        "# Ex) load_data(tokenizer, \"모드 이름(train/dev/test)\")\n",
        "\n",
        "train_dataset_second = load_data_second(tokenizer, \"train_second\") "
      ],
      "execution_count": null,
      "outputs": [
        {
          "output_type": "stream",
          "text": [
            "Creating features from dataset file at '/content/drive/MyDrive/intention/'\n",
            "LOOKING AT /content/drive/MyDrive/intention/train2_second.txt\n",
            "[0] ['1200', '슬슬 더우니 시트 온도 낮춰.', '5.차량제어-좌석제어-좌석온도내리기']\n",
            "[10000] ['31515', '멀리 컴퓨터만 전원 켤게.', '3.플러그-컴퓨터플러그-전원켜기']\n",
            "[20000] ['60763', '히터 온도 이십 도로 맞는.', '2.공조제어-차량히터-온도조절']\n",
            "*** Example ***\n",
            "input_ids: 0 3065 3065 582 9828 487 634 1479 312 2568 2852 18 2 1 1 1 1 1 1 1 1 1 1 1 1 1 1 1 1 1 1 1 1 1 1 1\n",
            "attention_mask: 1 1 1 1 1 1 1 1 1 1 1 1 1 0 0 0 0 0 0 0 0 0 0 0 0 0 0 0 0 0 0 0 0 0 0 0\n",
            "token_type_ids: 0 0 0 0 0 0 0 0 0 0 0 0 0 0 0 0 0 0 0 0 0 0 0 0 0 0 0 0 0 0 0 0 0 0 0 0\n",
            "label: 0\n",
            "*** Example ***\n",
            "input_ids: 0 357 634 1256 2904 6355 2568 8300 13069 18 2 1 1 1 1 1 1 1 1 1 1 1 1 1 1 1 1 1 1 1 1 1 1 1 1 1\n",
            "attention_mask: 1 1 1 1 1 1 1 1 1 1 1 0 0 0 0 0 0 0 0 0 0 0 0 0 0 0 0 0 0 0 0 0 0 0 0 0\n",
            "token_type_ids: 0 0 0 0 0 0 0 0 0 0 0 0 0 0 0 0 0 0 0 0 0 0 0 0 0 0 0 0 0 0 0 0 0 0 0 0\n",
            "label: 0\n",
            "*** Example ***\n",
            "input_ids: 0 2250 1299 898 895 610 1479 3431 2568 321 580 18 2 1 1 1 1 1 1 1 1 1 1 1 1 1 1 1 1 1 1 1 1 1 1 1\n",
            "attention_mask: 1 1 1 1 1 1 1 1 1 1 1 1 1 0 0 0 0 0 0 0 0 0 0 0 0 0 0 0 0 0 0 0 0 0 0 0\n",
            "token_type_ids: 0 0 0 0 0 0 0 0 0 0 0 0 0 0 0 0 0 0 0 0 0 0 0 0 0 0 0 0 0 0 0 0 0 0 0 0\n",
            "label: 0\n",
            "*** Example ***\n",
            "input_ids: 0 357 634 1479 312 2568 321 398 18 2 1 1 1 1 1 1 1 1 1 1 1 1 1 1 1 1 1 1 1 1 1 1 1 1 1 1\n",
            "attention_mask: 1 1 1 1 1 1 1 1 1 1 0 0 0 0 0 0 0 0 0 0 0 0 0 0 0 0 0 0 0 0 0 0 0 0 0 0\n",
            "token_type_ids: 0 0 0 0 0 0 0 0 0 0 0 0 0 0 0 0 0 0 0 0 0 0 0 0 0 0 0 0 0 0 0 0 0 0 0 0\n",
            "label: 0\n",
            "*** Example ***\n",
            "input_ids: 0 6723 333 1479 312 414 6379 2194 308 35 2 1 1 1 1 1 1 1 1 1 1 1 1 1 1 1 1 1 1 1 1 1 1 1 1 1\n",
            "attention_mask: 1 1 1 1 1 1 1 1 1 1 1 0 0 0 0 0 0 0 0 0 0 0 0 0 0 0 0 0 0 0 0 0 0 0 0 0\n",
            "token_type_ids: 0 0 0 0 0 0 0 0 0 0 0 0 0 0 0 0 0 0 0 0 0 0 0 0 0 0 0 0 0 0 0 0 0 0 0 0\n",
            "label: 0\n"
          ],
          "name": "stdout"
        }
      ]
    },
    {
      "cell_type": "code",
      "metadata": {
        "colab": {
          "base_uri": "https://localhost:8080/"
        },
        "id": "MNjYH2fFKyar",
        "outputId": "336d1ae0-7176-4018-d48d-000e18d0671e"
      },
      "source": [
        "dev_dataset_second = load_data_second(tokenizer, \"dev_second\")"
      ],
      "execution_count": null,
      "outputs": [
        {
          "output_type": "stream",
          "text": [
            "Creating features from dataset file at '/content/drive/MyDrive/intention/'\n",
            "LOOKING AT /content/drive/MyDrive/intention/dev2_second.txt\n",
            "[0] ['141', '더워서 좌석 온도 좀만 내려.', '5.차량제어-좌석제어-좌석온도내리기']\n",
            "*** Example ***\n",
            "input_ids: 0 642 2263 1299 898 1479 312 612 379 2194 18 2 1 1 1 1 1 1 1 1 1 1 1 1 1 1 1 1 1 1 1 1 1 1 1 1\n",
            "attention_mask: 1 1 1 1 1 1 1 1 1 1 1 1 0 0 0 0 0 0 0 0 0 0 0 0 0 0 0 0 0 0 0 0 0 0 0 0\n",
            "token_type_ids: 0 0 0 0 0 0 0 0 0 0 0 0 0 0 0 0 0 0 0 0 0 0 0 0 0 0 0 0 0 0 0 0 0 0 0 0\n",
            "label: 0\n",
            "*** Example ***\n",
            "input_ids: 0 6723 898 4299 6564 487 634 2472 11211 2014 18 2 1 1 1 1 1 1 1 1 1 1 1 1 1 1 1 1 1 1 1 1 1 1 1 1\n",
            "attention_mask: 1 1 1 1 1 1 1 1 1 1 1 1 0 0 0 0 0 0 0 0 0 0 0 0 0 0 0 0 0 0 0 0 0 0 0 0\n",
            "token_type_ids: 0 0 0 0 0 0 0 0 0 0 0 0 0 0 0 0 0 0 0 0 0 0 0 0 0 0 0 0 0 0 0 0 0 0 0 0\n",
            "label: 0\n",
            "*** Example ***\n",
            "input_ids: 0 840 398 4186 3638 2376 514 5585 319 18 2 1 1 1 1 1 1 1 1 1 1 1 1 1 1 1 1 1 1 1 1 1 1 1 1 1\n",
            "attention_mask: 1 1 1 1 1 1 1 1 1 1 1 0 0 0 0 0 0 0 0 0 0 0 0 0 0 0 0 0 0 0 0 0 0 0 0 0\n",
            "token_type_ids: 0 0 0 0 0 0 0 0 0 0 0 0 0 0 0 0 0 0 0 0 0 0 0 0 0 0 0 0 0 0 0 0 0 0 0 0\n",
            "label: 1\n",
            "*** Example ***\n",
            "input_ids: 0 2250 3347 2376 514 407 2652 18 2 1 1 1 1 1 1 1 1 1 1 1 1 1 1 1 1 1 1 1 1 1 1 1 1 1 1 1\n",
            "attention_mask: 1 1 1 1 1 1 1 1 1 0 0 0 0 0 0 0 0 0 0 0 0 0 0 0 0 0 0 0 0 0 0 0 0 0 0 0\n",
            "token_type_ids: 0 0 0 0 0 0 0 0 0 0 0 0 0 0 0 0 0 0 0 0 0 0 0 0 0 0 0 0 0 0 0 0 0 0 0 0\n",
            "label: 1\n",
            "*** Example ***\n",
            "input_ids: 0 3951 530 299 3638 2376 514 2652 18 2 1 1 1 1 1 1 1 1 1 1 1 1 1 1 1 1 1 1 1 1 1 1 1 1 1 1\n",
            "attention_mask: 1 1 1 1 1 1 1 1 1 1 0 0 0 0 0 0 0 0 0 0 0 0 0 0 0 0 0 0 0 0 0 0 0 0 0 0\n",
            "token_type_ids: 0 0 0 0 0 0 0 0 0 0 0 0 0 0 0 0 0 0 0 0 0 0 0 0 0 0 0 0 0 0 0 0 0 0 0 0\n",
            "label: 1\n"
          ],
          "name": "stdout"
        }
      ]
    },
    {
      "cell_type": "markdown",
      "metadata": {
        "id": "U-NEL7lbiV6f"
      },
      "source": [
        "# Finetuning"
      ]
    },
    {
      "cell_type": "markdown",
      "metadata": {
        "id": "yXhtJe4WiV6i"
      },
      "source": [
        "특정 Dataset의 accuracy를 확인하는 코드"
      ]
    },
    {
      "cell_type": "code",
      "metadata": {
        "id": "q79pkdG0iV6j"
      },
      "source": [
        "# evalute() 함수 정의\n",
        "\n",
        "def evaluate(_model, _eval_dataset, mode, _global_step=None):\n",
        "  results = {}\n",
        "  eval_sampler = SequentialSampler(_eval_dataset)\n",
        "  eval_dataloader = DataLoader(_eval_dataset, sampler=eval_sampler, batch_size=args.eval_batch_size)\n",
        "\n",
        "  # Eval!\n",
        "  if _global_step != None:\n",
        "    print(f\"***** Running evaluation on {mode} dataset ({_global_step} step) *****\")\n",
        "  else:\n",
        "    print(f\"***** Running evaluation on {mode} dataset *****\")\n",
        "  print(f\"  Num examples = {len(_eval_dataset)}\")\n",
        "  print(f\"  Eval Batch size = {args.eval_batch_size}\")\n",
        "  eval_loss = 0.0\n",
        "  nb_eval_steps = 0\n",
        "  preds = None\n",
        "  out_label_ids = None\n",
        "\n",
        "  # Dataloader [for]\n",
        "  for batch in progress_bar(eval_dataloader):\n",
        "    _model.eval()\n",
        "    batch = tuple(t.to(args.device) for t in batch)\n",
        "\n",
        "    with torch.no_grad():\n",
        "      inputs = {\n",
        "          \"input_ids\": batch[0], # 'id'\n",
        "          \"attention_mask\": batch[1], # 'document'\n",
        "          \"labels\": batch[3] # class 'labels'\n",
        "      }\n",
        "      if args.model_type not in [\"distilkobert\", \"xlm-roberta\"]:\n",
        "        inputs[\"token_type_ids\"] = batch[2]  # Distilkobert, XLM-Roberta don't use segment_ids\n",
        "      outputs = _model(**inputs)\n",
        "      tmp_eval_loss, logits = outputs[:2]\n",
        "\n",
        "      eval_loss += tmp_eval_loss.mean().item()\n",
        "    nb_eval_steps += 1\n",
        "    if preds is None:\n",
        "      preds = logits.detach().cpu().numpy()\n",
        "      out_label_ids = inputs[\"labels\"].detach().cpu().numpy()\n",
        "    else:\n",
        "      preds = np.append(preds, logits.detach().cpu().numpy(), axis=0)\n",
        "      out_label_ids = np.append(out_label_ids, inputs[\"labels\"].detach().cpu().numpy(), axis=0)\n",
        "  # End Dataloader [for]\n",
        "\n",
        "  eval_loss = eval_loss / nb_eval_steps\n",
        "  preds = np.argmax(preds, axis=1)\n",
        "  result = {\n",
        "      \"acc\": (out_label_ids == preds).mean(),\n",
        "      #\"tmp_eval_loss\": tmp_eval_loss,\n",
        "      \"지금까지 average_eval_loss\": eval_loss\n",
        "  }\n",
        "  results.update(result)\n",
        "\n",
        "  output_dir_second = os.path.join(args.output_dir_second, mode)\n",
        "  if not os.path.exists(output_dir_second):\n",
        "    os.makedirs(output_dir_second)\n",
        "\n",
        "  output_eval_file = os.path.join(output_dir_second, f\"{mode}-{_global_step}.txt\" if _global_step else f\"{mode}.txt\")\n",
        "  with open(output_eval_file, \"w\") as f_w:\n",
        "    print(f\"***** Eval results on {mode} dataset *****\")\n",
        "    for key in sorted(results.keys()):\n",
        "      print(f\"  {key} = {str(results[key])}\")\n",
        "      f_w.write(f\"  {key} = {str(results[key])}\\n\")\n",
        "\n",
        "  return results"
      ],
      "execution_count": null,
      "outputs": []
    },
    {
      "cell_type": "code",
      "metadata": {
        "id": "-buLIlqviV6l"
      },
      "source": [
        "train_sampler = RandomSampler(train_dataset_second)\n",
        "train_dataloader = DataLoader(train_dataset_second, sampler=train_sampler, batch_size=args.train_batch_size)"
      ],
      "execution_count": null,
      "outputs": []
    },
    {
      "cell_type": "code",
      "metadata": {
        "id": "xg6pDMKciV6l"
      },
      "source": [
        "if args.max_steps > 0:\n",
        "  t_total = args.max_steps\n",
        "  args.num_train_epochs = args.max_steps // (len(train_dataloader) // args.gradient_accumulation_steps) + 1\n",
        "else:\n",
        "  t_total = len(train_dataloader) // args.gradient_accumulation_steps * args.num_train_epochs  "
      ],
      "execution_count": null,
      "outputs": []
    },
    {
      "cell_type": "code",
      "metadata": {
        "id": "JGgbnsXgiV6m"
      },
      "source": [
        "global_step = 1\n",
        "epochs_trained = 0\n",
        "steps_trained_in_current_epoch = 0\n",
        "\n",
        "if os.path.exists(args.output_dir_second):\n",
        "  try:\n",
        "    print(\"  Find latest checkpoint\")\n",
        "    ckpts_suffix = [int(c.split(\"-\")[-1]) for c in os.listdir(args.output_dir_second) if c.startswith(\"checkpoint\")] \n",
        "    global_step = max(ckpts_suffix)\n",
        "    ckpt_path = os.path.join(args.output_dir_second, f\"checkpoint-{global_step}\" )\n",
        "    \n",
        "    model = AutoModelForSequenceClassification.from_pretrained(ckpt_path)\n",
        "    model.to(args.device)\n",
        "\n",
        "    epochs_trained = global_step // (len(train_dataloader) // args.gradient_accumulation_steps)\n",
        "    steps_trained_in_current_epoch = global_step % (len(train_dataloader) // args.gradient_accumulation_steps)\n",
        "    print(\"  Continuing training from checkpoint, will skip to saved global_step\")\n",
        "    print(f\"  Continuing training from epoch {epochs_trained}\")\n",
        "    print(f\"  Continuing training from global step {global_step}\", )\n",
        "    print(f\"  Will skip the first {steps_trained_in_current_epoch} steps in the first epoch\")\n",
        "  except ValueError:\n",
        "    print(\"  Starting fine-tuning.\")"
      ],
      "execution_count": null,
      "outputs": []
    },
    {
      "cell_type": "code",
      "metadata": {
        "id": "fUPYqabKiV6o"
      },
      "source": [
        "# Prepare optimizer and schedule (linear warmup and decay)\n",
        "no_decay = ['bias', 'LayerNorm.weight']\n",
        "optimizer_grouped_parameters = [\n",
        "  {'params': [p for n, p in model.named_parameters() if not any(nd in n for nd in no_decay)],\n",
        "   'weight_decay': args.weight_decay},\n",
        "  {'params': [p for n, p in model.named_parameters() if any(nd in n for nd in no_decay)], \n",
        "   'weight_decay': 0.0}\n",
        "]\n",
        "optimizer = AdamW(optimizer_grouped_parameters, lr=args.learning_rate, eps=args.adam_epsilon)\n",
        "scheduler = get_linear_schedule_with_warmup(optimizer, num_warmup_steps=int(t_total * args.warmup_proportion), num_training_steps=t_total)"
      ],
      "execution_count": null,
      "outputs": []
    },
    {
      "cell_type": "markdown",
      "metadata": {
        "id": "Ed7JsPT2Kyau"
      },
      "source": [
        "##Training"
      ]
    },
    {
      "cell_type": "code",
      "metadata": {
        "colab": {
          "base_uri": "https://localhost:8080/",
          "height": 949
        },
        "id": "9v_r0hbeKyav",
        "outputId": "dbf1952b-80dc-4e65-f6b3-69c0b67d5d5f"
      },
      "source": [
        "# 현경 수정\n",
        "# Train!\n",
        "print(\"***** Running training *****\")\n",
        "print(f\"  Traning model_ = {args.model_name_or_path}\")\n",
        "print(f\"  Num examples = {len(train_dataset_second)}\")\n",
        "print(f\"  Num Epochs = {args.num_train_epochs}\")\n",
        "print(f\"  Total train batch size = {args.train_batch_size}\")\n",
        "print(f\"  Gradient Accumulation steps = {args.gradient_accumulation_steps}\")\n",
        "print(f\"  Total optimization steps = {t_total}\")\n",
        "print(f\"  Logging steps = {args.logging_steps}\")\n",
        "print(f\"  Save steps = { args.save_steps}\")\n",
        "\n",
        "tr_loss = 0.0\n",
        "model.zero_grad()\n",
        "mb = master_bar(range(int(args.num_train_epochs)))\n",
        "for epoch in mb:\n",
        "  if epochs_trained > 0:\n",
        "    epochs_trained -= 1\n",
        "    continue\n",
        "\n",
        "  epoch_iterator = progress_bar(train_dataloader, parent=mb)\n",
        "  # One epoch train\n",
        "  for step, batch in enumerate(epoch_iterator):\n",
        "    # Skip past any already trained steps if resuming training\n",
        "    if steps_trained_in_current_epoch > 0:\n",
        "      steps_trained_in_current_epoch -= 1\n",
        "      continue\n",
        "\n",
        "    model.train()\n",
        "    batch = tuple(t.to(args.device) for t in batch)\n",
        "    inputs = {\n",
        "        \"input_ids\":batch[0],\n",
        "        \"attention_mask\": batch[1],\n",
        "        \"labels\": batch[3]\n",
        "    }\n",
        "\n",
        "    if args.model_type not in [\"distilkobert\", \"xlm-roberta\"]:\n",
        "      inputs[\"token_type_ids\"] = batch[2]  # Distilkobert, XLM-Roberta don't use segment_ids\n",
        "    outputs = model(**inputs)\n",
        "\n",
        "    loss = outputs[0]\n",
        "\n",
        "    if args.gradient_accumulation_steps > 1:\n",
        "      loss = loss / args.gradient_accumulation_steps\n",
        "\n",
        "    loss.backward()\n",
        "    tr_loss += loss.item()\n",
        "    # Accumulation \n",
        "    if (step + 1) % args.gradient_accumulation_steps == 0 or (\n",
        "        len(train_dataloader) <= args.gradient_accumulation_steps \n",
        "        and (step + 1) == len(train_dataloader)\n",
        "    ):\n",
        "      torch.nn.utils.clip_grad_norm(model.parameters(), args.max_grad_norm)\n",
        "\n",
        "      optimizer.step()\n",
        "      scheduler.step()\n",
        "      model.zero_grad()\n",
        "      global_step += 1\n",
        "\n",
        "      # Evaluate \n",
        "      if args.logging_steps > 0 and global_step % args.logging_steps == 0:\n",
        "        if args.evaluate_test_during_training:\n",
        "          evaluate(model, dev_dataset_second, mode=\"dev_second\", _global_step=global_step)\n",
        "        else:\n",
        "          evaluate(model, test_dataset, mode=\"test\", _global_step=global_step)\n",
        "      # End Evaluate [if]\n",
        "\n",
        "      # Save model checkpoint\n",
        "      if args.save_steps > 0 and global_step % args.save_steps == 0:\n",
        "        output_dir_second = os.path.join(args.output_dir_second, f\"checkpoint-{global_step}\")\n",
        "        if not os.path.exists(output_dir_second):\n",
        "          os.makedirs(output_dir_second)\n",
        "        model_to_save = model.module if hasattr(model, \"module\") else model\n",
        "        model_to_save.save_pretrained(output_dir_second)\n",
        "\n",
        "        torch.save(args, os.path.join(output_dir_second, \"training_args.bin\"))\n",
        "        print(f\" Saving model checkpoint to {output_dir_second}\")\n",
        "\n",
        "        if args.save_optimizer:\n",
        "          torch.save(optimizer.state_dict(), os.path.join(output_dir_second, \"optimizer.pt\"))\n",
        "          torch.save(scheduler.state_dict(), os.path.join(output_dir_second, \"scheduler.pt\"))\n",
        "      # End Save model [if]\n",
        "    # End Accumulation [if]\n",
        "    \n",
        "    if args.max_steps > 0 and global_step > args.max_steps:\n",
        "      break\n",
        "  # End One epoch train [for]\n",
        "  mb.write(\"Epoch {} done\".format(epoch + 1))\n",
        "\n",
        "  if args.max_steps > 0 and global_step > args.max_steps:\n",
        "    break \n",
        "tr_loss = tr_loss / global_step # 평균 train_loss 출력\n"
      ],
      "execution_count": null,
      "outputs": [
        {
          "output_type": "stream",
          "text": [
            "***** Running training *****\n",
            "  Traning model_ = jason9693/soongsil-roberta-base\n",
            "  Num examples = 27867\n",
            "  Num Epochs = 10\n",
            "  Total train batch size = 32\n",
            "  Gradient Accumulation steps = 1\n",
            "  Total optimization steps = 8710\n",
            "  Logging steps = 2000\n",
            "  Save steps = 2000\n"
          ],
          "name": "stdout"
        },
        {
          "output_type": "display_data",
          "data": {
            "text/html": [
              "Epoch 1 done<p>Epoch 2 done<p>Epoch 3 done<p>Epoch 4 done<p>Epoch 5 done<p>Epoch 6 done<p>Epoch 7 done<p>Epoch 8 done<p>Epoch 9 done<p>Epoch 10 done"
            ],
            "text/plain": [
              "<IPython.core.display.HTML object>"
            ]
          },
          "metadata": {
            "tags": []
          }
        },
        {
          "output_type": "stream",
          "text": [
            "/usr/local/lib/python3.6/dist-packages/ipykernel_launcher.py:53: UserWarning: torch.nn.utils.clip_grad_norm is now deprecated in favor of torch.nn.utils.clip_grad_norm_.\n"
          ],
          "name": "stderr"
        },
        {
          "output_type": "stream",
          "text": [
            "***** Running evaluation on dev_second dataset (2000 step) *****\n",
            "  Num examples = 2763\n",
            "  Eval Batch size = 128\n"
          ],
          "name": "stdout"
        },
        {
          "output_type": "display_data",
          "data": {
            "text/html": [
              "\n",
              "    <div>\n",
              "        <style>\n",
              "            /* Turns off some styling */\n",
              "            progress {\n",
              "                /* gets rid of default border in Firefox and Opera. */\n",
              "                border: none;\n",
              "                /* Needs to be in here for Safari polyfill so background images work as expected. */\n",
              "                background-size: auto;\n",
              "            }\n",
              "            .progress-bar-interrupted, .progress-bar-interrupted::-webkit-progress-bar {\n",
              "                background: #F44336;\n",
              "            }\n",
              "        </style>\n",
              "      <progress value='22' class='' max='22' style='width:300px; height:20px; vertical-align: middle;'></progress>\n",
              "      100.00% [22/22 00:05<00:00]\n",
              "    </div>\n",
              "    "
            ],
            "text/plain": [
              "<IPython.core.display.HTML object>"
            ]
          },
          "metadata": {
            "tags": []
          }
        },
        {
          "output_type": "stream",
          "text": [
            "***** Eval results on dev_second dataset *****\n",
            "  acc = 0.666304741223308\n",
            "  지금까지 average_eval_loss = 1.3746851899407126\n",
            " Saving model checkpoint to /content/drive/MyDrive/intention/soongsil-roberta-base-nsmc-ckptsecond_model/checkpoint-2000\n",
            "***** Running evaluation on dev_second dataset (4000 step) *****\n",
            "  Num examples = 2763\n",
            "  Eval Batch size = 128\n"
          ],
          "name": "stdout"
        },
        {
          "output_type": "display_data",
          "data": {
            "text/html": [
              "\n",
              "    <div>\n",
              "        <style>\n",
              "            /* Turns off some styling */\n",
              "            progress {\n",
              "                /* gets rid of default border in Firefox and Opera. */\n",
              "                border: none;\n",
              "                /* Needs to be in here for Safari polyfill so background images work as expected. */\n",
              "                background-size: auto;\n",
              "            }\n",
              "            .progress-bar-interrupted, .progress-bar-interrupted::-webkit-progress-bar {\n",
              "                background: #F44336;\n",
              "            }\n",
              "        </style>\n",
              "      <progress value='22' class='' max='22' style='width:300px; height:20px; vertical-align: middle;'></progress>\n",
              "      100.00% [22/22 00:05<00:00]\n",
              "    </div>\n",
              "    "
            ],
            "text/plain": [
              "<IPython.core.display.HTML object>"
            ]
          },
          "metadata": {
            "tags": []
          }
        },
        {
          "output_type": "stream",
          "text": [
            "***** Eval results on dev_second dataset *****\n",
            "  acc = 0.7158885269634455\n",
            "  지금까지 average_eval_loss = 1.168307450684634\n",
            " Saving model checkpoint to /content/drive/MyDrive/intention/soongsil-roberta-base-nsmc-ckptsecond_model/checkpoint-4000\n",
            "***** Running evaluation on dev_second dataset (6000 step) *****\n",
            "  Num examples = 2763\n",
            "  Eval Batch size = 128\n"
          ],
          "name": "stdout"
        },
        {
          "output_type": "display_data",
          "data": {
            "text/html": [
              "\n",
              "    <div>\n",
              "        <style>\n",
              "            /* Turns off some styling */\n",
              "            progress {\n",
              "                /* gets rid of default border in Firefox and Opera. */\n",
              "                border: none;\n",
              "                /* Needs to be in here for Safari polyfill so background images work as expected. */\n",
              "                background-size: auto;\n",
              "            }\n",
              "            .progress-bar-interrupted, .progress-bar-interrupted::-webkit-progress-bar {\n",
              "                background: #F44336;\n",
              "            }\n",
              "        </style>\n",
              "      <progress value='22' class='' max='22' style='width:300px; height:20px; vertical-align: middle;'></progress>\n",
              "      100.00% [22/22 00:05<00:00]\n",
              "    </div>\n",
              "    "
            ],
            "text/plain": [
              "<IPython.core.display.HTML object>"
            ]
          },
          "metadata": {
            "tags": []
          }
        },
        {
          "output_type": "stream",
          "text": [
            "***** Eval results on dev_second dataset *****\n",
            "  acc = 0.7198697068403909\n",
            "  지금까지 average_eval_loss = 1.1287279508330605\n",
            " Saving model checkpoint to /content/drive/MyDrive/intention/soongsil-roberta-base-nsmc-ckptsecond_model/checkpoint-6000\n",
            "***** Running evaluation on dev_second dataset (8000 step) *****\n",
            "  Num examples = 2763\n",
            "  Eval Batch size = 128\n"
          ],
          "name": "stdout"
        },
        {
          "output_type": "display_data",
          "data": {
            "text/html": [
              "\n",
              "    <div>\n",
              "        <style>\n",
              "            /* Turns off some styling */\n",
              "            progress {\n",
              "                /* gets rid of default border in Firefox and Opera. */\n",
              "                border: none;\n",
              "                /* Needs to be in here for Safari polyfill so background images work as expected. */\n",
              "                background-size: auto;\n",
              "            }\n",
              "            .progress-bar-interrupted, .progress-bar-interrupted::-webkit-progress-bar {\n",
              "                background: #F44336;\n",
              "            }\n",
              "        </style>\n",
              "      <progress value='22' class='' max='22' style='width:300px; height:20px; vertical-align: middle;'></progress>\n",
              "      100.00% [22/22 00:05<00:00]\n",
              "    </div>\n",
              "    "
            ],
            "text/plain": [
              "<IPython.core.display.HTML object>"
            ]
          },
          "metadata": {
            "tags": []
          }
        },
        {
          "output_type": "stream",
          "text": [
            "***** Eval results on dev_second dataset *****\n",
            "  acc = 0.7180600796235975\n",
            "  지금까지 average_eval_loss = 1.1162964512001385\n",
            " Saving model checkpoint to /content/drive/MyDrive/intention/soongsil-roberta-base-nsmc-ckptsecond_model/checkpoint-8000\n"
          ],
          "name": "stdout"
        }
      ]
    },
    {
      "cell_type": "code",
      "metadata": {
        "colab": {
          "base_uri": "https://localhost:8080/"
        },
        "id": "ZU-_CBCHKyaw",
        "outputId": "cb16f0c0-5d20-459f-acbf-e28653aadfb3"
      },
      "source": [
        "print(f\"global_step = {global_step}, average loss = {tr_loss}\")"
      ],
      "execution_count": null,
      "outputs": [
        {
          "output_type": "stream",
          "text": [
            "global_step = 8711, average loss = 0.6697498015557334\n"
          ],
          "name": "stdout"
        }
      ]
    },
    {
      "cell_type": "markdown",
      "metadata": {
        "id": "FEHvWnlzwFNh"
      },
      "source": [
        "- test 데이터 예측 (inference)"
      ]
    },
    {
      "cell_type": "code",
      "metadata": {
        "id": "VYQZeV40wEKp"
      },
      "source": [
        "#### 모델 2 훈련 결과로 Inference Prediction 하는 코드\n",
        "\n",
        "\n",
        "\n",
        "\n"
      ],
      "execution_count": null,
      "outputs": []
    },
    {
      "cell_type": "markdown",
      "metadata": {
        "id": "52dptEOr-Bmc"
      },
      "source": [
        "#Evaluate (Inference)\n",
        "(학습 시 저장한) 각 checkpoint에서의 모델의 성능을 확인함\n",
        "\n"
      ]
    },
    {
      "cell_type": "markdown",
      "metadata": {
        "id": "BVXRoclXNuK9"
      },
      "source": [
        "- 평가할 text.txt 데이터 경로 설정"
      ]
    },
    {
      "cell_type": "code",
      "metadata": {
        "id": "8XGYdeMDNtme"
      },
      "source": [
        "input_text = args.data_dir +\"test.txt\""
      ],
      "execution_count": null,
      "outputs": []
    },
    {
      "cell_type": "code",
      "metadata": {
        "id": "gomrX25L9cnB"
      },
      "source": [
        "## 데이터 불러오기\n",
        "test = pd.read_csv(input_text, header=None, names=['document'])"
      ],
      "execution_count": null,
      "outputs": []
    },
    {
      "cell_type": "code",
      "metadata": {
        "colab": {
          "base_uri": "https://localhost:8080/",
          "height": 217
        },
        "id": "LslkMW6PRn7C",
        "outputId": "853700af-03c5-4b57-c1f8-aa045157f5eb"
      },
      "source": [
        "test"
      ],
      "execution_count": null,
      "outputs": [
        {
          "output_type": "execute_result",
          "data": {
            "text/html": [
              "<div>\n",
              "<style scoped>\n",
              "    .dataframe tbody tr th:only-of-type {\n",
              "        vertical-align: middle;\n",
              "    }\n",
              "\n",
              "    .dataframe tbody tr th {\n",
              "        vertical-align: top;\n",
              "    }\n",
              "\n",
              "    .dataframe thead th {\n",
              "        text-align: right;\n",
              "    }\n",
              "</style>\n",
              "<table border=\"1\" class=\"dataframe\">\n",
              "  <thead>\n",
              "    <tr style=\"text-align: right;\">\n",
              "      <th></th>\n",
              "      <th>document</th>\n",
              "    </tr>\n",
              "  </thead>\n",
              "  <tbody>\n",
              "    <tr>\n",
              "      <th>0</th>\n",
              "      <td>내 앞에 있는 차 계속 따라가.</td>\n",
              "    </tr>\n",
              "    <tr>\n",
              "      <th>1</th>\n",
              "      <td>차 따라붙기 가능하냐?</td>\n",
              "    </tr>\n",
              "    <tr>\n",
              "      <th>2</th>\n",
              "      <td>앞차와 제동거리를 유지하면서 따라가 줘.</td>\n",
              "    </tr>\n",
              "    <tr>\n",
              "      <th>3</th>\n",
              "      <td>앞차 따라 안 붙어?</td>\n",
              "    </tr>\n",
              "    <tr>\n",
              "      <th>4</th>\n",
              "      <td>앞에 차 뒤에 붙어줄래?</td>\n",
              "    </tr>\n",
              "    <tr>\n",
              "      <th>5</th>\n",
              "      <td>나의 앞차를 따라 가 주렴.</td>\n",
              "    </tr>\n",
              "  </tbody>\n",
              "</table>\n",
              "</div>"
            ],
            "text/plain": [
              "                 document\n",
              "0       내 앞에 있는 차 계속 따라가.\n",
              "1            차 따라붙기 가능하냐?\n",
              "2  앞차와 제동거리를 유지하면서 따라가 줘.\n",
              "3             앞차 따라 안 붙어?\n",
              "4           앞에 차 뒤에 붙어줄래?\n",
              "5         나의 앞차를 따라 가 주렴."
            ]
          },
          "metadata": {
            "tags": []
          },
          "execution_count": 59
        }
      ]
    },
    {
      "cell_type": "markdown",
      "metadata": {
        "id": "2-qHQIJiRWAf"
      },
      "source": [
        "- test 데이터에 동일한 전처리 과정 적용"
      ]
    },
    {
      "cell_type": "code",
      "metadata": {
        "id": "1IR3XteseQxb",
        "colab": {
          "base_uri": "https://localhost:8080/",
          "height": 217
        },
        "outputId": "05f6169f-9622-4c4a-a85e-85c7a012c4fc"
      },
      "source": [
        "# 혹시 있을 수 있는 결측값 제거\n",
        "test = test.dropna()\n",
        "\n",
        "\n",
        "# 전처리 똑같이 적용\n",
        "test_data_text = list(test['document'])\n",
        "\n",
        "test_clear_text = []\n",
        "\n",
        "\n",
        "for i in range(len(test_data_text)):\n",
        "  test_clear_text.append(test_data_text[i].replace(' 줘', '').replace(' 줄래', '').replace(' 주세요', ''))\n",
        "test['document'] = test_clear_text\n",
        "\n",
        "\n",
        "\n",
        "## 텍스트 정규화 (1) - soynlp 패키지의 emoticon_normalize 적용 (띄어쓰기 2칸인거 -> 1칸으로 변화)\n",
        "for docu1 in test['document']:\n",
        "    docu1 = emoticon_normalize(docu1, num_repeats=3)\n",
        "\n",
        "\n",
        "\n",
        "## 텍스트 정규화 (2) - soyspacing 패키지 CountSpace 적용 (띄어쓰기 오류 교정)\n",
        "for docu1 in test['document']:    \n",
        "    sent_corrected, tags = model_corpus.correct(docu1)\n",
        "    docu1 = sent_corrected\n",
        "\n",
        "\n",
        "\n",
        "test"
      ],
      "execution_count": null,
      "outputs": [
        {
          "output_type": "execute_result",
          "data": {
            "text/html": [
              "<div>\n",
              "<style scoped>\n",
              "    .dataframe tbody tr th:only-of-type {\n",
              "        vertical-align: middle;\n",
              "    }\n",
              "\n",
              "    .dataframe tbody tr th {\n",
              "        vertical-align: top;\n",
              "    }\n",
              "\n",
              "    .dataframe thead th {\n",
              "        text-align: right;\n",
              "    }\n",
              "</style>\n",
              "<table border=\"1\" class=\"dataframe\">\n",
              "  <thead>\n",
              "    <tr style=\"text-align: right;\">\n",
              "      <th></th>\n",
              "      <th>document</th>\n",
              "    </tr>\n",
              "  </thead>\n",
              "  <tbody>\n",
              "    <tr>\n",
              "      <th>0</th>\n",
              "      <td>내 앞에 있는 차 계속 따라가.</td>\n",
              "    </tr>\n",
              "    <tr>\n",
              "      <th>1</th>\n",
              "      <td>차 따라붙기 가능하냐?</td>\n",
              "    </tr>\n",
              "    <tr>\n",
              "      <th>2</th>\n",
              "      <td>앞차와 제동거리를 유지하면서 따라가.</td>\n",
              "    </tr>\n",
              "    <tr>\n",
              "      <th>3</th>\n",
              "      <td>앞차 따라 안 붙어?</td>\n",
              "    </tr>\n",
              "    <tr>\n",
              "      <th>4</th>\n",
              "      <td>앞에 차 뒤에 붙어줄래?</td>\n",
              "    </tr>\n",
              "    <tr>\n",
              "      <th>5</th>\n",
              "      <td>나의 앞차를 따라 가 주렴.</td>\n",
              "    </tr>\n",
              "  </tbody>\n",
              "</table>\n",
              "</div>"
            ],
            "text/plain": [
              "               document\n",
              "0     내 앞에 있는 차 계속 따라가.\n",
              "1          차 따라붙기 가능하냐?\n",
              "2  앞차와 제동거리를 유지하면서 따라가.\n",
              "3           앞차 따라 안 붙어?\n",
              "4         앞에 차 뒤에 붙어줄래?\n",
              "5       나의 앞차를 따라 가 주렴."
            ]
          },
          "metadata": {
            "tags": []
          },
          "execution_count": 61
        }
      ]
    },
    {
      "cell_type": "markdown",
      "metadata": {
        "id": "2Ed2GmC4SOZn"
      },
      "source": [
        "## test 데이터 Tokenizing"
      ]
    },
    {
      "cell_type": "code",
      "metadata": {
        "id": "IzT3km212Ynv"
      },
      "source": [
        "def load_data_test(tokenizer, mode):\n",
        "  \n",
        "  print(f\"Creating features from dataset file at '{args.data_dir}'\")\n",
        "  \n",
        "  # 1. Read file\n",
        "  file_to_read = None\n",
        "  \n",
        "  if mode == \"test\":\n",
        "    file_to_read = args.test_file\n",
        "\n",
        "\n",
        "  \n",
        "  input_path = os.path.join(args.data_dir, args.task, file_to_read)\n",
        "  print(f\"LOOKING AT {input_path}\")\n",
        "  with open(input_path, \"r\", encoding=\"utf-8\") as f:\n",
        "    lines = []\n",
        "    for line in f:\n",
        "      #print(line.strip()))\n",
        "      lines.append(line.strip())\n",
        "\n",
        "\n",
        "  # 2. Split line to data\n",
        "  texts = []\n",
        "  #label_map = {label: i for i, label in enumerate(test['document'])}\n",
        "  #labels = []\n",
        "\n",
        "  for (i, line) in enumerate(lines[1:]): #[1:]\n",
        "    line = line.split(\"\\t\")\n",
        "    #if len(line) != 3:\n",
        "      #print(f\"Error {line}\")\n",
        "      #continue\n",
        "    text_a = line[0]\n",
        "    if text_a == \"\":\n",
        "      continue    \n",
        "    if i % 10000 ==0:\n",
        "      print(f\"[{i}] {line}\")\n",
        "\n",
        "    # Text Data\n",
        "    texts.append({\n",
        "        \"text_a\": text_a\n",
        "    })\n",
        "    # Label\n",
        "    #labels.append(label_map[line[0]]) ##\n",
        "    \n",
        "\n",
        "  # 3. Convert text data to feature\n",
        "  batch_encoding = tokenizer.batch_encode_plus(\n",
        "      [(text[\"text_a\"]) for text in texts],\n",
        "      max_length=args.max_seq_len,\n",
        "      padding=\"max_length\",\n",
        "      add_special_tokens=True,\n",
        "      truncation=True,\n",
        "  )\n",
        "\n",
        "  features = []\n",
        "  for i in range(len(texts)):\n",
        "    input = {k: batch_encoding[k][i] for k in  batch_encoding}\n",
        "    if \"token_type_ids\" not in input:\n",
        "      input[\"token_type_ids\"] = [0] * len(input[\"input_ids\"])\n",
        "    features.append(input)\n",
        "\n",
        "  for i, feature in enumerate(features[:5]):\n",
        "    print(\"*** Example ***\")\n",
        "    print(\"input_ids: {}\".format(\" \".join([str(x) for x in feature[\"input_ids\"]])))\n",
        "    print(\"attention_mask: {}\".format(\" \".join([str(x) for x in feature[\"attention_mask\"]])))\n",
        "    print(\"token_type_ids: {}\".format(\" \".join([str(x) for x in feature[\"token_type_ids\"]])))\n",
        "    #print(\"label: {}\".format(labels[i]))\n",
        "\n",
        "  # Convert feature to dataset\n",
        "  all_input_ids = torch.tensor([f[\"input_ids\"] for f in features], dtype=torch.long)\n",
        "  all_attention_mask = torch.tensor([f[\"attention_mask\"] for f in features], dtype=torch.long)\n",
        "  all_token_type_ids = torch.tensor([f[\"token_type_ids\"] for f in features], dtype=torch.long)\n",
        "  #all_labels = torch.tensor(labels, dtype=torch.long)\n",
        "\n",
        "  #dataset = TensorDataset(all_input_ids, all_attention_mask, all_token_type_ids, all_labels)\n",
        "  dataset = TensorDataset(all_input_ids, all_attention_mask, all_token_type_ids)\n",
        "  return dataset\n"
      ],
      "execution_count": null,
      "outputs": []
    },
    {
      "cell_type": "code",
      "metadata": {
        "id": "z5FFbMIQVHlC"
      },
      "source": [
        "def load_data_test(tokenizer, mode):\n",
        "  \n",
        "  print(f\"Creating features from dataset file at '{args.data_dir}'\")\n",
        "  \n",
        "  # 1. Read file\n",
        "  file_to_read = None\n",
        "  \n",
        "  if mode == \"test\":\n",
        "    file_to_read = args.test_file\n",
        "\n",
        "\n",
        "  \n",
        "  input_path = os.path.join(args.data_dir, args.task, file_to_read)\n",
        "  print(f\"LOOKING AT {input_path}\")\n",
        "  with open(input_path, \"r\", encoding=\"utf-8\") as f:\n",
        "    lines = []\n",
        "    for line in f:\n",
        "      #print(line.strip()))\n",
        "      lines.append(line.strip())\n",
        "\n",
        "\n",
        "  # 2. Split line to data\n",
        "  texts = []\n",
        "  label_map = {label: i for i, label in enumerate(test['document'])}\n",
        "  labels = []\n",
        "\n",
        "  for (i, line) in enumerate(lines[1:]): #[1:]\n",
        "    line = line.split(\"\\t\")\n",
        "    #if len(line) != 3:\n",
        "      #print(f\"Error {line}\")\n",
        "      #continue\n",
        "    text_a = line[0]\n",
        "    if text_a == \"\":\n",
        "      continue    \n",
        "    if i % 10000 ==0:\n",
        "      print(f\"[{i}] {line}\")\n",
        "\n",
        "    # Text Data\n",
        "    texts.append({\n",
        "        \"text_a\": text_a\n",
        "    })\n",
        "    # Label\n",
        "    labels.append(label_map[line[0]]) ##\n",
        "    \n",
        "\n",
        "  # 3. Convert text data to feature\n",
        "  batch_encoding = tokenizer.batch_encode_plus(\n",
        "      [(text[\"text_a\"]) for text in texts],\n",
        "      max_length=args.max_seq_len,\n",
        "      padding=\"max_length\",\n",
        "      add_special_tokens=True,\n",
        "      truncation=True,\n",
        "  )\n",
        "\n",
        "  features = []\n",
        "  for i in range(len(texts)):\n",
        "    input = {k: batch_encoding[k][i] for k in  batch_encoding}\n",
        "    if \"token_type_ids\" not in input:\n",
        "      input[\"token_type_ids\"] = [0] * len(input[\"input_ids\"])\n",
        "    features.append(input)\n",
        "\n",
        "  for i, feature in enumerate(features[:5]):\n",
        "    print(\"*** Example ***\")\n",
        "    print(\"input_ids: {}\".format(\" \".join([str(x) for x in feature[\"input_ids\"]])))\n",
        "    print(\"attention_mask: {}\".format(\" \".join([str(x) for x in feature[\"attention_mask\"]])))\n",
        "    print(\"token_type_ids: {}\".format(\" \".join([str(x) for x in feature[\"token_type_ids\"]])))\n",
        "    #print(\"label: {}\".format(labels[i]))\n",
        "\n",
        "  # Convert feature to dataset\n",
        "  all_input_ids = torch.tensor([f[\"input_ids\"] for f in features], dtype=torch.long)\n",
        "  all_attention_mask = torch.tensor([f[\"attention_mask\"] for f in features], dtype=torch.long)\n",
        "  all_token_type_ids = torch.tensor([f[\"token_type_ids\"] for f in features], dtype=torch.long)\n",
        "  #all_labels = torch.tensor(labels, dtype=torch.long)\n",
        "\n",
        "  #dataset = TensorDataset(all_input_ids, all_attention_mask, all_token_type_ids, all_labels)\n",
        "  dataset = TensorDataset(all_input_ids, all_attention_mask, all_token_type_ids)\n",
        "  return dataset\n"
      ],
      "execution_count": null,
      "outputs": []
    },
    {
      "cell_type": "code",
      "metadata": {
        "id": "HwVjzRLjKsoq",
        "colab": {
          "base_uri": "https://localhost:8080/"
        },
        "outputId": "1c0a3d3c-dd82-4375-fbda-d843185ba19a"
      },
      "source": [
        "# data load 및 토큰화\n",
        "test_dataset = load_data_test(tokenizer, \"test\")"
      ],
      "execution_count": null,
      "outputs": [
        {
          "output_type": "stream",
          "text": [
            "Creating features from dataset file at '/content/drive/MyDrive/intention/'\n",
            "LOOKING AT /content/drive/MyDrive/intention/test.txt\n",
            "[0] ['차 따라붙기 가능하냐?']\n",
            "*** Example ***\n",
            "input_ids: 0 743 1000 573 6992 317 1379 1831 35 2 1 1 1 1 1 1 1 1 1 1 1 1 1 1 1 1 1 1 1 1 1 1 1 1 1 1\n",
            "attention_mask: 1 1 1 1 1 1 1 1 1 1 0 0 0 0 0 0 0 0 0 0 0 0 0 0 0 0 0 0 0 0 0 0 0 0 0 0\n",
            "token_type_ids: 0 0 0 0 0 0 0 0 0 0 0 0 0 0 0 0 0 0 0 0 0 0 0 0 0 0 0 0 0 0 0 0 0 0 0 0\n",
            "*** Example ***\n",
            "input_ids: 0 2250 743 523 542 604 11385 3792 1549 1912 287 3046 18 2 1 1 1 1 1 1 1 1 1 1 1 1 1 1 1 1 1 1 1 1 1 1\n",
            "attention_mask: 1 1 1 1 1 1 1 1 1 1 1 1 1 1 0 0 0 0 0 0 0 0 0 0 0 0 0 0 0 0 0 0 0 0 0 0\n",
            "token_type_ids: 0 0 0 0 0 0 0 0 0 0 0 0 0 0 0 0 0 0 0 0 0 0 0 0 0 0 0 0 0 0 0 0 0 0 0 0\n",
            "*** Example ***\n",
            "input_ids: 0 2250 743 1912 477 7080 35 2 1 1 1 1 1 1 1 1 1 1 1 1 1 1 1 1 1 1 1 1 1 1 1 1 1 1 1 1\n",
            "attention_mask: 1 1 1 1 1 1 1 1 0 0 0 0 0 0 0 0 0 0 0 0 0 0 0 0 0 0 0 0 0 0 0 0 0 0 0 0\n",
            "token_type_ids: 0 0 0 0 0 0 0 0 0 0 0 0 0 0 0 0 0 0 0 0 0 0 0 0 0 0 0 0 0 0 0 0 0 0 0 0\n",
            "*** Example ***\n",
            "input_ids: 0 6211 882 4186 7080 1015 829 35 2 1 1 1 1 1 1 1 1 1 1 1 1 1 1 1 1 1 1 1 1 1 1 1 1 1 1 1\n",
            "attention_mask: 1 1 1 1 1 1 1 1 1 0 0 0 0 0 0 0 0 0 0 0 0 0 0 0 0 0 0 0 0 0 0 0 0 0 0 0\n",
            "token_type_ids: 0 0 0 0 0 0 0 0 0 0 0 0 0 0 0 0 0 0 0 0 0 0 0 0 0 0 0 0 0 0 0 0 0 0 0 0\n",
            "*** Example ***\n",
            "input_ids: 0 9764 1170 5606 1912 398 941 15313 18 2 1 1 1 1 1 1 1 1 1 1 1 1 1 1 1 1 1 1 1 1 1 1 1 1 1 1\n",
            "attention_mask: 1 1 1 1 1 1 1 1 1 1 0 0 0 0 0 0 0 0 0 0 0 0 0 0 0 0 0 0 0 0 0 0 0 0 0 0\n",
            "token_type_ids: 0 0 0 0 0 0 0 0 0 0 0 0 0 0 0 0 0 0 0 0 0 0 0 0 0 0 0 0 0 0 0 0 0 0 0 0\n"
          ],
          "name": "stdout"
        }
      ]
    },
    {
      "cell_type": "markdown",
      "metadata": {
        "id": "odyLSsKIx2x6"
      },
      "source": [
        "# Predict"
      ]
    },
    {
      "cell_type": "code",
      "metadata": {
        "id": "QleNtoRxegyE"
      },
      "source": [
        "## 모델1\n",
        "\n",
        "checkpoints_first = list(\n",
        "      os.path.dirname(c) for c in sorted(glob.glob(args.output_dir_first + \"/**/\" + \"pytorch_model.bin\", recursive=True))\n",
        ")"
      ],
      "execution_count": null,
      "outputs": []
    },
    {
      "cell_type": "code",
      "metadata": {
        "colab": {
          "base_uri": "https://localhost:8080/"
        },
        "id": "bjRaM57CnNDK",
        "outputId": "f8b406a3-f246-4160-e986-7b766894820d"
      },
      "source": [
        "checkpoints_first"
      ],
      "execution_count": null,
      "outputs": [
        {
          "output_type": "execute_result",
          "data": {
            "text/plain": [
              "['/content/drive/MyDrive/intention/soongsil-roberta-base-nsmc-ckptfirst_model/checkpoint-10000',\n",
              " '/content/drive/MyDrive/intention/soongsil-roberta-base-nsmc-ckptfirst_model/checkpoint-12000',\n",
              " '/content/drive/MyDrive/intention/soongsil-roberta-base-nsmc-ckptfirst_model/checkpoint-14000',\n",
              " '/content/drive/MyDrive/intention/soongsil-roberta-base-nsmc-ckptfirst_model/checkpoint-16000',\n",
              " '/content/drive/MyDrive/intention/soongsil-roberta-base-nsmc-ckptfirst_model/checkpoint-18000',\n",
              " '/content/drive/MyDrive/intention/soongsil-roberta-base-nsmc-ckptfirst_model/checkpoint-2000',\n",
              " '/content/drive/MyDrive/intention/soongsil-roberta-base-nsmc-ckptfirst_model/checkpoint-20000',\n",
              " '/content/drive/MyDrive/intention/soongsil-roberta-base-nsmc-ckptfirst_model/checkpoint-22000',\n",
              " '/content/drive/MyDrive/intention/soongsil-roberta-base-nsmc-ckptfirst_model/checkpoint-24000',\n",
              " '/content/drive/MyDrive/intention/soongsil-roberta-base-nsmc-ckptfirst_model/checkpoint-26000',\n",
              " '/content/drive/MyDrive/intention/soongsil-roberta-base-nsmc-ckptfirst_model/checkpoint-4000',\n",
              " '/content/drive/MyDrive/intention/soongsil-roberta-base-nsmc-ckptfirst_model/checkpoint-6000',\n",
              " '/content/drive/MyDrive/intention/soongsil-roberta-base-nsmc-ckptfirst_model/checkpoint-8000']"
            ]
          },
          "metadata": {
            "tags": []
          },
          "execution_count": 70
        }
      ]
    },
    {
      "cell_type": "code",
      "metadata": {
        "id": "cHoL-1fbGVz6"
      },
      "source": [
        "#### 모델 1로 prediction 실행\n",
        "\n",
        "\n"
      ],
      "execution_count": null,
      "outputs": []
    },
    {
      "cell_type": "code",
      "metadata": {
        "id": "eEQK5lY3xLB_"
      },
      "source": [
        "## 모델2\n",
        "\n",
        "checkpoints_first = list(\n",
        "      os.path.dirname(c) for c in sorted(glob.glob(args.output_dir_second + \"/**/\" + \"pytorch_model.bin\", recursive=True))\n",
        ")"
      ],
      "execution_count": null,
      "outputs": []
    },
    {
      "cell_type": "code",
      "metadata": {
        "colab": {
          "base_uri": "https://localhost:8080/"
        },
        "id": "4BcXZ8IQxLCK",
        "outputId": "f8b406a3-f246-4160-e986-7b766894820d"
      },
      "source": [
        "checkpoints_second"
      ],
      "execution_count": null,
      "outputs": [
        {
          "output_type": "execute_result",
          "data": {
            "text/plain": [
              "['/content/drive/MyDrive/intention/soongsil-roberta-base-nsmc-ckptfirst_model/checkpoint-10000',\n",
              " '/content/drive/MyDrive/intention/soongsil-roberta-base-nsmc-ckptfirst_model/checkpoint-12000',\n",
              " '/content/drive/MyDrive/intention/soongsil-roberta-base-nsmc-ckptfirst_model/checkpoint-14000',\n",
              " '/content/drive/MyDrive/intention/soongsil-roberta-base-nsmc-ckptfirst_model/checkpoint-16000',\n",
              " '/content/drive/MyDrive/intention/soongsil-roberta-base-nsmc-ckptfirst_model/checkpoint-18000',\n",
              " '/content/drive/MyDrive/intention/soongsil-roberta-base-nsmc-ckptfirst_model/checkpoint-2000',\n",
              " '/content/drive/MyDrive/intention/soongsil-roberta-base-nsmc-ckptfirst_model/checkpoint-20000',\n",
              " '/content/drive/MyDrive/intention/soongsil-roberta-base-nsmc-ckptfirst_model/checkpoint-22000',\n",
              " '/content/drive/MyDrive/intention/soongsil-roberta-base-nsmc-ckptfirst_model/checkpoint-24000',\n",
              " '/content/drive/MyDrive/intention/soongsil-roberta-base-nsmc-ckptfirst_model/checkpoint-26000',\n",
              " '/content/drive/MyDrive/intention/soongsil-roberta-base-nsmc-ckptfirst_model/checkpoint-4000',\n",
              " '/content/drive/MyDrive/intention/soongsil-roberta-base-nsmc-ckptfirst_model/checkpoint-6000',\n",
              " '/content/drive/MyDrive/intention/soongsil-roberta-base-nsmc-ckptfirst_model/checkpoint-8000']"
            ]
          },
          "metadata": {
            "tags": []
          },
          "execution_count": 70
        }
      ]
    },
    {
      "cell_type": "code",
      "metadata": {
        "id": "QNZfbPuRxXnl"
      },
      "source": [
        "#### 모델 2로 prediction 실행\n",
        "\n",
        "\n"
      ],
      "execution_count": null,
      "outputs": []
    }
  ]
}